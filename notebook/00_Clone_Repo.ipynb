{
  "cells": [
    {
      "attachments": {},
      "cell_type": "markdown",
      "metadata": {
        "id": "zO4ySkfLgBIp"
      },
      "source": [
        "# MMVCのリポジトリをGoogle Driveに保存する\n",
        "\n",
        "ver.2022/12/19\n",
        "\n",
        "MMVC_Trainerのリポジトリと事前学習済みモデルを、Google Driveに保存します。"
      ]
    },
    {
      "cell_type": "markdown",
      "metadata": {
        "id": "T5hplryJhQGB"
      },
      "source": [
        "​"
      ]
    },
    {
      "cell_type": "code",
      "execution_count": null,
      "metadata": {
        "cellView": "form",
        "id": "hdfce8bPkpMB"
      },
      "outputs": [],
      "source": [
        "#@title ## 1 Google Driveをマウント\n",
        "#@markdown **このノートブックで、Google Driveを使用するための設定です。**\n",
        "\n",
        "#@markdown 「警告: このノートブックは Google が作成したものではありません。」といったポップアップが表示された場合、内容を確認して「このまま実行」を選択してください。このノートブックでは、外部へのデータ送信は一切行われません。\n",
        "\n",
        "#@markdown 　「このノートブックに Google ドライブのファイルへのアクセスを許可しますか？」といったポップアップが表示されるので、「Google ドライブに接続」を押下し、google アカウントを選択して、「許可」を選択してください。\n",
        "\n",
        "#@markdown 成功すれば、下記メッセージが出ます。 { display-mode: \"form\" }\n",
        "\n",
        "#@markdown ``` \n",
        "#@markdown Mounted at /content/drive/\n",
        "#@markdown ```\n",
        "\n",
        "from google.colab import drive\n",
        "drive.mount('/content/drive')"
      ]
    },
    {
      "cell_type": "markdown",
      "metadata": {
        "id": "GAGK1P8eiNm5"
      },
      "source": [
        "​"
      ]
    },
    {
      "cell_type": "code",
      "execution_count": null,
      "metadata": {
        "cellView": "form",
        "id": "7yZhO-jgI9k3"
      },
      "outputs": [],
      "source": [
        "#@title ## 2 MMVC_Trainerのクローン\n",
        "#@markdown 以下で指定したディレクトリ上に、MMVC_Trainerというフォルダが作成されます。\n",
        "\n",
        "#@markdown 実行前に、画面右上にあるアカウントのアイコンをクリックして、アカウントを確認してください。\n",
        "\n",
        "#@markdown 成功すると、最後に以下のようなメッセージが表示されます。\n",
        "#@markdown ```\n",
        "#@markdown Checking out files: 100% (902/902), done.\n",
        "#@markdown ```\n",
        "\n",
        "#@markdown ​\n",
        "#@markdown ### Settings\n",
        "directory = \"/content/drive/MyDrive\" #@param {type:\"string\"}\n",
        "\n",
        "%cd $directory\n",
        "!git clone --depth=1 -b v1.3.3.0 https://github.com/stealthinu/MMVC_Trainer/"
      ]
    },
    {
      "cell_type": "markdown",
      "metadata": {
        "id": "V5xVjAYzkAyW"
      },
      "source": [
        "​"
      ]
    },
    {
      "cell_type": "code",
      "execution_count": null,
      "metadata": {
        "cellView": "form",
        "id": "xWRi8E8m4nFV"
      },
      "outputs": [],
      "source": [
        "#@title ## 3 fine_modelのダウンロード\n",
        "#@markdown 事前学習済みのモデルをダウンロードします。\n",
        "\n",
        "!curl -L https://dls.srgr0.com/D_180000.pth --output \"{directory}/MMVC_Trainer/fine_model/D_180000.pth\"\n",
        "!curl -L https://dls.srgr0.com/G_180000.pth --output \"{directory}/MMVC_Trainer/fine_model/G_180000.pth\""
      ]
    },
    {
      "cell_type": "markdown",
      "metadata": {
        "id": "NJpMOTOq8TZJ"
      },
      "source": [
        "​"
      ]
    },
    {
      "cell_type": "code",
      "execution_count": null,
      "metadata": {
        "cellView": "form",
        "id": "8iUwQYbwkED-"
      },
      "outputs": [],
      "source": [
        "#@title ## 4 確認\n",
        "#@markdown 以下のようなメッセージが表示されれば、保存が正常に完了しています。\n",
        "#@markdown ```\n",
        "#@markdown Directory: MMVC_Trainer\n",
        "#@markdown attentions.py\n",
        "#@markdown commons.py\n",
        "#@markdown ...(略)\n",
        "#@markdown\n",
        "#@markdown Directory: MMVC_Trainer/fine_model\n",
        "#@markdown D_180000.pth\n",
        "#@markdown G_180000.pth\n",
        "#@markdown ```\n",
        "\n",
        "print(\"Directory: MMVC_Trainer\")\n",
        "!ls -1 {directory}/MMVC_Trainer\n",
        "print(\"\\n\")\n",
        "print(\"Directory: MMVC_Trainer/fine_model\")\n",
        "!ls -1 {directory}/MMVC_Trainer/fine_model"
      ]
    }
  ],
  "metadata": {
    "colab": {
      "authorship_tag": "ABX9TyN4lPHuc430avCvXzZZtXCt",
      "private_outputs": true,
      "provenance": []
    },
    "gpuClass": "standard",
    "kernelspec": {
      "display_name": "Python 3",
      "language": "python",
      "name": "python3"
    },
    "language_info": {
      "name": "python",
      "version": "3.9.13 (tags/v3.9.13:6de2ca5, May 17 2022, 16:36:42) [MSC v.1929 64 bit (AMD64)]"
    },
    "vscode": {
      "interpreter": {
        "hash": "a7dbdef36cd9b5f90d7c663b452342b61474ced8781d3f6c4ff1c92eb4ede45a"
      }
    }
  },
  "nbformat": 4,
  "nbformat_minor": 0
}
