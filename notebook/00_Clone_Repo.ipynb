{
  "cells": [
    {
      "cell_type": "markdown",
      "metadata": {
        "id": "zO4ySkfLgBIp"
      },
      "source": [
        "# MMVCのリポジトリをGoogle Driveに保存する\n",
        "\n",
        "ver.2022/12/30\n",
        "\n",
        "MMVC_Trainerのリポジトリと事前学習済みモデルを、Google Driveに保存します。"
      ]
    },
    {
      "cell_type": "markdown",
      "metadata": {
        "id": "T5hplryJhQGB"
      },
      "source": [
        "​"
      ]
    },
    {
      "cell_type": "code",
      "source": [
        "#@title ## 0 ノートブックの準備\n",
        "\n",
        "#@markdown このノートブックのセットアップを行います。セルを実行し、完了したら次に進んでください。\n",
        "\n",
        "#debug用ディレクトリの作成\n",
        "!rm -rf /mmvc-debug\n",
        "!mkdir /mmvc-debug\n",
        "\n",
        "#現在時刻の取得\n",
        "import datetime\n",
        "ｊst_delta = datetime.timedelta(hours=9)\n",
        "JST = datetime.timezone(jst_delta, 'JST')\n",
        "now = datetime.datetime.now(JST)\n",
        "nowt = now.strftime('%Y%m%d%H%M%S')\n",
        "\n",
        "#python管理\n",
        "import sys\n",
        "\n",
        "#出力記録用カスタムマジック %%ccapture\n",
        "from IPython import get_ipython\n",
        "from IPython.core import magic_arguments\n",
        "from IPython.core.magic import register_cell_magic\n",
        "from IPython.utils.capture import capture_output\n",
        "\n",
        "@magic_arguments.magic_arguments()\n",
        "@magic_arguments.argument('output', type=str, default='', nargs='?')\n",
        "\n",
        "@register_cell_magic\n",
        "def ccapture(line, cell):\n",
        "    args = magic_arguments.parse_argstring(ccapture, line)\n",
        "    with capture_output() as outputs:\n",
        "        get_ipython().run_cell(cell)\n",
        "    if args.output:\n",
        "        get_ipython().user_ns[args.output] = outputs\n",
        "    \n",
        "    outputs()"
      ],
      "metadata": {
        "cellView": "form",
        "id": "PQekWXccafAg"
      },
      "execution_count": null,
      "outputs": []
    },
    {
      "cell_type": "markdown",
      "metadata": {
        "id": "MewODi3fav3N"
      },
      "source": [
        "​"
      ]
    },
    {
      "cell_type": "code",
      "execution_count": null,
      "metadata": {
        "cellView": "form",
        "id": "hdfce8bPkpMB"
      },
      "outputs": [],
      "source": [
        "%%ccapture 1-mount-google-drive\n",
        "print(\"----------------------------------------------------------------------------------------------------\")\n",
        "print(\"1 Google Driveをマウント\")\n",
        "\n",
        "#@title ## 1 Google Driveをマウント\n",
        "#@markdown **このノートブックで、Google Driveを使用するための設定です。**\n",
        "\n",
        "#@markdown 「警告: このノートブックは Google が作成したものではありません。」といったポップアップが表示された場合、内容を確認して「このまま実行」を選択してください。このノートブックでは、外部へのデータ送信は一切行われません。\n",
        "\n",
        "#@markdown 　「このノートブックに Google ドライブのファイルへのアクセスを許可しますか？」といったポップアップが表示されるので、「Google ドライブに接続」を押下し、google アカウントを選択して、「許可」を選択してください。\n",
        "\n",
        "#@markdown 成功すれば、下記メッセージが出ます。\n",
        "\n",
        "#@markdown ``` \n",
        "#@markdown Mounted at /content/drive/\n",
        "#@markdown ```\n",
        "\n",
        "from google.colab import drive\n",
        "drive.mount('/content/drive')"
      ]
    },
    {
      "cell_type": "markdown",
      "metadata": {
        "id": "GAGK1P8eiNm5"
      },
      "source": [
        "​"
      ]
    },
    {
      "cell_type": "code",
      "execution_count": null,
      "metadata": {
        "cellView": "form",
        "id": "7yZhO-jgI9k3"
      },
      "outputs": [],
      "source": [
        "%%ccapture 2-clone-mmvc-trainer\n",
        "print(\"----------------------------------------------------------------------------------------------------\")\n",
        "print(\"2 MMVC_Trainerのクローン\")\n",
        "\n",
        "#@title ## 2 MMVC_Trainerのクローン\n",
        "#@markdown 以下で指定したディレクトリ上に、MMVC_Trainerというフォルダが作成されます。\n",
        "\n",
        "#@markdown 実行前に、画面右上にあるアカウントのアイコンをクリックして、アカウントを確認してください。\n",
        "\n",
        "#@markdown 成功すると、最後に以下のようなメッセージが表示されます。\n",
        "#@markdown ```\n",
        "#@markdown Checking out files: 100% (902/902), done.\n",
        "#@markdown ```\n",
        "\n",
        "#@markdown ​\n",
        "#@markdown ### Settings\n",
        "directory_r = \"/content/drive/MyDrive\" #@param {type:\"string\"}\n",
        "directory = str(directory_r) + \"/MMVC_Trainer\"\n",
        "\n",
        "%cd $directory_r\n",
        "!git clone --depth=1 -b v1.3.3.0 https://github.com/isletennos/MMVC_Trainer/"
      ]
    },
    {
      "cell_type": "markdown",
      "metadata": {
        "id": "V5xVjAYzkAyW"
      },
      "source": [
        "​"
      ]
    },
    {
      "cell_type": "code",
      "execution_count": null,
      "metadata": {
        "cellView": "form",
        "id": "xWRi8E8m4nFV"
      },
      "outputs": [],
      "source": [
        "%%ccapture 3-download-fine-model\n",
        "print(\"----------------------------------------------------------------------------------------------------\")\n",
        "print(\"3 fine_modelのダウンロード\")\n",
        "\n",
        "#@title ## 3 fine_modelのダウンロード\n",
        "#@markdown 事前学習済みのモデルをダウンロードします。\n",
        "\n",
        "!curl -L https://dls.srgr0.com/D_180000.pth --output \"{directory}/fine_model/D_180000.pth\"\n",
        "!curl -L https://dls.srgr0.com/G_180000.pth --output \"{directory}/fine_model/G_180000.pth\""
      ]
    },
    {
      "cell_type": "markdown",
      "metadata": {
        "id": "NJpMOTOq8TZJ"
      },
      "source": [
        "​"
      ]
    },
    {
      "cell_type": "code",
      "execution_count": null,
      "metadata": {
        "cellView": "form",
        "id": "8iUwQYbwkED-"
      },
      "outputs": [],
      "source": [
        "%%ccapture 4-check-files\n",
        "print(\"----------------------------------------------------------------------------------------------------\")\n",
        "print(\"4 確認\")\n",
        "\n",
        "#@title ## 4 確認\n",
        "#@markdown 以下のようなメッセージが表示されれば、保存が正常に完了しています。\n",
        "#@markdown ```\n",
        "#@markdown Directory: MMVC_Trainer\n",
        "#@markdown attentions.py\n",
        "#@markdown commons.py\n",
        "#@markdown ...(略)\n",
        "#@markdown\n",
        "#@markdown Directory: MMVC_Trainer/fine_model\n",
        "#@markdown D_180000.pth\n",
        "#@markdown G_180000.pth\n",
        "#@markdown ```\n",
        "\n",
        "print(\"Directory: MMVC_Trainer\")\n",
        "!ls -1 {directory}\n",
        "print(\"\\n\")\n",
        "print(\"Directory: MMVC_Trainer/fine_model\")\n",
        "!ls -1 {directory}/fine_model"
      ]
    },
    {
      "cell_type": "markdown",
      "metadata": {
        "id": "lmDz1NHYPWPw"
      },
      "source": [
        "​"
      ]
    },
    {
      "cell_type": "markdown",
      "source": [
        "## サポート専用\n",
        "\n",
        "**以下はお問い合わせの際、指示があった場合のみ使用してください。**"
      ],
      "metadata": {
        "id": "08CW8VAygNyH"
      }
    },
    {
      "cell_type": "code",
      "source": [
        "#@markdown **このセルは無視してください。**\n",
        "\n",
        "#@markdown このセルは、セルが一括で実行されることを防ぐためのものです。\n",
        "\n",
        "#@markdown  実行してしまった場合は、左側のアイコンをクリックしてセルを終了してください。\n",
        "\n",
        "#一括実行の阻止\n",
        "import time\n",
        "time.sleep(86400)"
      ],
      "metadata": {
        "cellView": "form",
        "id": "737DzMeregPQ"
      },
      "execution_count": null,
      "outputs": []
    },
    {
      "cell_type": "markdown",
      "metadata": {
        "id": "rINTq2jGfq6s"
      },
      "source": [
        "​"
      ]
    },
    {
      "cell_type": "code",
      "source": [
        "#@title ## サポート用ファイルの作成\n",
        "\n",
        "#@markdown セルを実行すると内部処理が行われ、zipファイルが操作中のPC(またはタブレットなど)にダウンロードされます。\n",
        "\n",
        "#@markdown ダウンロードされるzipファイルには、以下のファイルや情報が含まれます。\n",
        "\n",
        "#@markdown * MMVC_Trainerフォルダ内のファイルの一覧\n",
        "#@markdown * このノートブックで使用されている変数(自動的に設定されるものと、ユーザーが入力するものがあります)のリスト\n",
        "#@markdown * このセッション内の出力\n",
        "#@markdown * configsフォルダ内及びlogsフォルダ内のファイル\n",
        "\n",
        "#@markdown これらには、ユーザーの個人情報が含まれる可能性があります。ダウンロード完了後、ファイルを共有する前に、必ず内容をご確認ください。\n",
        "\n",
        "#@markdown ファイルのダウンロードが完了したら、ランタイムを切断してください。\n",
        "\n",
        "#ファイルの準備\n",
        "variable_txt = \"/mmvc-debug/mmvc-\" + str(nowt) + \"-variable.txt\"\n",
        "tree_dic_txt = \"/mmvc-debug/mmvc-\" + str(nowt) + \"-tree_dic.txt\"\n",
        "export_zip = \"/mmvc-debug-\" + str(nowt)\n",
        "export_zipp = \"/mmvc-debug-\" + str(nowt) + \".zip\"\n",
        "\n",
        "#変数の値を保存\n",
        "#whos使うと長い文字列が省略されるため、変数毎に取得する\n",
        "##変数の一覧を取得\n",
        "vlist = %who_ls\n",
        "##それぞれの変数で値を取得してファイルに保存\n",
        "with open(variable_txt, 'w') as f:\n",
        "  for ev in vlist:\n",
        "    try:\n",
        "      #変数名(str)\n",
        "      print(ev, end=' : ', file=f) \n",
        "      #変数の型(変数名がstrとなっているためevalでkeyに直す)\n",
        "      print(type(eval(ev)), end=' : ', file=f)\n",
        "      #変数の内容(変数名がstrとなっているためevalでkeyに直す)\n",
        "      print(eval(ev), file=f)\n",
        "    except:\n",
        "      pass\n",
        "\n",
        "#tree\n",
        "!apt install tree\n",
        "##ディレクトリ内以下\n",
        "import traceback\n",
        "with open(tree_dic_txt, 'w') as f:\n",
        "  try:\n",
        "    !tree {directory} > {tree_dic_txt}\n",
        "  except Exception as e:\n",
        "    print(\"An error occurred!\", file=f)\n",
        "    print(e, file=f)\n",
        "    print(traceback.print_exc(), file=f)\n",
        "\n",
        "#logsとconfigsの保存\n",
        "#directoryが無かったらmkdirしてno-dic.txt置く\n",
        "!if [ -d {directory}/logs ]; then if [ -z \"$(ls {directory}/logs)\" ]; then touch {directory}/logs/no-file.txt;else cp {directory}/logs /mmvc-debug/logs; fi;else mkdir /mmvc-debug/logs && touch /mmvc-debug/logs/no-dic.txt; fi\n",
        "!if [ -d {directory}/configs ]; then if [ -z \"$(ls {directory}/configs)\" ]; then touch {directory}/configs/no-file.txt;else cp {directory}/configs /mmvc-debug/configs; fi;else mkdir /mmvc-debug/configs && touch /mmvc-debug/configs/no-dic.txt; fi\n",
        "\n",
        "#直近のtracebackの保存\n",
        "with open('/mmvc-debug/traceback.txt', 'w') as f:\n",
        "  print(sys.last_type, sys.last_value, sys.last_traceback, file=f)\n",
        "\n",
        "#ccaptureの保存\n",
        "!mkdir /mmvc-debug/ccapture\n",
        "with open('/mmvc-debug/ccapture/1-mount-google-drive.txt', 'w') as f:\n",
        "  try:\n",
        "    print(1-mount-google-drive, file=f)\n",
        "  except:\n",
        "    pass\n",
        "\n",
        "with open('/mmvc-debug/ccapture/2-clone-mmvc-trainer.txt', 'w') as f:\n",
        "  try:\n",
        "    print(2-clone-mmvc-trainer, file=f)\n",
        "  except:\n",
        "    pass\n",
        "\n",
        "with open('/mmvc-debug/ccapture/3-download-fine-model.txt', 'w') as f:\n",
        "  try:\n",
        "    print(3-download-fine-model, file=f)\n",
        "  except:\n",
        "    pass\n",
        "\n",
        "with open('/mmvc-debug/ccapture/4-check-files.txt', 'w') as f:\n",
        "  try:\n",
        "    print(4-check-files, file=f)\n",
        "  except:\n",
        "    pass\n",
        "\n",
        "#zipにまとめる\n",
        "!apt install zip\n",
        "!zip {export_zip} -r /mmvc-debug\n",
        "\n",
        "#colabのfilesモジュールを使ってダウンロード\n",
        "from google.colab import files\n",
        "files.download(export_zipp)"
      ],
      "metadata": {
        "cellView": "form",
        "id": "RCOgnUaVI1eN"
      },
      "execution_count": null,
      "outputs": []
    }
  ],
  "metadata": {
    "colab": {
      "private_outputs": true,
      "provenance": []
    },
    "gpuClass": "standard",
    "kernelspec": {
      "display_name": "Python 3",
      "language": "python",
      "name": "python3"
    },
    "language_info": {
      "name": "python",
      "version": "3.9.13 (tags/v3.9.13:6de2ca5, May 17 2022, 16:36:42) [MSC v.1929 64 bit (AMD64)]"
    },
    "vscode": {
      "interpreter": {
        "hash": "a7dbdef36cd9b5f90d7c663b452342b61474ced8781d3f6c4ff1c92eb4ede45a"
      }
    }
  },
  "nbformat": 4,
  "nbformat_minor": 0
}