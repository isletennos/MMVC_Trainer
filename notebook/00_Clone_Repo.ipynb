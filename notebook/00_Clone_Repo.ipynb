{
  "nbformat": 4,
  "nbformat_minor": 0,
  "metadata": {
    "colab": {
      "private_outputs": true,
      "provenance": [],
      "authorship_tag": "ABX9TyMY0dl4e65anJ96OweArzkN"
    },
    "kernelspec": {
      "name": "python3",
      "display_name": "Python 3"
    },
    "language_info": {
      "name": "python"
    },
    "gpuClass": "standard"
  },
  "cells": [
    {
      "cell_type": "markdown",
      "source": [
        "# MMVCのリポジトリをGoogle Driveに保存する\n",
        "\n",
        "ver.2022/09/06\n",
        "\n",
        "MMVC_Trainerのリポジトリと事前学習済みモデルを、Google Driveに保存します。"
      ],
      "metadata": {
        "id": "zO4ySkfLgBIp"
      }
    },
    {
      "cell_type": "markdown",
      "source": [
        "​"
      ],
      "metadata": {
        "id": "T5hplryJhQGB"
      }
    },
    {
      "cell_type": "code",
      "execution_count": null,
      "metadata": {
        "id": "hdfce8bPkpMB",
        "cellView": "form"
      },
      "outputs": [],
      "source": [
        "#@title ## 1 Google Driveをマウント\n",
        "#@markdown **このノートブックで、Google Driveを使用するための設定です。**\n",
        "\n",
        "#@markdown 「警告: このノートブックは Google が作成したものではありません。」といったポップアップが表示された場合、内容を確認して「このまま実行」を選択してください。このノートブックでは、外部へのデータ送信は一切行われません。\n",
        "\n",
        "#@markdown 　「このノートブックに Google ドライブのファイルへのアクセスを許可しますか？」といったポップアップが表示されるので、「Google ドライブに接続」を押下し、google アカウントを選択して、「許可」を選択してください。\n",
        "\n",
        "#@markdown 成功すれば、下記メッセージが出ます。 { display-mode: \"form\" }\n",
        "\n",
        "#@markdown ``` \n",
        "#@markdown Mounted at /content/drive/\n",
        "#@markdown ```\n",
        "\n",
        "from google.colab import drive\n",
        "drive.mount('/content/drive')"
      ]
    },
    {
      "cell_type": "markdown",
      "source": [
        "​"
      ],
      "metadata": {
        "id": "GAGK1P8eiNm5"
      }
    },
    {
      "cell_type": "code",
      "execution_count": null,
      "metadata": {
        "id": "7yZhO-jgI9k3",
        "cellView": "form"
      },
      "outputs": [],
      "source": [
        "#@title ## 2 MMVC_Trainerのクローン\n",
        "#@markdown 以下で指定したディレクトリ上に、MMVC_Trainerというフォルダが作成されます。\n",
        "\n",
        "#@markdown 実行前に、画面右上にあるアカウントのアイコンをクリックして、アカウントを確認してください。\n",
        "\n",
        "#@markdown 成功すると、最後に以下のようなメッセージが表示されます。\n",
        "#@markdown ```\n",
        "#@markdown Checking out files: 100% (902/902), done.\n",
        "#@markdown ```\n",
        "\n",
        "#@markdown ​\n",
        "#@markdown ### Settings\n",
        "directory = \"/content/drive/MyDrive\" #@param {type:\"string\"}\n",
        "\n",
        "%cd $directory\n",
        "!git clone --depth=1 https://github.com/isletennos/MMVC_Trainer/"
      ]
    },
    {
      "cell_type": "markdown",
      "source": [
        "​"
      ],
      "metadata": {
        "id": "V5xVjAYzkAyW"
      }
    },
    {
      "cell_type": "code",
      "source": [
        "#@title ## 3 fine_modelのダウンロード\n",
        "#@markdown 事前学習済みのモデルをダウンロードします。\n",
        "\n",
        "import gdown\n",
        "%cd {directory}/MMVC_Trainer/fine_model/\n",
        "gdown.download('https://drive.google.com/uc?id=1MRmB-9EL2-xhxIIraVx20qWqyX-8ZMPw', 'G_180000.pth', quiet=False)\n",
        "gdown.download('https://drive.google.com/uc?id=1oPbMM7cGz-z0fLgj7DW_wPGRCwvgD2jZ', 'D_180000.pth', quiet=False)"
      ],
      "metadata": {
        "cellView": "form",
        "id": "xWRi8E8m4nFV"
      },
      "execution_count": null,
      "outputs": []
    },
    {
      "cell_type": "markdown",
      "source": [
        "​"
      ],
      "metadata": {
        "id": "NJpMOTOq8TZJ"
      }
    },
    {
      "cell_type": "code",
      "source": [
        "#@title ## 4 確認\n",
        "#@markdown 以下のようなメッセージが表示されれば、保存が正常に完了しています。\n",
        "#@markdown ```\n",
        "#@markdown Directory: MMVC_Trainer\n",
        "#@markdown attentions.py\n",
        "#@markdown commons.py\n",
        "#@markdown ...(略)\n",
        "#@markdown\n",
        "#@markdown Directory: MMVC_Trainer/fine_model\n",
        "#@markdown D_180000.pth\n",
        "#@markdown G_180000.pth\n",
        "#@markdown ```\n",
        "\n",
        "print(\"Directory: MMVC_Trainer\")\n",
        "!ls -1 {directory}/MMVC_Trainer\n",
        "print(\"\\n\")\n",
        "print(\"Directory: MMVC_Trainer/fine_model\")\n",
        "!ls -1 {directory}/MMVC_Trainer/fine_model"
      ],
      "metadata": {
        "id": "8iUwQYbwkED-",
        "cellView": "form"
      },
      "execution_count": null,
      "outputs": []
    }
  ]
}