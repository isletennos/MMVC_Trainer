{
  "cells": [
    {
      "cell_type": "markdown",
      "metadata": {
        "id": "Q3egrWHAzs7H"
      },
      "source": [
        "# MMVC_Trainer学習用の音声の録音\n",
        "\n",
        "ver.2023/1/1\n",
        "\n",
        "MMVC学習用の自身の音声データを録音します。\n"
      ]
    },
    {
      "cell_type": "markdown",
      "metadata": {
        "id": "zxoN7Z3Mwb1C"
      },
      "source": [
        "​"
      ]
    },
    {
      "cell_type": "code",
      "source": [
        "#@title ## 0 ノートブックの準備\n",
        "\n",
        "#@markdown このノートブックのセットアップを行います。セルを実行し、完了したら次に進んでください。\n",
        "\n",
        "#debug用ディレクトリの作成\n",
        "!rm -rf /mmvc-debug\n",
        "!mkdir /mmvc-debug\n",
        "\n",
        "#現在時刻の取得\n",
        "import datetime\n",
        "ｊst_delta = datetime.timedelta(hours=9)\n",
        "JST = datetime.timezone(jst_delta, 'JST')\n",
        "now = datetime.datetime.now(JST)\n",
        "nowt = now.strftime('%Y%m%d%H%M%S')\n",
        "\n",
        "#python管理\n",
        "import sys\n",
        "\n",
        "#出力記録用カスタムマジック %%ccapture\n",
        "from IPython import get_ipython\n",
        "from IPython.core import magic_arguments\n",
        "from IPython.core.magic import register_cell_magic\n",
        "from IPython.utils.capture import capture_output\n",
        "\n",
        "@magic_arguments.magic_arguments()\n",
        "@magic_arguments.argument('output', type=str, default='', nargs='?')\n",
        "\n",
        "@register_cell_magic\n",
        "def ccapture(line, cell):\n",
        "    args = magic_arguments.parse_argstring(ccapture, line)\n",
        "    with capture_output() as outputs:\n",
        "        get_ipython().run_cell(cell)\n",
        "    if args.output:\n",
        "        get_ipython().user_ns[args.output] = outputs\n",
        "    \n",
        "    outputs()"
      ],
      "metadata": {
        "cellView": "form",
        "id": "PQekWXccafAg"
      },
      "execution_count": null,
      "outputs": []
    },
    {
      "cell_type": "markdown",
      "metadata": {
        "id": "pJASE4BfdQ6z"
      },
      "source": [
        "​"
      ]
    },
    {
      "cell_type": "code",
      "execution_count": null,
      "metadata": {
        "cellView": "form",
        "id": "hdfce8bPkpMB"
      },
      "outputs": [],
      "source": [
        "%%ccapture one_mount_grive\n",
        "print(\"----------------------------------------------------------------------------------------------------\")\n",
        "print(\"1 Google Driveをマウント\")\n",
        "#@title ## 1 Google Driveをマウント\n",
        "#@markdown **このノートブックで、Google Driveを使用するための設定です。**\n",
        "\n",
        "#@markdown 「警告: このノートブックは Google が作成したものではありません。」といったポップアップが表示された場合、内容を確認して「このまま実行」を選択してください。このノートブックでは、外部へのデータ送信は一切行われません。\n",
        "\n",
        "#@markdown 　「このノートブックに Google ドライブのファイルへのアクセスを許可しますか？」といったポップアップが表示されるので、「Google ドライブに接続」を押下し、google アカウントを選択して、「許可」を選択してください。\n",
        "\n",
        "#@markdown 成功すれば、下記メッセージが出ます。\n",
        "\n",
        "#@markdown ``` \n",
        "#@markdown Mounted at /content/drive/\n",
        "#@markdown ```\n",
        "\n",
        "from google.colab import drive\n",
        "drive.mount('/content/drive')"
      ]
    },
    {
      "cell_type": "markdown",
      "metadata": {
        "id": "NJpMOTOq8TZJ"
      },
      "source": [
        "​"
      ]
    },
    {
      "cell_type": "code",
      "execution_count": null,
      "metadata": {
        "cellView": "form",
        "id": "4dSgFEkpvEhj"
      },
      "outputs": [],
      "source": [
        "%%ccapture two_cd_mmvc_trainer\n",
        "print(\"----------------------------------------------------------------------------------------------------\")\n",
        "print(\"2 MMVC_Trainerディレクトリに移動\")\n",
        "\n",
        "#@title ## 2 MMVC_Trainerディレクトリに移動\n",
        "#@markdown ​マウントしたGoogle DriveのMMVC_Trainerディレクトリに移動します。\n",
        "\n",
        "#@markdown Google DriveでMMVC_Trainerの場所を確認し、以下でパスを指定してください。\n",
        "\n",
        "#@markdown 正しいパスが指定されていれば、以下のようなメッセージが表示されます。\n",
        "\n",
        "#@markdown ```\n",
        "#@markdown attentions.py\n",
        "#@markdown commons.py\n",
        "#@markdown ...(略)\n",
        "#@markdown ```\n",
        "#@markdown\n",
        "\n",
        "\n",
        "#@markdown ​\n",
        "#@markdown ### Settings\n",
        "directory = \"/content/drive/MyDrive/MMVC_Trainer-main\" #@param {type:\"string\"}\n",
        "\n",
        "%cd $directory\n",
        "!ls -1"
      ]
    },
    {
      "cell_type": "markdown",
      "metadata": {
        "id": "fTuxV1SSwzAb"
      },
      "source": [
        "​"
      ]
    },
    {
      "cell_type": "code",
      "execution_count": null,
      "metadata": {
        "cellView": "form",
        "id": "1Txer2hJJvii"
      },
      "outputs": [],
      "source": [
        "%%ccapture three_setup_rec\n",
        "print(\"----------------------------------------------------------------------------------------------------\")\n",
        "print(\"3 録音の準備\")\n",
        "\n",
        "#@title ## 3 録音の準備\n",
        "#@markdown 録音用のプログラムを読み込みます。\n",
        "\n",
        "base_dir = \"./dataset/textful/00_myvoice/\"\n",
        "sampling_rate = 24000\n",
        "\n",
        "import os\n",
        "myvoice_dir = base_dir + \"wav/\"\n",
        "mytext_dir = base_dir + \"text/\"\n",
        "os.makedirs(myvoice_dir, exist_ok=True)\n",
        "os.makedirs(mytext_dir, exist_ok=True)\n",
        "\n",
        "# from https://gist.github.com/korakot/c21c3476c024ad6d56d5f48b0bca92be\n",
        "# from https://colab.research.google.com/github/espnet/notebook/blob/master/espnet2_asr_realtime_demo.ipynb\n",
        "\n",
        "from IPython.display import Javascript\n",
        "from google.colab import output\n",
        "from base64 import b64decode\n",
        "\n",
        "RECORD = \"\"\"\n",
        "const sleep = time => new Promise(resolve => setTimeout(resolve, time))\n",
        "const b2text = blob => new Promise(resolve => {\n",
        "  const reader = new FileReader()\n",
        "  reader.onloadend = e => resolve(e.srcElement.result)\n",
        "  reader.readAsDataURL(blob)\n",
        "})\n",
        "var record = time => new Promise(async resolve => {\n",
        "  stream = await navigator.mediaDevices.getUserMedia({ audio: true })\n",
        "  recorder = new MediaRecorder(stream)\n",
        "  chunks = []\n",
        "  recorder.ondataavailable = e => chunks.push(e.data)\n",
        "  recorder.start()\n",
        "  await sleep(time)\n",
        "  recorder.onstop = async ()=>{\n",
        "    blob = new Blob(chunks)\n",
        "    text = await b2text(blob)\n",
        "    resolve(text)\n",
        "  }\n",
        "  recorder.stop()\n",
        "})\n",
        "\"\"\"\n",
        "\n",
        "def record(sec, filename='audio.wav'):\n",
        "  display(Javascript(RECORD))\n",
        "  s = output.eval_js('record(%d)' % (sec * 1000))\n",
        "  b = b64decode(s.split(',')[1])\n",
        "  with open(filename, 'wb+') as f:\n",
        "    f.write(b)\n",
        "\n",
        "import librosa\n",
        "import librosa.display\n",
        "import matplotlib.pyplot as plt\n",
        "import pysndfile\n",
        "from IPython.display import display, Audio\n",
        "import warnings\n",
        "warnings.filterwarnings('ignore')\n",
        "\n",
        "def rec(sec, filename, text, hira):\n",
        "  if sec > 15 :\n",
        "    print(\"15秒以上の音声は学習できません。\\n録音秒数を15秒以下に指定してください。\")\n",
        "    return\n",
        "  print(f\"{text}\\n{hira}\")\n",
        "  record(sec, \"temp.wav\")\n",
        "  print(\"---終了---\")\n",
        "  speech, rate = librosa.load(\"temp.wav\", sr=sampling_rate)\n",
        "  speecht, index = librosa.effects.trim(speech, top_db=30)\n",
        "  pysndfile.sndio.write(myvoice_dir + filename + \".wav\", speecht, rate=rate, format='wav', enc='pcm16')\n",
        "  with open(mytext_dir + filename + \".txt\", 'w') as mytext:\n",
        "    mytext.write(hira)\n",
        "  librosa.display.waveplot(speecht, sr=rate)\n",
        "  plt.show()\n",
        "  display(Audio(speecht, rate=rate))\n"
      ]
    },
    {
      "cell_type": "markdown",
      "metadata": {
        "id": "ddaC3lCdx1HT"
      },
      "source": [
        "​"
      ]
    },
    {
      "cell_type": "markdown",
      "metadata": {
        "id": "Gnx7bNpcxs-I"
      },
      "source": [
        "## 4 学習用音声を録音する\n",
        "\n",
        "ITAコーパスを利用して音声を録音します。  \n",
        "以下の100件の学習データを録音します。  \n",
        "実行したら話す内容が表示されるので「---終了---」と表示されるまでに録音してください。  \n",
        "録音した波形が表示されるので、再生してみて良ければ次の録音をします。  \n",
        "うまく録音できていなかったら再度実行して録音しなおしてください。  \n",
        "時々録音状態が終了しない時があり、その際は左の■で止めて、ページ自体をスーパーリロード（shiftキーを押しながら再読み込み）してから再度実行してください。  \n",
        "録音時間が短い場合、先頭「rec(5, …」などの「5」の部分が録音秒数になっているので、修正してください。ただしMMVCの最大学習時間が15秒となっているのでそれ以下に指定してください。  \n",
        "学習データは MMVC_Trainer/dataset/textful/00_myvoice/wav/ 以下に保存されます。"
      ]
    },
    {
      "cell_type": "code",
      "execution_count": null,
      "metadata": {
        "id": "F81g6k7R1MDQ"
      },
      "outputs": [],
      "source": [
        "rec(3, \"emotion001\", \"えっ嘘でしょ。\", \"えっうそでしょ。\")"
      ]
    },
    {
      "cell_type": "code",
      "execution_count": null,
      "metadata": {
        "id": "tCkGwuzRsvIM"
      },
      "outputs": [],
      "source": [
        "rec(5, \"emotion002\", \"シュヴァイツァーは見習うべき人間です。\", \"しゅゔぁいつぁーわみならうべきにんげんです。\")"
      ]
    },
    {
      "cell_type": "code",
      "execution_count": null,
      "metadata": {
        "id": "0kWCPXNQ0PM3"
      },
      "outputs": [],
      "source": [
        "rec(5, \"emotion003\", \"デーヴィスさんはとても疲れているように見える。\", \"でーゔぃすさんわとてもつかれているよーにみえる。\")"
      ]
    },
    {
      "cell_type": "code",
      "execution_count": null,
      "metadata": {
        "id": "9vHfPV6F0vGe"
      },
      "outputs": [],
      "source": [
        "rec(5, \"emotion004\", \"スティーヴはジェーンから手紙をもらった。\", \"すてぃーゔわじぇーんからてがみをもらった。\")"
      ]
    },
    {
      "cell_type": "code",
      "execution_count": null,
      "metadata": {
        "id": "Gb5IN8IX04UD"
      },
      "outputs": [],
      "source": [
        "rec(10, \"emotion005\", \"彼女はモーツァルトやベートーヴェンといった、古典派の作曲家が好きだ。\", \"かのじょわもーつぁるとやべーとーゔぇんといった、こてんはのさっきょくかがすきだ。\")"
      ]
    },
    {
      "cell_type": "code",
      "execution_count": null,
      "metadata": {
        "id": "isMIFlOW1URa"
      },
      "outputs": [],
      "source": [
        "rec(10, \"emotion006-1\", \"ストラットフォード・オン・エイヴォンは、シェイクスピアの生まれたところですが\", \"すとらっとふぉーどおんえいゔぉんわ、しぇいくすぴあのうまれたところですが\")"
      ]
    },
    {
      "cell_type": "code",
      "execution_count": null,
      "metadata": {
        "id": "qq53RkUlaxC-"
      },
      "outputs": [],
      "source": [
        "rec(5, \"emotion006-2\", \"毎年多くの観光客が訪れます。\", \"まいとしおおくのかんこーきゃくがおとずれます。\")"
      ]
    },
    {
      "cell_type": "code",
      "execution_count": null,
      "metadata": {
        "id": "3ERPiLuG1xHu"
      },
      "outputs": [],
      "source": [
        "rec(5, \"emotion007\", \"彼はピューマを慣らすのに、大いに骨を折った。\", \"かれわぴゅーまをならすのに、おおいにほねをおった。\")"
      ]
    },
    {
      "cell_type": "code",
      "execution_count": null,
      "metadata": {
        "id": "aF8oY3Do18g7"
      },
      "outputs": [],
      "source": [
        "rec(5, \"emotion008\", \"彼が解雇されるとは妙な話だ。\", \"かれがかいこされるとわみょーなはなしだ。\")"
      ]
    },
    {
      "cell_type": "code",
      "execution_count": null,
      "metadata": {
        "id": "peoeGB8X2DNW"
      },
      "outputs": [],
      "source": [
        "rec(5, \"emotion009\", \"クリスはヴァンパイア・ナイトを倒した。\", \"くりすわゔぁんぱいあないとをたおした。\")"
      ]
    },
    {
      "cell_type": "code",
      "execution_count": null,
      "metadata": {
        "id": "MJ2NcLYS2M-_"
      },
      "outputs": [],
      "source": [
        "rec(5, \"emotion010\", \"彼のあだ名は言い得て妙だよね。\", \"かれのあだなわいいえてみょーだよね。\")"
      ]
    },
    {
      "cell_type": "code",
      "execution_count": null,
      "metadata": {
        "id": "6KEr2M4z2Y6t"
      },
      "outputs": [],
      "source": [
        "rec(7, \"emotion011-1\", \"イタリア旅行で彼は、いくつか景勝の地として有名な都市\", \"いたりありょこーでかれわ、いくつかけーしょーのちとしてゆうめーなとし\")"
      ]
    },
    {
      "cell_type": "code",
      "execution_count": null,
      "metadata": {
        "id": "3K30UyYAbRPm"
      },
      "outputs": [],
      "source": [
        "rec(7, \"emotion011-2\", \"例えば、ナポリやフィレンツェを訪れた。\", \"たとえば、なぽりやふぃれんつぇをおとずれた。\")"
      ]
    },
    {
      "cell_type": "code",
      "execution_count": null,
      "metadata": {
        "id": "cJL5wQuD2z6-"
      },
      "outputs": [],
      "source": [
        "rec(10, \"emotion012\", \"ゼロという概念は、ヒンドゥー文化に由来している。\", \"ぜろとゆうがいねんわ、ひんどぅーぶんかにゆらいしている。\")"
      ]
    },
    {
      "cell_type": "code",
      "execution_count": null,
      "metadata": {
        "id": "JECJsALx3GJR"
      },
      "outputs": [],
      "source": [
        "rec(5, \"emotion013\", \"そのいたずら娘は何食わぬ顔をした。\", \"そのいたずらむすめわなにくわぬかおをした。\")"
      ]
    },
    {
      "cell_type": "code",
      "execution_count": null,
      "metadata": {
        "id": "_7YFft3O3Oly"
      },
      "outputs": [],
      "source": [
        "rec(10, \"emotion014\", \"スミスさん、ピエール・デュボワをご紹介しますわ。私の親友なの。\", \"すみすさん、ぴえーるでゅぼわをごしょーかいしますわ。わたしのしんゆうなの。\")"
      ]
    },
    {
      "cell_type": "code",
      "execution_count": null,
      "metadata": {
        "id": "bqLEBE0EC9ks"
      },
      "outputs": [],
      "source": [
        "rec(10, \"emotion015\", \"どーすんの、このお店。完ッ全に閑古鳥が鳴いちゃってるじゃない。\", \"どーすんの、このおみせ。かんっぜんにかんこどりがないちゃってるじゃない。\")"
      ]
    },
    {
      "cell_type": "code",
      "execution_count": null,
      "metadata": {
        "id": "GI2J-W-UDLnU"
      },
      "outputs": [],
      "source": [
        "rec(5, \"emotion016\", \"頂上に着くと皆でヤッホーと叫んだ。\", \"ちょーじょーにつくとみんなでやっほーとさけんだ。\")"
      ]
    },
    {
      "cell_type": "code",
      "execution_count": null,
      "metadata": {
        "id": "pwEGKbT6Diwn"
      },
      "outputs": [],
      "source": [
        "rec(5, \"emotion017\", \"あっベルが鳴ってる。\", \"あっべるがなってる。\")"
      ]
    },
    {
      "cell_type": "code",
      "execution_count": null,
      "metadata": {
        "id": "Z06lHnMwDlMN"
      },
      "outputs": [],
      "source": [
        "rec(5, \"emotion018\", \"彼女は彼にぴょこんとおじぎをした。\", \"かのじょわかれにぴょこんとおじぎをした。\")"
      ]
    },
    {
      "cell_type": "code",
      "execution_count": null,
      "metadata": {
        "id": "HIokRXNWDoAh"
      },
      "outputs": [],
      "source": [
        "rec(7, \"emotion019\", \"男子生徒のめいめいが、帽子に学校のバッジをつけています。\", \"だんしせーとのめーめーが、ぼーしにがっこーのばっじをつけています。\")"
      ]
    },
    {
      "cell_type": "code",
      "execution_count": null,
      "metadata": {
        "id": "hVvNfSoWDrum"
      },
      "outputs": [],
      "source": [
        "rec(3, \"emotion020\", \"ヒューズが飛んだ。\", \"ひゅーずがとんだ。\")"
      ]
    },
    {
      "cell_type": "code",
      "execution_count": null,
      "metadata": {
        "id": "AvmvFZp-Du64"
      },
      "outputs": [],
      "source": [
        "rec(5, \"emotion021\", \"私はポピュラー音楽を聞きたい。\", \"わたしわぽぴゅらーおんがくをききたい。\")"
      ]
    },
    {
      "cell_type": "code",
      "execution_count": null,
      "metadata": {
        "id": "I6E7mCtRDzQj"
      },
      "outputs": [],
      "source": [
        "rec(5, \"emotion022\", \"猫はにゃーにゃーと鳴く。\", \"ねこわにゃーにゃーとなく。\")"
      ]
    },
    {
      "cell_type": "code",
      "execution_count": null,
      "metadata": {
        "id": "BEkVDrE0D2Dv"
      },
      "outputs": [],
      "source": [
        "rec(10, \"emotion023\", \"私の一番上の兄が父の名代としてその会合に出席した。\", \"わたしのいちばんうえのあにがちちのみょーだいとしてそのかいごーにしゅっせきした。\")"
      ]
    },
    {
      "cell_type": "code",
      "execution_count": null,
      "metadata": {
        "id": "bj7hujanD5UD"
      },
      "outputs": [],
      "source": [
        "rec(5, \"emotion024\", \"彼は首相にインタビューした。\", \"かれわしゅしょーにいんたびゅーした。\")"
      ]
    },
    {
      "cell_type": "code",
      "execution_count": null,
      "metadata": {
        "id": "qvnm3MYVD7-k"
      },
      "outputs": [],
      "source": [
        "rec(10, \"emotion025\", \"その会社の急速な成長は、その独特な戦略によるものだった。\", \"そのかいしゃのきゅうそくなせーちょーわ、そのどくとくなせんりゃくによるものだった。\")"
      ]
    },
    {
      "cell_type": "code",
      "execution_count": null,
      "metadata": {
        "id": "xhpatXsiD-ZJ"
      },
      "outputs": [],
      "source": [
        "rec(7, \"emotion026\", \"私はいつもミネラルウォーターを持ち歩いています。\", \"わたしわいつもみねらるうぉーたーをもちあるいています。\")"
      ]
    },
    {
      "cell_type": "code",
      "execution_count": null,
      "metadata": {
        "id": "Orqc5F_vEBP0"
      },
      "outputs": [],
      "source": [
        "rec(10, \"emotion027\", \"彼女はハンドバッグを開けて家の鍵を探してみたが、見つからなかった。\", \"かのじょわはんどばっぐをあけていえのかぎをさがしてみたが、みつからなかった。\")"
      ]
    },
    {
      "cell_type": "code",
      "execution_count": null,
      "metadata": {
        "id": "XwiI_5IFEDom"
      },
      "outputs": [],
      "source": [
        "rec(7, \"emotion028\", \"彼女はスタッフをまとめていけると思いますか？\", \"かのじょわすたっふをまとめていけるとおもいますか？\")"
      ]
    },
    {
      "cell_type": "code",
      "execution_count": null,
      "metadata": {
        "id": "XK5ydxImEHh6"
      },
      "outputs": [],
      "source": [
        "rec(10, \"emotion029\", \"牛乳はあなたの体に良いだろう、毎日飲んだほうがいい。\", \"ぎゅうにゅうわあなたのからだによいだろー、まいにちのんだほーがいい。\")"
      ]
    },
    {
      "cell_type": "code",
      "execution_count": null,
      "metadata": {
        "id": "KrMAF6aNEKsA"
      },
      "outputs": [],
      "source": [
        "rec(10, \"emotion030\", \"あなたは流感になりかけているか、もっと重い病気かもしれません。\", \"あなたわりゅうかんになりかけているか、もっとおもいびょーきかもしれません。\")"
      ]
    },
    {
      "cell_type": "code",
      "execution_count": null,
      "metadata": {
        "id": "8KmVB9UQEMtd"
      },
      "outputs": [],
      "source": [
        "rec(10, \"emotion031\", \"彼女はその事件を、生き生きとした筆致で描写した。\", \"かのじょわそのじけんを、いきいきとしたひっちでびょーしゃした。\")"
      ]
    },
    {
      "cell_type": "code",
      "execution_count": null,
      "metadata": {
        "id": "9OICEzZ_EO-K"
      },
      "outputs": [],
      "source": [
        "rec(10, \"emotion032\", \"彼は自らの生涯を、インドでの病人の治療に捧げるつもりだ。\", \"かれわみずからのしょーがいを、いんどでのびょーにんのちりょーにささげるつもりだ。\")"
      ]
    },
    {
      "cell_type": "code",
      "execution_count": null,
      "metadata": {
        "id": "ePRIx9G0ERia"
      },
      "outputs": [],
      "source": [
        "rec(10, \"emotion033\", \"奇妙な男で、彼は人から話し掛けられないと口をきかない。\", \"きみょーなおとこで、かれわひとからはなしかけられないとくちをきかない。\")"
      ]
    },
    {
      "cell_type": "code",
      "execution_count": null,
      "metadata": {
        "id": "MbVslcnIETrq"
      },
      "outputs": [],
      "source": [
        "rec(7, \"emotion034\", \"我々はその山脈で土着のガイドを雇った。\", \"われわれわそのさんみゃくでどちゃくのがいどをやとった。\")"
      ]
    },
    {
      "cell_type": "code",
      "execution_count": null,
      "metadata": {
        "id": "jzLjyVXUEWFj"
      },
      "outputs": [],
      "source": [
        "rec(7, \"emotion035\", \"彼女は息子に家で行儀よくするように言った。\", \"かのじょわむすこにいえでぎょーぎよくするよーにいった。\")"
      ]
    },
    {
      "cell_type": "code",
      "execution_count": null,
      "metadata": {
        "id": "x2NcPri6EZEF"
      },
      "outputs": [],
      "source": [
        "rec(7, \"emotion036\", \"彼はライフルを拾い上げ、それで標的をねらった。\", \"かれわらいふるをひろいあげ、それでひょーてきをねらった。\")"
      ]
    },
    {
      "cell_type": "code",
      "execution_count": null,
      "metadata": {
        "id": "z-kSXO-wEbK6"
      },
      "outputs": [],
      "source": [
        "rec(5, \"emotion037\", \"私はこの本に八百円を払った。\", \"わたしわこのほんにはっぴゃくえんをはらった。\")"
      ]
    },
    {
      "cell_type": "code",
      "execution_count": null,
      "metadata": {
        "id": "HHZ0FgrNEdzI"
      },
      "outputs": [],
      "source": [
        "rec(10, \"emotion038\", \"気分が悪くて入院したが、結果的にはたいしたことはなかった。\", \"きぶんがわるくてにゅういんしたが、けっかてきにわたいしたことわなかった。\")"
      ]
    },
    {
      "cell_type": "code",
      "execution_count": null,
      "metadata": {
        "id": "Y5Wh4c0tEs5e"
      },
      "outputs": [],
      "source": [
        "rec(5, \"emotion039-1\", \"アフィ狙いの釣り記事ですね。\", \"あふぃねらいのつりきじですね。\")"
      ]
    },
    {
      "cell_type": "code",
      "execution_count": null,
      "metadata": {
        "id": "FM5VyjX_ZqkD"
      },
      "outputs": [],
      "source": [
        "rec(10, \"emotion039-2\", \"英語関係のコミュのあちこちにマルチポストしています。\", \"えーごかんけーのこみゅのあちこちにまるちぽすとしています。\")"
      ]
    },
    {
      "cell_type": "code",
      "execution_count": null,
      "metadata": {
        "id": "-BBIcbt9EvuF"
      },
      "outputs": [],
      "source": [
        "rec(10, \"emotion040\", \"トラベラーズチェックを現金に替えてくれるのはこの窓口ですか？\", \"とらべらーずちぇっくをげんきんにかえてくれるのわこのまどぐちですか？\")"
      ]
    },
    {
      "cell_type": "code",
      "execution_count": null,
      "metadata": {
        "id": "AXw0nzV-Ez_n"
      },
      "outputs": [],
      "source": [
        "rec(7, \"emotion041\", \"本日の映画は、サウンド・オブ・ミュージックでございます。\", \"ほんじつのえーがわ、さうんどおぶみゅーじっくでございます。\")"
      ]
    },
    {
      "cell_type": "code",
      "execution_count": null,
      "metadata": {
        "id": "rBjKTsJYE2ve"
      },
      "outputs": [],
      "source": [
        "rec(10, \"emotion042\", \"概してわれわれ日本人は、外国語を話すのに少し臆病すぎる。\", \"がいしてわれわれにほんじんわ、がいこくごをはなすのにすこしおくびょーすぎる。\")"
      ]
    },
    {
      "cell_type": "code",
      "execution_count": null,
      "metadata": {
        "id": "HMeZxIlPE50t"
      },
      "outputs": [],
      "source": [
        "rec(5, \"emotion043-1\", \"店の人は私のことを知るようになり\", \"みせのひとわわたしのことをしるよーになり\")"
      ]
    },
    {
      "cell_type": "code",
      "execution_count": null,
      "metadata": {
        "id": "OixOBFgMcVeQ"
      },
      "outputs": [],
      "source": [
        "rec(7, \"emotion043-2\", \"私はいつも同じウェイトレスに応対してもらっていた。\", \"わたしわいつもおなじうぇいとれすにおーたいしてもらっていた。\")"
      ]
    },
    {
      "cell_type": "code",
      "execution_count": null,
      "metadata": {
        "id": "n_Qu7VCpE8Tz"
      },
      "outputs": [],
      "source": [
        "rec(5, \"emotion044\", \"この丘からは何百万という星が見える。\", \"このおかからわなんびゃくまんとゆうほしがみえる。\")"
      ]
    },
    {
      "cell_type": "code",
      "execution_count": null,
      "metadata": {
        "id": "CalH9w-NE-e0"
      },
      "outputs": [],
      "source": [
        "rec(10, \"emotion045\", \"彼女は大学に入学したら、親から経済的に独立しようと思っていた。\", \"かのじょわだいがくににゅうがくしたら、おやからけーざいてきにどくりつしよーとおもっていた。\")"
      ]
    },
    {
      "cell_type": "code",
      "execution_count": null,
      "metadata": {
        "id": "2IW9zgk5FBIh"
      },
      "outputs": [],
      "source": [
        "rec(7, \"emotion046\", \"サブマリンのペリスコープが、水中からにょっきり突き出ていた。\", \"さぶまりんのぺりすこーぷが、すいちゅうからにょっきりつきでていた。\")"
      ]
    },
    {
      "cell_type": "code",
      "execution_count": null,
      "metadata": {
        "id": "PFlUEsUNFE7l"
      },
      "outputs": [],
      "source": [
        "rec(7, \"emotion047\", \"別にブルマに特別な関心があるわけじゃない。\", \"べつにぶるまにとくべつなかんしんがあるわけじゃない。\")"
      ]
    },
    {
      "cell_type": "code",
      "execution_count": null,
      "metadata": {
        "id": "FOKK6dDXFHT_"
      },
      "outputs": [],
      "source": [
        "rec(5, \"emotion048\", \"そういうフェティシズムはないと思う。\", \"そーゆうふぇてぃしずむわないとおもう。\")"
      ]
    },
    {
      "cell_type": "code",
      "execution_count": null,
      "metadata": {
        "id": "M6kkjIt2FJxE"
      },
      "outputs": [],
      "source": [
        "rec(7, \"emotion049-1\", \"ウッド夫人が作ってくれるおいしい田舎風の料理を食べたし\", \"うっどふじんがつくってくれるおいしいいなかふうのりょーりをたべたし\")"
      ]
    },
    {
      "cell_type": "code",
      "execution_count": null,
      "metadata": {
        "id": "2Awxp6Zcdk2H"
      },
      "outputs": [],
      "source": [
        "rec(5, \"emotion049-2\", \"ミルクをたくさん飲みました。\", \"みるくをたくさんのみました。\")"
      ]
    },
    {
      "cell_type": "code",
      "execution_count": null,
      "metadata": {
        "id": "6eQKqflHFMfn"
      },
      "outputs": [],
      "source": [
        "rec(7, \"emotion050-1\", \"私の妻が瓶をわってしまったので\", \"わたしのつまがびんをわってしまったので\")"
      ]
    },
    {
      "cell_type": "code",
      "execution_count": null,
      "metadata": {
        "id": "FKJzWgDFeYwt"
      },
      "outputs": [],
      "source": [
        "rec(7, \"emotion050-2\", \"台所の床は牛乳だらけになっている。\", \"だいどころのゆかわぎゅうにゅうだらけになっている。\")"
      ]
    },
    {
      "cell_type": "code",
      "execution_count": null,
      "metadata": {
        "id": "20fhJ4SfFRqo"
      },
      "outputs": [],
      "source": [
        "rec(10, \"emotion051\", \"喧嘩をしていた二人の子供は、お互いにしかめっ面をして座っていた。\", \"けんかをしていたふたりのこどもわ、おたがいにしかめっつらをしてすわっていた。\")"
      ]
    },
    {
      "cell_type": "code",
      "execution_count": null,
      "metadata": {
        "id": "Iq_ehMKRFj33"
      },
      "outputs": [],
      "source": [
        "rec(7, \"emotion052-1\", \"事業を継続しながら、事業が依拠している不動産を\", \"じぎょーをけーぞくしながら、じぎょーがいきょしているふどーさんを\")"
      ]
    },
    {
      "cell_type": "code",
      "execution_count": null,
      "metadata": {
        "id": "oEjlJIAKe74C"
      },
      "outputs": [],
      "source": [
        "rec(7, \"emotion052-2\", \"切り売りしていくことなど非現実的なのだ。\", \"きりうりしていくことなどひげんじつてきなのだ。\")"
      ]
    },
    {
      "cell_type": "code",
      "execution_count": null,
      "metadata": {
        "id": "EbvuHOKrFssc"
      },
      "outputs": [],
      "source": [
        "rec(7, \"emotion053-1\", \"しかしペパーバーグは、そのオウムを研究することによって\", \"しかしぺぱーばーぐわ、そのおーむをけんきゅうすることによって\")"
      ]
    },
    {
      "cell_type": "code",
      "execution_count": null,
      "metadata": {
        "id": "WUDnT3-afYHe"
      },
      "outputs": [],
      "source": [
        "rec(7, \"emotion053-2\", \"動物に対する考え方が変わったと言っている。\", \"どーぶつにたいするかんがえかたがかわったといっている。\")"
      ]
    },
    {
      "cell_type": "code",
      "execution_count": null,
      "metadata": {
        "id": "_WUVxqJhFu4O"
      },
      "outputs": [],
      "source": [
        "rec(10, \"emotion054\", \"パックマンがある条件を満たすと、追ってくるモンスターを逆襲して食べることができる。\", \"ぱっくまんがあるじょーけんをみたすと、おってくるもんすたーをぎゃくしゅうしてたべることができる。\")"
      ]
    },
    {
      "cell_type": "code",
      "execution_count": null,
      "metadata": {
        "id": "tA9WjtFmFyPl"
      },
      "outputs": [],
      "source": [
        "rec(7, \"emotion055-1\", \"その数百年後に、フォークが西洋のテーブルに現れることになるが\", \"そのすうひゃくねんごに、ふぉーくがせーよーのてーぶるにあらわれることになるが\")"
      ]
    },
    {
      "cell_type": "code",
      "execution_count": null,
      "metadata": {
        "id": "zKCMtOVtgU5u"
      },
      "outputs": [],
      "source": [
        "rec(5, \"emotion055-2\", \"ただちに受け入れられたわけではなかった。\", \"ただちにうけいれられたわけでわなかった。\")"
      ]
    },
    {
      "cell_type": "code",
      "execution_count": null,
      "metadata": {
        "id": "dXG6p6sHF0U1"
      },
      "outputs": [],
      "source": [
        "rec(10, \"emotion056\", \"トップのリーダーは犬の行動学ではアルファと呼ばれ、以下ベータ、ガンマと続きます。\", \"とっぷのりーだーわいぬのこーどーがくでわあるふぁとよばれ、いかべーた、がんまとつづきます。\")"
      ]
    },
    {
      "cell_type": "code",
      "execution_count": null,
      "metadata": {
        "id": "bFrP4NpOF2aG"
      },
      "outputs": [],
      "source": [
        "rec(7, \"emotion057\", \"ウィーンまでは歩くとどのくらいかかりますか？\", \"うぃーんまでわあるくとどのくらいかかりますか？\")"
      ]
    },
    {
      "cell_type": "code",
      "execution_count": null,
      "metadata": {
        "id": "fucGfVkoGAeT"
      },
      "outputs": [],
      "source": [
        "rec(5, \"emotion058\", \"すみません、この辺に詳しくないんです。\", \"すみません、このへんにくわしくないんです。\")"
      ]
    },
    {
      "cell_type": "code",
      "execution_count": null,
      "metadata": {
        "id": "WcgQL4fDGB7Q"
      },
      "outputs": [],
      "source": [
        "rec(10, \"emotion059-1\", \"目標は授業設計をするときの、学生の思考を触発するメディア教材の選択および\", \"もくひょーわじゅぎょーせっけーをするときの、がくせーのしこーをしょくはつするめでぃあきょーざいのせんたくおよび\")"
      ]
    },
    {
      "cell_type": "code",
      "execution_count": null,
      "metadata": {
        "id": "A6BKlWmLjbG4"
      },
      "outputs": [],
      "source": [
        "rec(5, \"emotion059-2\", \"活用方法について理解することである。\", \"かつよーほーほーについてりかいすることである。\")"
      ]
    },
    {
      "cell_type": "code",
      "execution_count": null,
      "metadata": {
        "id": "52LryWYlGEDH"
      },
      "outputs": [],
      "source": [
        "rec(10, \"emotion060\", \"とりあえず店の前、掃除しといてくれ。打ち水も頼む。\", \"とりあえずみせのまえ、そーじしといてくれ。うちみずもたのむ。\")"
      ]
    },
    {
      "cell_type": "code",
      "execution_count": null,
      "metadata": {
        "id": "bfFMIcq5GGH_"
      },
      "outputs": [],
      "source": [
        "rec(10, \"emotion061\", \"人々はトーナメントが始まる何ヶ月も前に、これらの入場券を買う。\", \"ひとびとわとーなめんとがはじまるなんかげつもまえに、これらのにゅうじょーけんをかう。\")"
      ]
    },
    {
      "cell_type": "code",
      "execution_count": null,
      "metadata": {
        "id": "VOowNpITGIJq"
      },
      "outputs": [],
      "source": [
        "rec(10, \"emotion062\", \"彼女の魅力は言葉では表現できない、とその芸術家は叫んだ。\", \"かのじょのみりょくわことばでわひょーげんできない、とそのげーじゅつかわさけんだ。\")"
      ]
    },
    {
      "cell_type": "code",
      "execution_count": null,
      "metadata": {
        "id": "e0iii-vUGKYG"
      },
      "outputs": [],
      "source": [
        "rec(10, \"emotion063-1\", \"事象として簡単なことを、いかにも難しそうに表現する人は\", \"じしょーとしてかんたんなことを、いかにもむずかしそーにひょーげんするひとわ\")"
      ]
    },
    {
      "cell_type": "code",
      "execution_count": null,
      "metadata": {
        "id": "cW3XJpCpj2H3"
      },
      "outputs": [],
      "source": [
        "rec(5, \"emotion063-2\", \"あまり頭がよさそうではない。\", \"あまりあたまがよさそーでわない。\")"
      ]
    },
    {
      "cell_type": "code",
      "execution_count": null,
      "metadata": {
        "id": "BmzuHrrjGMpC"
      },
      "outputs": [],
      "source": [
        "rec(7, \"emotion064-1\", \"デザインも、アーチ型のロゴデザインにより\", \"でざいんも、あーちがたのろごでざいんにより\")"
      ]
    },
    {
      "cell_type": "code",
      "execution_count": null,
      "metadata": {
        "id": "D4rxpL6VkEBh"
      },
      "outputs": [],
      "source": [
        "rec(7, \"emotion064-2\", \"現代的で登場感、躍動感あるものに仕上げました。\", \"げんだいてきでとーじょーかん、やくどーかんあるものにしあげました。\")"
      ]
    },
    {
      "cell_type": "code",
      "execution_count": null,
      "metadata": {
        "id": "Z1Kg041RGO_c"
      },
      "outputs": [],
      "source": [
        "rec(7, \"emotion065\", \"そんなに慌てて運転して、一体どこへ行こうってんだよ。\", \"そんなにあわててうんてんして、いったいどこえいこーってんだよ。\")"
      ]
    },
    {
      "cell_type": "code",
      "execution_count": null,
      "metadata": {
        "id": "xJAXkiK4GTA3"
      },
      "outputs": [],
      "source": [
        "rec(7, \"emotion066\", \"時間はあるんだから、安全運転してくれよ。\", \"じかんわあるんだから、あんぜんうんてんしてくれよ。\")"
      ]
    },
    {
      "cell_type": "code",
      "execution_count": null,
      "metadata": {
        "id": "X1hjiok8GUGv"
      },
      "outputs": [],
      "source": [
        "rec(10, \"emotion067-1\", \"ディスプレイはモニタともいい、コンピュータなどの機器から出力される静止画\", \"でぃすぷれいわもにたともいい、こんぴゅーたなどのききからしゅつりょくされるせーしが\")"
      ]
    },
    {
      "cell_type": "code",
      "execution_count": null,
      "metadata": {
        "id": "nOxzk79rkV7O"
      },
      "outputs": [],
      "source": [
        "rec(7, \"emotion067-2\", \"または動画の映像信号を表示する機器である。\", \"またわどーがのえーぞーしんごーをひょーじするききである。\")"
      ]
    },
    {
      "cell_type": "code",
      "execution_count": null,
      "metadata": {
        "id": "GiY8lSbxGYSU"
      },
      "outputs": [],
      "source": [
        "rec(7, \"emotion068-1\", \"撃ち合いが少し静まったとき、パパが走ってフラットに行って\", \"うちあいがすこししずまったとき、ぱぱがはしってふらっとにいって\")"
      ]
    },
    {
      "cell_type": "code",
      "execution_count": null,
      "metadata": {
        "id": "rTZF5K-2ksvi"
      },
      "outputs": [],
      "source": [
        "rec(5, \"emotion068-2\", \"私たちにサンドイッチを持ってきてくれたわ。\", \"わたしたちにさんどいっちをもってきてくれたわ。\")"
      ]
    },
    {
      "cell_type": "code",
      "execution_count": null,
      "metadata": {
        "id": "E0E7MWMOGd5c"
      },
      "outputs": [],
      "source": [
        "rec(7, \"emotion069-1\", \"ギリシャのフットボールの試合では、一方のチームの選手は\", \"ぎりしゃのふっとぼーるのしあいでわ、いっぽーのちーむのせんしゅわ\")"
      ]
    },
    {
      "cell_type": "code",
      "execution_count": null,
      "metadata": {
        "id": "MbrhrSfOk5xd"
      },
      "outputs": [],
      "source": [
        "rec(10, \"emotion069-2\", \"相手チームの陣地のラインの向こう側にボールを持ち込もうとしたのです。\", \"あいてちーむのじんちのらいんのむこーがわにぼーるをもちこもーとしたのです。\")"
      ]
    },
    {
      "cell_type": "code",
      "execution_count": null,
      "metadata": {
        "id": "EjiAIw0GGgqu"
      },
      "outputs": [],
      "source": [
        "rec(10, \"emotion070-1\", \"泳者のシンディー・ニコラスは、へとへとになって泳ぎ切った後、ドーバーでかろうじて陸に上がってきたが\", \"えーしゃのしんでぃーにこらすわ、へとへとになっておよぎきったあと、どーばーでかろーじてりくにあがってきたが\")"
      ]
    },
    {
      "cell_type": "code",
      "execution_count": null,
      "metadata": {
        "id": "Fjeb7UZElJr2"
      },
      "outputs": [],
      "source": [
        "rec(10, \"emotion070-2\", \"海峡水泳協会のスポークスマンは、彼女がとても元気であると発表した。\", \"かいきょーすいえーきょーかいのすぽーくすまんわ、かのじょがとてもげんきであるとはっぴょーした。\")"
      ]
    },
    {
      "cell_type": "code",
      "execution_count": null,
      "metadata": {
        "id": "nsKf9t-IGjPu"
      },
      "outputs": [],
      "source": [
        "rec(10, \"emotion071\", \"若い男女が人里離れた洋館で恐怖の一夜を過ごすという、ホラーの定番スタイルだ。\", \"わかいだんじょがひとざとはなれたよーかんできょーふのいちやをすごすとゆう、ほらーのてーばんすたいるだ。\")"
      ]
    },
    {
      "cell_type": "code",
      "execution_count": null,
      "metadata": {
        "id": "ceDSiN8dGlxh"
      },
      "outputs": [],
      "source": [
        "rec(10, \"emotion072-1\", \"一つには、西洋人ではない人々が自分たち独自の文化に誇りを持ち始めてきたためと、また一つには、\", \"ひとつにわ、せーよーじんでわないひとびとがじぶんたちどくじのぶんかにほこりをもちはじめてきたためと、またひとつにわ\")"
      ]
    },
    {
      "cell_type": "code",
      "execution_count": null,
      "metadata": {
        "id": "wJDt7mVeln68"
      },
      "outputs": [],
      "source": [
        "rec(10, \"emotion072-2\", \"フォークを使わないそれらの地域は最も高い出生率の地域を抱えているという理由から、このことは当たっている。\", \"ふぉーくをつかわないそれらのちいきわもっともたかいしゅっしょーりつのちいきをかかえているとゆうりゆうから、このことわあたっている。\")"
      ]
    },
    {
      "cell_type": "code",
      "execution_count": null,
      "metadata": {
        "id": "znefurFEGoOX"
      },
      "outputs": [],
      "source": [
        "rec(7, \"emotion073\", \"私たちは恐怖の中で生きていて、苦しんでいるの。\", \"わたしたちわきょーふのなかでいきていて、くるしんでいるの。\")"
      ]
    },
    {
      "cell_type": "code",
      "execution_count": null,
      "metadata": {
        "id": "QyfNhO4PGqXo"
      },
      "outputs": [],
      "source": [
        "rec(10, \"emotion074\", \"太陽も花も楽しめないし、私たちの子供時代も楽しめないのよ。\", \"たいよーもはなもたのしめないし、わたしたちのこどもじだいもたのしめないのよ。\")"
      ]
    },
    {
      "cell_type": "code",
      "execution_count": null,
      "metadata": {
        "id": "1n7LHM9QGtSj"
      },
      "outputs": [],
      "source": [
        "rec(10, \"emotion075-1\", \"弊社のエンジニアが日本国内で販売されている同様の製品と仕様を比較した結果\", \"へーしゃのえんじにあがにほんこくないではんばいされているどーよーのせーひんとしよーをひかくしたけっか\")"
      ]
    },
    {
      "cell_type": "code",
      "execution_count": null,
      "metadata": {
        "id": "lYFVfdGll8Ri"
      },
      "outputs": [],
      "source": [
        "rec(7, \"emotion075-2\", \"非常に競合力があると判断いたしました。\", \"ひじょーにきょーごーりょくがあるとはんだんいたしました。\")"
      ]
    },
    {
      "cell_type": "code",
      "execution_count": null,
      "metadata": {
        "id": "wCruidCIGvjs"
      },
      "outputs": [],
      "source": [
        "rec(7, \"emotion076-1\", \"ノースウエスタン大学の研究者、アイリーン・ペパーバーグは\", \"のーすうえすたんだいがくのけんきゅうしゃ、あいりーんぺぱーばーぐわ\")"
      ]
    },
    {
      "cell_type": "code",
      "execution_count": null,
      "metadata": {
        "id": "p8LGIsIVl-Ad"
      },
      "outputs": [],
      "source": [
        "rec(10, \"emotion076-2\", \"オウムは人の口まねをするだけでなく言葉の意味を学ぶことができることを発見しつつある。\", \"おーむわひとのくちまねをするだけでなくことばのいみをまなぶことができることをはっけんしつつある。\")"
      ]
    },
    {
      "cell_type": "code",
      "execution_count": null,
      "metadata": {
        "id": "30auyKBKGxy0"
      },
      "outputs": [],
      "source": [
        "rec(5, \"emotion077\", \"名前をテョといいます。\", \"なまえをてょといいます。\")"
      ]
    },
    {
      "cell_type": "code",
      "execution_count": null,
      "metadata": {
        "id": "c2td-2ZSG0N-"
      },
      "outputs": [],
      "source": [
        "rec(5, \"emotion078\", \"ぴゅうぴゅう風が吹きこんでくる。\", \"ぴゅうぴゅうかぜがふきこんでくる。\")"
      ]
    },
    {
      "cell_type": "code",
      "execution_count": null,
      "metadata": {
        "id": "xKC_aseyG3rB"
      },
      "outputs": [],
      "source": [
        "rec(5, \"emotion079\", \"キェー。ギェー。イェーイ。\", \"きぇー。ぎぇー。いぇーい。\")"
      ]
    },
    {
      "cell_type": "code",
      "execution_count": null,
      "metadata": {
        "id": "949v0SkLG6UP"
      },
      "outputs": [],
      "source": [
        "rec(5, \"emotion080\", \"ひぇーん。びぇーん。ぴぇーん。\", \"ひぇーん。びぇーん。ぴぇーん。\")"
      ]
    },
    {
      "cell_type": "code",
      "execution_count": null,
      "metadata": {
        "id": "Ux-CDkDNG8kV"
      },
      "outputs": [],
      "source": [
        "rec(5, \"emotion081\", \"プリミェー。ミェルン。ニェン。\", \"ぷりみぇー。みぇるん。にぇん。\")"
      ]
    },
    {
      "cell_type": "code",
      "execution_count": null,
      "metadata": {
        "id": "5yVXL9gVG-sy"
      },
      "outputs": [],
      "source": [
        "rec(5, \"emotion082\", \"ステューデント。ダブルデュアル。\", \"すてゅーでんと。だぶるでゅある。\")"
      ]
    },
    {
      "cell_type": "code",
      "execution_count": null,
      "metadata": {
        "id": "wCjw4K60HAyU"
      },
      "outputs": [],
      "source": [
        "rec(7, \"emotion083\", \"エテュード。エデュケーショナル。サブスティテューション。\", \"えてゅーど。えでゅけーしょなる。さぶすてぃてゅーしょん。\")"
      ]
    },
    {
      "cell_type": "code",
      "execution_count": null,
      "metadata": {
        "id": "CmVKqC7fHC-U"
      },
      "outputs": [],
      "source": [
        "rec(3, \"emotion084\", \"ジャデャクシュ。\", \"じゃでゃくしゅ。\")"
      ]
    },
    {
      "cell_type": "code",
      "execution_count": null,
      "metadata": {
        "id": "UERqGA3dHFIR"
      },
      "outputs": [],
      "source": [
        "rec(3, \"emotion085\", \"ブレンドデョート。\", \"ぶれんどでょーと。\")"
      ]
    },
    {
      "cell_type": "code",
      "execution_count": null,
      "metadata": {
        "id": "MBpybgjsHG7B"
      },
      "outputs": [],
      "source": [
        "rec(5, \"emotion086\", \"イデュスルファーゼ。\", \"いでゅするふぁーぜ。\")"
      ]
    },
    {
      "cell_type": "code",
      "execution_count": null,
      "metadata": {
        "id": "ptQCvMsyHI0U"
      },
      "outputs": [],
      "source": [
        "rec(3, \"emotion087\", \"あっあの。\", \"あっあの。\")"
      ]
    },
    {
      "cell_type": "code",
      "execution_count": null,
      "metadata": {
        "id": "BCwt2dkTHLAC"
      },
      "outputs": [],
      "source": [
        "rec(3, \"emotion088\", \"いっいえ。\", \"いっいえ。\")"
      ]
    },
    {
      "cell_type": "code",
      "execution_count": null,
      "metadata": {
        "id": "V9OSQt8WHM_e"
      },
      "outputs": [],
      "source": [
        "rec(3, \"emotion089\", \"えっえぇ。\", \"えっえぇ。\")"
      ]
    },
    {
      "cell_type": "code",
      "execution_count": null,
      "metadata": {
        "id": "2Ne3QbLSHPhD"
      },
      "outputs": [],
      "source": [
        "rec(3, \"emotion090\", \"おっおい。\", \"おっおい。\")"
      ]
    },
    {
      "cell_type": "code",
      "execution_count": null,
      "metadata": {
        "id": "X8O1TuO8HSDU"
      },
      "outputs": [],
      "source": [
        "rec(3, \"emotion091\", \"んーとね。\", \"んーとね。\")"
      ]
    },
    {
      "cell_type": "code",
      "execution_count": null,
      "metadata": {
        "id": "2GZHy6SRHUi5"
      },
      "outputs": [],
      "source": [
        "rec(3, \"emotion092\", \"アンツィオ。\", \"あんつぃお。\")"
      ]
    },
    {
      "cell_type": "code",
      "execution_count": null,
      "metadata": {
        "id": "ieMCAp3ZHXFT"
      },
      "outputs": [],
      "source": [
        "rec(3, \"emotion093\", \"エンツォ。\", \"えんつぉ。\")"
      ]
    },
    {
      "cell_type": "code",
      "execution_count": null,
      "metadata": {
        "id": "9-Zhw74YHcjh"
      },
      "outputs": [],
      "source": [
        "rec(3, \"emotion094\", \"カートゥーン。\", \"かーとぅーん。\")"
      ]
    },
    {
      "cell_type": "code",
      "execution_count": null,
      "metadata": {
        "id": "e2us8Kh5Hf3W"
      },
      "outputs": [],
      "source": [
        "rec(3, \"emotion095\", \"スィーディー。\", \"すぃーでぃー。\")"
      ]
    },
    {
      "cell_type": "code",
      "execution_count": null,
      "metadata": {
        "id": "B7joZGHeHg1P"
      },
      "outputs": [],
      "source": [
        "rec(3, \"emotion096\", \"ズィーブラ。\", \"ずぃーぶら。\")"
      ]
    },
    {
      "cell_type": "code",
      "execution_count": null,
      "metadata": {
        "id": "jAKVCnScHiut"
      },
      "outputs": [],
      "source": [
        "rec(5, \"emotion097\", \"デピュティーガバナー。\", \"でぴゅてぃーがばなー。\")"
      ]
    },
    {
      "cell_type": "code",
      "execution_count": null,
      "metadata": {
        "id": "vrlkmANgHlNC"
      },
      "outputs": [],
      "source": [
        "rec(3, \"emotion098\", \"エリュシオン。\", \"えりゅしおん。\")"
      ]
    },
    {
      "cell_type": "code",
      "execution_count": null,
      "metadata": {
        "id": "b525XIbWHn8J"
      },
      "outputs": [],
      "source": [
        "rec(3, \"emotion099\", \"ガリェント。\", \"がりぇんと。\")"
      ]
    },
    {
      "cell_type": "code",
      "execution_count": null,
      "metadata": {
        "id": "j01kcKCfHp7y"
      },
      "outputs": [],
      "source": [
        "rec(3, \"emotion100\", \"ラーテャン。\", \"らーてゃん。\")"
      ]
    },
    {
      "cell_type": "markdown",
      "metadata": {
        "id": "rINTq2jGfq6s"
      },
      "source": [
        "​"
      ]
    },
    {
      "cell_type": "markdown",
      "source": [
        "## サポート専用\n",
        "\n",
        "**以下はお問い合わせの際、指示があった場合のみ使用してください。**"
      ],
      "metadata": {
        "id": "08CW8VAygNyH"
      }
    },
    {
      "cell_type": "code",
      "source": [
        "#@markdown **このセルは無視してください。**\n",
        "\n",
        "#@markdown このセルは、セルが一括で実行されることを防ぐためのものです。\n",
        "\n",
        "#@markdown  実行してしまった場合は、左側のアイコンをクリックしてセルを終了してください。\n",
        "\n",
        "#一括実行の阻止\n",
        "import time\n",
        "time.sleep(86400)"
      ],
      "metadata": {
        "cellView": "form",
        "id": "737DzMeregPQ"
      },
      "execution_count": null,
      "outputs": []
    },
    {
      "cell_type": "markdown",
      "metadata": {
        "id": "yNA4FKIsQjP5"
      },
      "source": [
        "​"
      ]
    },
    {
      "cell_type": "code",
      "source": [
        "#@title ## サポート用ファイルの作成\n",
        "\n",
        "#@markdown セルを実行すると内部処理が行われ、zipファイルが操作中のPC(またはタブレットなど)にダウンロードされます。\n",
        "\n",
        "#@markdown ダウンロードされるzipファイルには、以下のファイルや情報が含まれます。\n",
        "\n",
        "#@markdown * MMVC_Trainerフォルダ内のファイルの一覧\n",
        "#@markdown * このノートブックで使用されている変数(自動的に設定されるものと、ユーザーが入力するものがあります)のリスト\n",
        "#@markdown * このセッション内の出力\n",
        "#@markdown * configsフォルダ内及びlogsフォルダ内のファイル\n",
        "\n",
        "#@markdown これらには、ユーザーの個人情報が含まれる可能性があります。ダウンロード完了後、ファイルを共有する前に、必ず内容をご確認ください。\n",
        "\n",
        "#@markdown ファイルのダウンロードが完了したら、ランタイムを切断してください。\n",
        "\n",
        "#ファイルの準備\n",
        "variable_txt = \"/mmvc-debug/mmvc-\" + str(nowt) + \"-variable.txt\"\n",
        "tree_dic_txt = \"/mmvc-debug/mmvc-\" + str(nowt) + \"-tree_dic.txt\"\n",
        "export_zip = \"/mmvc-debug-\" + str(nowt)\n",
        "export_zipp = \"/mmvc-debug-\" + str(nowt) + \".zip\"\n",
        "\n",
        "#変数の値を保存\n",
        "#whos使うと長い文字列が省略されるため、変数毎に取得する\n",
        "##変数の一覧を取得\n",
        "vlist = %who_ls\n",
        "##それぞれの変数で値を取得してファイルに保存\n",
        "with open(variable_txt, 'w') as f:\n",
        "  for ev in vlist:\n",
        "    try:\n",
        "      #変数名(str)\n",
        "      print(ev, end=' : ', file=f) \n",
        "      #変数の型(変数名がstrとなっているためevalでkeyに直す)\n",
        "      print(type(eval(ev)), end=' : ', file=f)\n",
        "      #変数の内容(変数名がstrとなっているためevalでkeyに直す)\n",
        "      print(eval(ev), file=f)\n",
        "    except:\n",
        "      pass\n",
        "\n",
        "#tree\n",
        "!apt install tree\n",
        "##ディレクトリ内以下\n",
        "import traceback\n",
        "with open(tree_dic_txt, 'w') as f:\n",
        "  try:\n",
        "    !tree {directory} > {tree_dic_txt}\n",
        "  except Exception as e:\n",
        "    print(\"An error occurred!\", file=f)\n",
        "    print(e, file=f)\n",
        "    print(traceback.print_exc(), file=f)\n",
        "\n",
        "#logsとconfigsの保存\n",
        "#directoryが無かったらmkdirしてno-dic.txt置く\n",
        "!if [ -d {directory}/logs ]; then if [ -z \"$(ls {directory}/logs)\" ]; then touch {directory}/logs/no-file.txt;else cp -rp {directory}/logs /mmvc-debug/logs; fi;else mkdir /mmvc-debug/logs && touch /mmvc-debug/logs/no-dic.txt; fi\n",
        "!if [ -d {directory}/configs ]; then if [ -z \"$(ls {directory}/configs)\" ]; then touch {directory}/configs/no-file.txt;else cp -rp {directory}/configs /mmvc-debug/configs; fi;else mkdir /mmvc-debug/configs && touch /mmvc-debug/configs/no-dic.txt; fi\n",
        "\n",
        "#直近のtracebackの保存\n",
        "with open('/mmvc-debug/traceback.txt', 'w') as f:\n",
        "  try:\n",
        "    print(sys.last_type, sys.last_value, sys.last_traceback, file=f)\n",
        "  except:\n",
        "    pass\n",
        "\n",
        "#ccaptureの保存\n",
        "!mkdir /mmvc-debug/ccapture\n",
        "with open('/mmvc-debug/ccapture/one_mount_grive.txt', 'w') as f:\n",
        "  try:\n",
        "    print(one_mount_grive, file=f)\n",
        "  except:\n",
        "    pass\n",
        "\n",
        "with open('/mmvc-debug/ccapture/two_cd_mmvc_trainer.txt', 'w') as f:\n",
        "  try:\n",
        "    print(two_cd_mmvc_trainer, file=f)\n",
        "  except:\n",
        "    pass\n",
        "\n",
        "with open('/mmvc-debug/ccapture/three_setup_rec.txt', 'w') as f:\n",
        "  try:\n",
        "    print(three_setup_rec, file=f)\n",
        "  except:\n",
        "    pass\n",
        "\n",
        "#zipにまとめる\n",
        "!apt install zip\n",
        "!zip {export_zip} -r /mmvc-debug\n",
        "\n",
        "#colabのfilesモジュールを使ってダウンロード\n",
        "from google.colab import files\n",
        "files.download(export_zipp)"
      ],
      "metadata": {
        "cellView": "form",
        "id": "jyiLnSRR6gtD"
      },
      "execution_count": null,
      "outputs": []
    }
  ],
  "metadata": {
    "colab": {
      "name": "00_Rec_Voice.ipynb",
      "provenance": []
    },
    "kernelspec": {
      "display_name": "Python 3",
      "language": "python",
      "name": "python3"
    },
    "language_info": {
      "name": "python",
      "version": "3.9.13 (tags/v3.9.13:6de2ca5, May 17 2022, 16:36:42) [MSC v.1929 64 bit (AMD64)]"
    },
    "vscode": {
      "interpreter": {
        "hash": "a7dbdef36cd9b5f90d7c663b452342b61474ced8781d3f6c4ff1c92eb4ede45a"
      }
    }
  },
  "nbformat": 4,
  "nbformat_minor": 0
}