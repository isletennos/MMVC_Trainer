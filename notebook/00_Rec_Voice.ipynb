{
  "cells": [
    {
      "cell_type": "markdown",
      "metadata": {
        "id": "Q3egrWHAzs7H"
      },
      "source": [
        "# MMVCの学習に必要なconfig系Fileを作成する\n",
        "\n",
        "ver.2022/09/17\n",
        "\n",
        "MMVC学習用の自身の音声データを録音します。\n"
      ]
    },
    {
      "cell_type": "markdown",
      "source": [
        "​"
      ],
      "metadata": {
        "id": "zxoN7Z3Mwb1C"
      }
    },
    {
      "cell_type": "code",
      "execution_count": null,
      "metadata": {
        "id": "hdfce8bPkpMB",
        "cellView": "form"
      },
      "outputs": [],
      "source": [
        "#@title ## 1 Google Driveをマウント\n",
        "#@markdown **このノートブックで、Google Driveを使用するための設定です。**\n",
        "\n",
        "#@markdown 「警告: このノートブックは Google が作成したものではありません。」といったポップアップが表示された場合、内容を確認して「このまま実行」を選択してください。このノートブックでは、外部へのデータ送信は一切行われません。\n",
        "\n",
        "#@markdown 　「このノートブックに Google ドライブのファイルへのアクセスを許可しますか？」といったポップアップが表示されるので、「Google ドライブに接続」を押下し、google アカウントを選択して、「許可」を選択してください。\n",
        "\n",
        "#@markdown 成功すれば、下記メッセージが出ます。 { display-mode: \"form\" }\n",
        "\n",
        "#@markdown ``` \n",
        "#@markdown Mounted at /content/drive/\n",
        "#@markdown ```\n",
        "\n",
        "from google.colab import drive\n",
        "drive.mount('/content/drive')"
      ]
    },
    {
      "cell_type": "markdown",
      "source": [
        "​"
      ],
      "metadata": {
        "id": "NJpMOTOq8TZJ"
      }
    },
    {
      "cell_type": "code",
      "source": [
        "#@title 2 MMVC_Trainerディレクトリに移動\n",
        "#@markdown ​マウントしたGoogle DriveのMMVC_Trainerディレクトリに移動します。\n",
        "\n",
        "#@markdown Google DriveでMMVC_Trainerの場所を確認し、以下でパスを指定してください。\n",
        "\n",
        "#@markdown 正しいパスが指定されていれば、以下のようなメッセージが表示されます。\n",
        "\n",
        "#@markdown ```\n",
        "#@markdown attentions.py\n",
        "#@markdown commons.py\n",
        "#@markdown ...(略)\n",
        "#@markdown ```\n",
        "#@markdown\n",
        "\n",
        "\n",
        "#@markdown ​\n",
        "#@markdown ### Settings\n",
        "directory = \"/content/drive/MyDrive/MMVC_Trainer\" #@param {type:\"string\"}\n",
        "\n",
        "%cd $directory\n",
        "!ls -1"
      ],
      "metadata": {
        "cellView": "form",
        "id": "4dSgFEkpvEhj"
      },
      "execution_count": null,
      "outputs": []
    },
    {
      "cell_type": "markdown",
      "source": [
        "​"
      ],
      "metadata": {
        "id": "fTuxV1SSwzAb"
      }
    },
    {
      "cell_type": "code",
      "source": [
        "#@title ## 3 録音の準備\n",
        "#@markdown 録音用のプログラムを読み込みます。\n",
        "\n",
        "base_dir = \"./dataset/textful/00_myvoice/\"\n",
        "sampling_rate = 24000\n",
        "\n",
        "import os\n",
        "myvoice_dir = base_dir + \"wav/\"\n",
        "mytext_dir = base_dir + \"text/\"\n",
        "os.makedirs(myvoice_dir, exist_ok=True)\n",
        "os.makedirs(mytext_dir, exist_ok=True)\n",
        "\n",
        "# from https://gist.github.com/korakot/c21c3476c024ad6d56d5f48b0bca92be\n",
        "# from https://colab.research.google.com/github/espnet/notebook/blob/master/espnet2_asr_realtime_demo.ipynb\n",
        "\n",
        "from IPython.display import Javascript\n",
        "from google.colab import output\n",
        "from base64 import b64decode\n",
        "\n",
        "RECORD = \"\"\"\n",
        "const sleep = time => new Promise(resolve => setTimeout(resolve, time))\n",
        "const b2text = blob => new Promise(resolve => {\n",
        "  const reader = new FileReader()\n",
        "  reader.onloadend = e => resolve(e.srcElement.result)\n",
        "  reader.readAsDataURL(blob)\n",
        "})\n",
        "var record = time => new Promise(async resolve => {\n",
        "  stream = await navigator.mediaDevices.getUserMedia({ audio: true })\n",
        "  recorder = new MediaRecorder(stream)\n",
        "  chunks = []\n",
        "  recorder.ondataavailable = e => chunks.push(e.data)\n",
        "  recorder.start()\n",
        "  await sleep(time)\n",
        "  recorder.onstop = async ()=>{\n",
        "    blob = new Blob(chunks)\n",
        "    text = await b2text(blob)\n",
        "    resolve(text)\n",
        "  }\n",
        "  recorder.stop()\n",
        "})\n",
        "\"\"\"\n",
        "\n",
        "def record(sec, filename='audio.wav'):\n",
        "  display(Javascript(RECORD))\n",
        "  s = output.eval_js('record(%d)' % (sec * 1000))\n",
        "  b = b64decode(s.split(',')[1])\n",
        "  with open(filename, 'wb+') as f:\n",
        "    f.write(b)\n",
        "\n",
        "import librosa\n",
        "import librosa.display\n",
        "import matplotlib.pyplot as plt\n",
        "import pysndfile\n",
        "from IPython.display import display, Audio\n",
        "import warnings\n",
        "warnings.filterwarnings('ignore')\n",
        "\n",
        "def rec(sec, filename, text, hira):\n",
        "  if sec > 15 :\n",
        "    print(\"15秒以上の音声は学習できません。\\n録音秒数を15秒以下に指定してください。\")\n",
        "    return\n",
        "  print(f\"{text}\\n{hira}\")\n",
        "  record(sec, \"temp.wav\")\n",
        "  print(\"---終了---\")\n",
        "  speech, rate = librosa.load(\"temp.wav\", sr=sampling_rate)\n",
        "  speecht, index = librosa.effects.trim(speech, top_db=30)\n",
        "  pysndfile.sndio.write(myvoice_dir + filename + \".wav\", speecht, rate=rate, format='wav', enc='pcm16')\n",
        "  with open(mytext_dir + filename + \".txt\", 'w') as mytext:\n",
        "    mytext.write(hira)\n",
        "  librosa.display.waveplot(speecht, sr=rate)\n",
        "  plt.show()\n",
        "  display(Audio(speecht, rate=rate))\n"
      ],
      "metadata": {
        "id": "1Txer2hJJvii",
        "cellView": "form"
      },
      "execution_count": null,
      "outputs": []
    },
    {
      "cell_type": "markdown",
      "source": [
        "​"
      ],
      "metadata": {
        "id": "ddaC3lCdx1HT"
      }
    },
    {
      "cell_type": "markdown",
      "source": [
        "## 4 学習用音声を録音する\n",
        "\n",
        "ITAコーパスを利用して音声を録音します。  \n",
        "以下の100件の学習データを録音します。  \n",
        "実行したら話す内容が表示されるので「---終了---」と表示されるまでに録音してください。  \n",
        "録音した波形が表示されるので、再生してみて良ければ次の録音をします。  \n",
        "うまく録音できていなかったら再度実行して録音しなおしてください。  \n",
        "時々録音状態が終了しない時があり、その際は左の■で止めて、ページ自体をスーパーリロード（shiftキーを押しながら再読み込み）してから再度実行してください。  \n",
        "録音時間が短い場合、先頭「rec(5, …」などの「5」の部分が録音秒数になっているので、修正してください。ただしMMVCの最大学習時間が15秒となっているのでそれ以下に指定してください。  \n",
        "学習データは MMVC_Trainer/dataset/textful/00_myvoice/wav/ 以下に保存されます。"
      ],
      "metadata": {
        "id": "Gnx7bNpcxs-I"
      }
    },
    {
      "cell_type": "code",
      "source": [
        "rec(3, \"emotion001\", \"えっ嘘でしょ。\", \"えっうそでしょ。\")"
      ],
      "metadata": {
        "id": "F81g6k7R1MDQ"
      },
      "execution_count": null,
      "outputs": []
    },
    {
      "cell_type": "code",
      "source": [
        "rec(5, \"emotion002\", \"シュヴァイツァーは見習うべき人間です。\", \"しゅゔぁいつぁーわみならうべきにんげんです。\")"
      ],
      "metadata": {
        "id": "tCkGwuzRsvIM"
      },
      "execution_count": null,
      "outputs": []
    },
    {
      "cell_type": "code",
      "source": [
        "rec(5, \"emotion003\", \"デーヴィスさんはとても疲れているように見える。\", \"でーゔぃすさんわとてもつかれているよーにみえる。\")"
      ],
      "metadata": {
        "id": "0kWCPXNQ0PM3"
      },
      "execution_count": null,
      "outputs": []
    },
    {
      "cell_type": "code",
      "source": [
        "rec(5, \"emotion004\", \"スティーヴはジェーンから手紙をもらった。\", \"すてぃーゔわじぇーんからてがみをもらった。\")"
      ],
      "metadata": {
        "id": "9vHfPV6F0vGe"
      },
      "execution_count": null,
      "outputs": []
    },
    {
      "cell_type": "code",
      "source": [
        "rec(10, \"emotion005\", \"彼女はモーツァルトやベートーヴェンといった、古典派の作曲家が好きだ。\", \"かのじょわもーつぁるとやべーとーゔぇんといった、こてんはのさっきょくかがすきだ。\")"
      ],
      "metadata": {
        "id": "Gb5IN8IX04UD"
      },
      "execution_count": null,
      "outputs": []
    },
    {
      "cell_type": "code",
      "source": [
        "rec(10, \"emotion006-1\", \"ストラットフォード・オン・エイヴォンは、シェイクスピアの生まれたところですが\", \"すとらっとふぉーどおんえいゔぉんわ、しぇいくすぴあのうまれたところですが\")"
      ],
      "metadata": {
        "id": "isMIFlOW1URa"
      },
      "execution_count": null,
      "outputs": []
    },
    {
      "cell_type": "code",
      "source": [
        "rec(5, \"emotion006-2\", \"毎年多くの観光客が訪れます。\", \"まいとしおおくのかんこーきゃくがおとずれます。\")"
      ],
      "metadata": {
        "id": "qq53RkUlaxC-"
      },
      "execution_count": null,
      "outputs": []
    },
    {
      "cell_type": "code",
      "source": [
        "rec(5, \"emotion007\", \"彼はピューマを慣らすのに、大いに骨を折った。\", \"かれわぴゅーまをならすのに、おおいにほねをおった。\")"
      ],
      "metadata": {
        "id": "3ERPiLuG1xHu"
      },
      "execution_count": null,
      "outputs": []
    },
    {
      "cell_type": "code",
      "source": [
        "rec(5, \"emotion008\", \"彼が解雇されるとは妙な話だ。\", \"かれがかいこされるとわみょーなはなしだ。\")"
      ],
      "metadata": {
        "id": "aF8oY3Do18g7"
      },
      "execution_count": null,
      "outputs": []
    },
    {
      "cell_type": "code",
      "source": [
        "rec(5, \"emotion009\", \"クリスはヴァンパイア・ナイトを倒した。\", \"くりすわゔぁんぱいあないとをたおした。\")"
      ],
      "metadata": {
        "id": "peoeGB8X2DNW"
      },
      "execution_count": null,
      "outputs": []
    },
    {
      "cell_type": "code",
      "source": [
        "rec(5, \"emotion010\", \"彼のあだ名は言い得て妙だよね。\", \"かれのあだなわいいえてみょーだよね。\")"
      ],
      "metadata": {
        "id": "MJ2NcLYS2M-_"
      },
      "execution_count": null,
      "outputs": []
    },
    {
      "cell_type": "code",
      "source": [
        "rec(7, \"emotion011-1\", \"イタリア旅行で彼は、いくつか景勝の地として有名な都市\", \"いたりありょこーでかれわ、いくつかけーしょーのちとしてゆうめーなとし\")"
      ],
      "metadata": {
        "id": "6KEr2M4z2Y6t"
      },
      "execution_count": null,
      "outputs": []
    },
    {
      "cell_type": "code",
      "source": [
        "rec(7, \"emotion011-2\", \"例えば、ナポリやフィレンツェを訪れた。\", \"たとえば、なぽりやふぃれんつぇをおとずれた。\")"
      ],
      "metadata": {
        "id": "3K30UyYAbRPm"
      },
      "execution_count": null,
      "outputs": []
    },
    {
      "cell_type": "code",
      "source": [
        "rec(10, \"emotion012\", \"ゼロという概念は、ヒンドゥー文化に由来している。\", \"ぜろとゆうがいねんわ、ひんどぅーぶんかにゆらいしている。\")"
      ],
      "metadata": {
        "id": "cJL5wQuD2z6-"
      },
      "execution_count": null,
      "outputs": []
    },
    {
      "cell_type": "code",
      "source": [
        "rec(5, \"emotion013\", \"そのいたずら娘は何食わぬ顔をした。\", \"そのいたずらむすめわなにくわぬかおをした。\")"
      ],
      "metadata": {
        "id": "JECJsALx3GJR"
      },
      "execution_count": null,
      "outputs": []
    },
    {
      "cell_type": "code",
      "source": [
        "rec(10, \"emotion014\", \"スミスさん、ピエール・デュボワをご紹介しますわ。私の親友なの。\", \"すみすさん、ぴえーるでゅぼわをごしょーかいしますわ。わたしのしんゆうなの。\")"
      ],
      "metadata": {
        "id": "_7YFft3O3Oly"
      },
      "execution_count": null,
      "outputs": []
    },
    {
      "cell_type": "code",
      "source": [
        "rec(10, \"emotion015\", \"どーすんの、このお店。完ッ全に閑古鳥が鳴いちゃってるじゃない。\", \"どーすんの、このおみせ。かんっぜんにかんこどりがないちゃってるじゃない。\")"
      ],
      "metadata": {
        "id": "bqLEBE0EC9ks"
      },
      "execution_count": null,
      "outputs": []
    },
    {
      "cell_type": "code",
      "source": [
        "rec(5, \"emotion016\", \"頂上に着くと皆でヤッホーと叫んだ。\", \"ちょーじょーにつくとみんなでやっほーとさけんだ。\")"
      ],
      "metadata": {
        "id": "GI2J-W-UDLnU"
      },
      "execution_count": null,
      "outputs": []
    },
    {
      "cell_type": "code",
      "source": [
        "rec(5, \"emotion017\", \"あっベルが鳴ってる。\", \"あっべるがなってる。\")"
      ],
      "metadata": {
        "id": "pwEGKbT6Diwn"
      },
      "execution_count": null,
      "outputs": []
    },
    {
      "cell_type": "code",
      "source": [
        "rec(5, \"emotion018\", \"彼女は彼にぴょこんとおじぎをした。\", \"かのじょわかれにぴょこんとおじぎをした。\")"
      ],
      "metadata": {
        "id": "Z06lHnMwDlMN"
      },
      "execution_count": null,
      "outputs": []
    },
    {
      "cell_type": "code",
      "source": [
        "rec(7, \"emotion019\", \"男子生徒のめいめいが、帽子に学校のバッジをつけています。\", \"だんしせーとのめーめーが、ぼーしにがっこーのばっじをつけています。\")"
      ],
      "metadata": {
        "id": "HIokRXNWDoAh"
      },
      "execution_count": null,
      "outputs": []
    },
    {
      "cell_type": "code",
      "source": [
        "rec(3, \"emotion020\", \"ヒューズが飛んだ。\", \"ひゅーずがとんだ。\")"
      ],
      "metadata": {
        "id": "hVvNfSoWDrum"
      },
      "execution_count": null,
      "outputs": []
    },
    {
      "cell_type": "code",
      "source": [
        "rec(5, \"emotion021\", \"私はポピュラー音楽を聞きたい。\", \"わたしわぽぴゅらーおんがくをききたい。\")"
      ],
      "metadata": {
        "id": "AvmvFZp-Du64"
      },
      "execution_count": null,
      "outputs": []
    },
    {
      "cell_type": "code",
      "source": [
        "rec(5, \"emotion022\", \"猫はにゃーにゃーと鳴く。\", \"ねこわにゃーにゃーとなく。\")"
      ],
      "metadata": {
        "id": "I6E7mCtRDzQj"
      },
      "execution_count": null,
      "outputs": []
    },
    {
      "cell_type": "code",
      "source": [
        "rec(10, \"emotion023\", \"私の一番上の兄が父の名代としてその会合に出席した。\", \"わたしのいちばんうえのあにがちちのみょーだいとしてそのかいごーにしゅっせきした。\")"
      ],
      "metadata": {
        "id": "BEkVDrE0D2Dv"
      },
      "execution_count": null,
      "outputs": []
    },
    {
      "cell_type": "code",
      "source": [
        "rec(5, \"emotion024\", \"彼は首相にインタビューした。\", \"かれわしゅしょーにいんたびゅーした。\")"
      ],
      "metadata": {
        "id": "bj7hujanD5UD"
      },
      "execution_count": null,
      "outputs": []
    },
    {
      "cell_type": "code",
      "source": [
        "rec(10, \"emotion025\", \"その会社の急速な成長は、その独特な戦略によるものだった。\", \"そのかいしゃのきゅうそくなせーちょーわ、そのどくとくなせんりゃくによるものだった。\")"
      ],
      "metadata": {
        "id": "qvnm3MYVD7-k"
      },
      "execution_count": null,
      "outputs": []
    },
    {
      "cell_type": "code",
      "source": [
        "rec(7, \"emotion026\", \"私はいつもミネラルウォーターを持ち歩いています。\", \"わたしわいつもみねらるうぉーたーをもちあるいています。\")"
      ],
      "metadata": {
        "id": "xhpatXsiD-ZJ"
      },
      "execution_count": null,
      "outputs": []
    },
    {
      "cell_type": "code",
      "source": [
        "rec(10, \"emotion027\", \"彼女はハンドバッグを開けて家の鍵を探してみたが、見つからなかった。\", \"かのじょわはんどばっぐをあけていえのかぎをさがしてみたが、みつからなかった。\")"
      ],
      "metadata": {
        "id": "Orqc5F_vEBP0"
      },
      "execution_count": null,
      "outputs": []
    },
    {
      "cell_type": "code",
      "source": [
        "rec(7, \"emotion028\", \"彼女はスタッフをまとめていけると思いますか？\", \"かのじょわすたっふをまとめていけるとおもいますか？\")"
      ],
      "metadata": {
        "id": "XwiI_5IFEDom"
      },
      "execution_count": null,
      "outputs": []
    },
    {
      "cell_type": "code",
      "source": [
        "rec(10, \"emotion029\", \"牛乳はあなたの体に良いだろう、毎日飲んだほうがいい。\", \"ぎゅうにゅうわあなたのからだによいだろー、まいにちのんだほーがいい。\")"
      ],
      "metadata": {
        "id": "XK5ydxImEHh6"
      },
      "execution_count": null,
      "outputs": []
    },
    {
      "cell_type": "code",
      "source": [
        "rec(10, \"emotion030\", \"あなたは流感になりかけているか、もっと重い病気かもしれません。\", \"あなたわりゅうかんになりかけているか、もっとおもいびょーきかもしれません。\")"
      ],
      "metadata": {
        "id": "KrMAF6aNEKsA"
      },
      "execution_count": null,
      "outputs": []
    },
    {
      "cell_type": "code",
      "source": [
        "rec(10, \"emotion031\", \"彼女はその事件を、生き生きとした筆致で描写した。\", \"かのじょわそのじけんを、いきいきとしたひっちでびょーしゃした。\")"
      ],
      "metadata": {
        "id": "8KmVB9UQEMtd"
      },
      "execution_count": null,
      "outputs": []
    },
    {
      "cell_type": "code",
      "source": [
        "rec(10, \"emotion032\", \"彼は自らの生涯を、インドでの病人の治療に捧げるつもりだ。\", \"かれわみずからのしょーがいを、いんどでのびょーにんのちりょーにささげるつもりだ。\")"
      ],
      "metadata": {
        "id": "9OICEzZ_EO-K"
      },
      "execution_count": null,
      "outputs": []
    },
    {
      "cell_type": "code",
      "source": [
        "rec(10, \"emotion033\", \"奇妙な男で、彼は人から話し掛けられないと口をきかない。\", \"きみょーなおとこで、かれわひとからはなしかけられないとくちをきかない。\")"
      ],
      "metadata": {
        "id": "ePRIx9G0ERia"
      },
      "execution_count": null,
      "outputs": []
    },
    {
      "cell_type": "code",
      "source": [
        "rec(7, \"emotion034\", \"我々はその山脈で土着のガイドを雇った。\", \"われわれわそのさんみゃくでどちゃくのがいどをやとった。\")"
      ],
      "metadata": {
        "id": "MbVslcnIETrq"
      },
      "execution_count": null,
      "outputs": []
    },
    {
      "cell_type": "code",
      "source": [
        "rec(7, \"emotion035\", \"彼女は息子に家で行儀よくするように言った。\", \"かのじょわむすこにいえでぎょーぎよくするよーにいった。\")"
      ],
      "metadata": {
        "id": "jzLjyVXUEWFj"
      },
      "execution_count": null,
      "outputs": []
    },
    {
      "cell_type": "code",
      "source": [
        "rec(7, \"emotion036\", \"彼はライフルを拾い上げ、それで標的をねらった。\", \"かれわらいふるをひろいあげ、それでひょーてきをねらった。\")"
      ],
      "metadata": {
        "id": "x2NcPri6EZEF"
      },
      "execution_count": null,
      "outputs": []
    },
    {
      "cell_type": "code",
      "source": [
        "rec(5, \"emotion037\", \"私はこの本に八百円を払った。\", \"わたしわこのほんにはっぴゃくえんをはらった。\")"
      ],
      "metadata": {
        "id": "z-kSXO-wEbK6"
      },
      "execution_count": null,
      "outputs": []
    },
    {
      "cell_type": "code",
      "source": [
        "rec(10, \"emotion038\", \"気分が悪くて入院したが、結果的にはたいしたことはなかった。\", \"きぶんがわるくてにゅういんしたが、けっかてきにわたいしたことわなかった。\")"
      ],
      "metadata": {
        "id": "HHZ0FgrNEdzI"
      },
      "execution_count": null,
      "outputs": []
    },
    {
      "cell_type": "code",
      "source": [
        "rec(5, \"emotion039-1\", \"アフィ狙いの釣り記事ですね。\", \"あふぃねらいのつりきじですね。\")"
      ],
      "metadata": {
        "id": "Y5Wh4c0tEs5e"
      },
      "execution_count": null,
      "outputs": []
    },
    {
      "cell_type": "code",
      "source": [
        "rec(10, \"emotion039-2\", \"英語関係のコミュのあちこちにマルチポストしています。\", \"えーごかんけーのこみゅのあちこちにまるちぽすとしています。\")"
      ],
      "metadata": {
        "id": "FM5VyjX_ZqkD"
      },
      "execution_count": null,
      "outputs": []
    },
    {
      "cell_type": "code",
      "source": [
        "rec(10, \"emotion040\", \"トラベラーズチェックを現金に替えてくれるのはこの窓口ですか？\", \"とらべらーずちぇっくをげんきんにかえてくれるのわこのまどぐちですか？\")"
      ],
      "metadata": {
        "id": "-BBIcbt9EvuF"
      },
      "execution_count": null,
      "outputs": []
    },
    {
      "cell_type": "code",
      "source": [
        "rec(7, \"emotion041\", \"本日の映画は、サウンド・オブ・ミュージックでございます。\", \"ほんじつのえーがわ、さうんどおぶみゅーじっくでございます。\")"
      ],
      "metadata": {
        "id": "AXw0nzV-Ez_n"
      },
      "execution_count": null,
      "outputs": []
    },
    {
      "cell_type": "code",
      "source": [
        "rec(10, \"emotion042\", \"概してわれわれ日本人は、外国語を話すのに少し臆病すぎる。\", \"がいしてわれわれにほんじんわ、がいこくごをはなすのにすこしおくびょーすぎる。\")"
      ],
      "metadata": {
        "id": "rBjKTsJYE2ve"
      },
      "execution_count": null,
      "outputs": []
    },
    {
      "cell_type": "code",
      "source": [
        "rec(5, \"emotion043-1\", \"店の人は私のことを知るようになり\", \"みせのひとわわたしのことをしるよーになり\")"
      ],
      "metadata": {
        "id": "HMeZxIlPE50t"
      },
      "execution_count": null,
      "outputs": []
    },
    {
      "cell_type": "code",
      "source": [
        "rec(7, \"emotion043-2\", \"私はいつも同じウェイトレスに応対してもらっていた。\", \"わたしわいつもおなじうぇいとれすにおーたいしてもらっていた。\")"
      ],
      "metadata": {
        "id": "OixOBFgMcVeQ"
      },
      "execution_count": null,
      "outputs": []
    },
    {
      "cell_type": "code",
      "source": [
        "rec(5, \"emotion044\", \"この丘からは何百万という星が見える。\", \"このおかからわなんびゃくまんとゆうほしがみえる。\")"
      ],
      "metadata": {
        "id": "n_Qu7VCpE8Tz"
      },
      "execution_count": null,
      "outputs": []
    },
    {
      "cell_type": "code",
      "source": [
        "rec(10, \"emotion045\", \"彼女は大学に入学したら、親から経済的に独立しようと思っていた。\", \"かのじょわだいがくににゅうがくしたら、おやからけーざいてきにどくりつしよーとおもっていた。\")"
      ],
      "metadata": {
        "id": "CalH9w-NE-e0"
      },
      "execution_count": null,
      "outputs": []
    },
    {
      "cell_type": "code",
      "source": [
        "rec(7, \"emotion046\", \"サブマリンのペリスコープが、水中からにょっきり突き出ていた。\", \"さぶまりんのぺりすこーぷが、すいちゅうからにょっきりつきでていた。\")"
      ],
      "metadata": {
        "id": "2IW9zgk5FBIh"
      },
      "execution_count": null,
      "outputs": []
    },
    {
      "cell_type": "code",
      "source": [
        "rec(7, \"emotion047\", \"別にブルマに特別な関心があるわけじゃない。\", \"べつにぶるまにとくべつなかんしんがあるわけじゃない。\")"
      ],
      "metadata": {
        "id": "PFlUEsUNFE7l"
      },
      "execution_count": null,
      "outputs": []
    },
    {
      "cell_type": "code",
      "source": [
        "rec(5, \"emotion048\", \"そういうフェティシズムはないと思う。\", \"そーゆうふぇてぃしずむわないとおもう。\")"
      ],
      "metadata": {
        "id": "FOKK6dDXFHT_"
      },
      "execution_count": null,
      "outputs": []
    },
    {
      "cell_type": "code",
      "source": [
        "rec(7, \"emotion049-1\", \"ウッド夫人が作ってくれるおいしい田舎風の料理を食べたし\", \"うっどふじんがつくってくれるおいしいいなかふうのりょーりをたべたし\")"
      ],
      "metadata": {
        "id": "M6kkjIt2FJxE"
      },
      "execution_count": null,
      "outputs": []
    },
    {
      "cell_type": "code",
      "source": [
        "rec(5, \"emotion049-2\", \"ミルクをたくさん飲みました。\", \"みるくをたくさんのみました。\")"
      ],
      "metadata": {
        "id": "2Awxp6Zcdk2H"
      },
      "execution_count": null,
      "outputs": []
    },
    {
      "cell_type": "code",
      "source": [
        "rec(7, \"emotion050-1\", \"私の妻が瓶をわってしまったので\", \"わたしのつまがびんをわってしまったので\")"
      ],
      "metadata": {
        "id": "6eQKqflHFMfn"
      },
      "execution_count": null,
      "outputs": []
    },
    {
      "cell_type": "code",
      "source": [
        "rec(7, \"emotion050-2\", \"台所の床は牛乳だらけになっている。\", \"だいどころのゆかわぎゅうにゅうだらけになっている。\")"
      ],
      "metadata": {
        "id": "FKJzWgDFeYwt"
      },
      "execution_count": null,
      "outputs": []
    },
    {
      "cell_type": "code",
      "source": [
        "rec(10, \"emotion051\", \"喧嘩をしていた二人の子供は、お互いにしかめっ面をして座っていた。\", \"けんかをしていたふたりのこどもわ、おたがいにしかめっつらをしてすわっていた。\")"
      ],
      "metadata": {
        "id": "20fhJ4SfFRqo"
      },
      "execution_count": null,
      "outputs": []
    },
    {
      "cell_type": "code",
      "source": [
        "rec(7, \"emotion052-1\", \"事業を継続しながら、事業が依拠している不動産を\", \"じぎょーをけーぞくしながら、じぎょーがいきょしているふどーさんを\")"
      ],
      "metadata": {
        "id": "Iq_ehMKRFj33"
      },
      "execution_count": null,
      "outputs": []
    },
    {
      "cell_type": "code",
      "source": [
        "rec(7, \"emotion052-2\", \"切り売りしていくことなど非現実的なのだ。\", \"きりうりしていくことなどひげんじつてきなのだ。\")"
      ],
      "metadata": {
        "id": "oEjlJIAKe74C"
      },
      "execution_count": null,
      "outputs": []
    },
    {
      "cell_type": "code",
      "source": [
        "rec(7, \"emotion053-1\", \"しかしペパーバーグは、そのオウムを研究することによって\", \"しかしぺぱーばーぐわ、そのおーむをけんきゅうすることによって\")"
      ],
      "metadata": {
        "id": "EbvuHOKrFssc"
      },
      "execution_count": null,
      "outputs": []
    },
    {
      "cell_type": "code",
      "source": [
        "rec(7, \"emotion053-2\", \"動物に対する考え方が変わったと言っている。\", \"どーぶつにたいするかんがえかたがかわったといっている。\")"
      ],
      "metadata": {
        "id": "WUDnT3-afYHe"
      },
      "execution_count": null,
      "outputs": []
    },
    {
      "cell_type": "code",
      "source": [
        "rec(10, \"emotion054\", \"パックマンがある条件を満たすと、追ってくるモンスターを逆襲して食べることができる。\", \"ぱっくまんがあるじょーけんをみたすと、おってくるもんすたーをぎゃくしゅうしてたべることができる。\")"
      ],
      "metadata": {
        "id": "_WUVxqJhFu4O"
      },
      "execution_count": null,
      "outputs": []
    },
    {
      "cell_type": "code",
      "source": [
        "rec(7, \"emotion055-1\", \"その数百年後に、フォークが西洋のテーブルに現れることになるが\", \"そのすうひゃくねんごに、ふぉーくがせーよーのてーぶるにあらわれることになるが\")"
      ],
      "metadata": {
        "id": "tA9WjtFmFyPl"
      },
      "execution_count": null,
      "outputs": []
    },
    {
      "cell_type": "code",
      "source": [
        "rec(5, \"emotion055-2\", \"ただちに受け入れられたわけではなかった。\", \"ただちにうけいれられたわけでわなかった。\")"
      ],
      "metadata": {
        "id": "zKCMtOVtgU5u"
      },
      "execution_count": null,
      "outputs": []
    },
    {
      "cell_type": "code",
      "source": [
        "rec(10, \"emotion056\", \"トップのリーダーは犬の行動学ではアルファと呼ばれ、以下ベータ、ガンマと続きます。\", \"とっぷのりーだーわいぬのこーどーがくでわあるふぁとよばれ、いかべーた、がんまとつづきます。\")"
      ],
      "metadata": {
        "id": "dXG6p6sHF0U1"
      },
      "execution_count": null,
      "outputs": []
    },
    {
      "cell_type": "code",
      "source": [
        "rec(7, \"emotion057\", \"ウィーンまでは歩くとどのくらいかかりますか？\", \"うぃーんまでわあるくとどのくらいかかりますか？\")"
      ],
      "metadata": {
        "id": "bFrP4NpOF2aG"
      },
      "execution_count": null,
      "outputs": []
    },
    {
      "cell_type": "code",
      "source": [
        "rec(5, \"emotion058\", \"すみません、この辺に詳しくないんです。\", \"すみません、このへんにくわしくないんです。\")"
      ],
      "metadata": {
        "id": "fucGfVkoGAeT"
      },
      "execution_count": null,
      "outputs": []
    },
    {
      "cell_type": "code",
      "source": [
        "rec(10, \"emotion059-1\", \"目標は授業設計をするときの、学生の思考を触発するメディア教材の選択および\", \"もくひょーわじゅぎょーせっけーをするときの、がくせーのしこーをしょくはつするめでぃあきょーざいのせんたくおよび\")"
      ],
      "metadata": {
        "id": "WcgQL4fDGB7Q"
      },
      "execution_count": null,
      "outputs": []
    },
    {
      "cell_type": "code",
      "source": [
        "rec(5, \"emotion059-2\", \"活用方法について理解することである。\", \"かつよーほーほーについてりかいすることである。\")"
      ],
      "metadata": {
        "id": "A6BKlWmLjbG4"
      },
      "execution_count": null,
      "outputs": []
    },
    {
      "cell_type": "code",
      "source": [
        "rec(10, \"emotion060\", \"とりあえず店の前、掃除しといてくれ。打ち水も頼む。\", \"とりあえずみせのまえ、そーじしといてくれ。うちみずもたのむ。\")"
      ],
      "metadata": {
        "id": "52LryWYlGEDH"
      },
      "execution_count": null,
      "outputs": []
    },
    {
      "cell_type": "code",
      "source": [
        "rec(10, \"emotion061\", \"人々はトーナメントが始まる何ヶ月も前に、これらの入場券を買う。\", \"ひとびとわとーなめんとがはじまるなんかげつもまえに、これらのにゅうじょーけんをかう。\")"
      ],
      "metadata": {
        "id": "bfFMIcq5GGH_"
      },
      "execution_count": null,
      "outputs": []
    },
    {
      "cell_type": "code",
      "source": [
        "rec(10, \"emotion062\", \"彼女の魅力は言葉では表現できない、とその芸術家は叫んだ。\", \"かのじょのみりょくわことばでわひょーげんできない、とそのげーじゅつかわさけんだ。\")"
      ],
      "metadata": {
        "id": "VOowNpITGIJq"
      },
      "execution_count": null,
      "outputs": []
    },
    {
      "cell_type": "code",
      "source": [
        "rec(10, \"emotion063-1\", \"事象として簡単なことを、いかにも難しそうに表現する人は\", \"じしょーとしてかんたんなことを、いかにもむずかしそーにひょーげんするひとわ\")"
      ],
      "metadata": {
        "id": "e0iii-vUGKYG"
      },
      "execution_count": null,
      "outputs": []
    },
    {
      "cell_type": "code",
      "source": [
        "rec(5, \"emotion063-2\", \"あまり頭がよさそうではない。\", \"あまりあたまがよさそーでわない。\")"
      ],
      "metadata": {
        "id": "cW3XJpCpj2H3"
      },
      "execution_count": null,
      "outputs": []
    },
    {
      "cell_type": "code",
      "source": [
        "rec(7, \"emotion064-1\", \"デザインも、アーチ型のロゴデザインにより\", \"でざいんも、あーちがたのろごでざいんにより\")"
      ],
      "metadata": {
        "id": "BmzuHrrjGMpC"
      },
      "execution_count": null,
      "outputs": []
    },
    {
      "cell_type": "code",
      "source": [
        "rec(7, \"emotion064-2\", \"現代的で登場感、躍動感あるものに仕上げました。\", \"げんだいてきでとーじょーかん、やくどーかんあるものにしあげました。\")"
      ],
      "metadata": {
        "id": "D4rxpL6VkEBh"
      },
      "execution_count": null,
      "outputs": []
    },
    {
      "cell_type": "code",
      "source": [
        "rec(7, \"emotion065\", \"そんなに慌てて運転して、一体どこへ行こうってんだよ。\", \"そんなにあわててうんてんして、いったいどこえいこーってんだよ。\")"
      ],
      "metadata": {
        "id": "Z1Kg041RGO_c"
      },
      "execution_count": null,
      "outputs": []
    },
    {
      "cell_type": "code",
      "source": [
        "rec(7, \"emotion066\", \"時間はあるんだから、安全運転してくれよ。\", \"じかんわあるんだから、あんぜんうんてんしてくれよ。\")"
      ],
      "metadata": {
        "id": "xJAXkiK4GTA3"
      },
      "execution_count": null,
      "outputs": []
    },
    {
      "cell_type": "code",
      "source": [
        "rec(10, \"emotion067-1\", \"ディスプレイはモニタともいい、コンピュータなどの機器から出力される静止画\", \"でぃすぷれいわもにたともいい、こんぴゅーたなどのききからしゅつりょくされるせーしが\")"
      ],
      "metadata": {
        "id": "X1hjiok8GUGv"
      },
      "execution_count": null,
      "outputs": []
    },
    {
      "cell_type": "code",
      "source": [
        "rec(7, \"emotion067-2\", \"または動画の映像信号を表示する機器である。\", \"またわどーがのえーぞーしんごーをひょーじするききである。\")"
      ],
      "metadata": {
        "id": "nOxzk79rkV7O"
      },
      "execution_count": null,
      "outputs": []
    },
    {
      "cell_type": "code",
      "source": [
        "rec(7, \"emotion068-1\", \"撃ち合いが少し静まったとき、パパが走ってフラットに行って\", \"うちあいがすこししずまったとき、ぱぱがはしってふらっとにいって\")"
      ],
      "metadata": {
        "id": "GiY8lSbxGYSU"
      },
      "execution_count": null,
      "outputs": []
    },
    {
      "cell_type": "code",
      "source": [
        "rec(5, \"emotion068-2\", \"私たちにサンドイッチを持ってきてくれたわ。\", \"わたしたちにさんどいっちをもってきてくれたわ。\")"
      ],
      "metadata": {
        "id": "rTZF5K-2ksvi"
      },
      "execution_count": null,
      "outputs": []
    },
    {
      "cell_type": "code",
      "source": [
        "rec(7, \"emotion069-1\", \"ギリシャのフットボールの試合では、一方のチームの選手は\", \"ぎりしゃのふっとぼーるのしあいでわ、いっぽーのちーむのせんしゅわ\")"
      ],
      "metadata": {
        "id": "E0E7MWMOGd5c"
      },
      "execution_count": null,
      "outputs": []
    },
    {
      "cell_type": "code",
      "source": [
        "rec(10, \"emotion069-2\", \"相手チームの陣地のラインの向こう側にボールを持ち込もうとしたのです。\", \"あいてちーむのじんちのらいんのむこーがわにぼーるをもちこもーとしたのです。\")"
      ],
      "metadata": {
        "id": "MbrhrSfOk5xd"
      },
      "execution_count": null,
      "outputs": []
    },
    {
      "cell_type": "code",
      "source": [
        "rec(10, \"emotion070-1\", \"泳者のシンディー・ニコラスは、へとへとになって泳ぎ切った後、ドーバーでかろうじて陸に上がってきたが\", \"えーしゃのしんでぃーにこらすわ、へとへとになっておよぎきったあと、どーばーでかろーじてりくにあがってきたが\")"
      ],
      "metadata": {
        "id": "EjiAIw0GGgqu"
      },
      "execution_count": null,
      "outputs": []
    },
    {
      "cell_type": "code",
      "source": [
        "rec(10, \"emotion070-2\", \"海峡水泳協会のスポークスマンは、彼女がとても元気であると発表した。\", \"かいきょーすいえーきょーかいのすぽーくすまんわ、かのじょがとてもげんきであるとはっぴょーした。\")"
      ],
      "metadata": {
        "id": "Fjeb7UZElJr2"
      },
      "execution_count": null,
      "outputs": []
    },
    {
      "cell_type": "code",
      "source": [
        "rec(10, \"emotion071\", \"若い男女が人里離れた洋館で恐怖の一夜を過ごすという、ホラーの定番スタイルだ。\", \"わかいだんじょがひとざとはなれたよーかんできょーふのいちやをすごすとゆう、ほらーのてーばんすたいるだ。\")"
      ],
      "metadata": {
        "id": "nsKf9t-IGjPu"
      },
      "execution_count": null,
      "outputs": []
    },
    {
      "cell_type": "code",
      "source": [
        "rec(10, \"emotion072-1\", \"一つには、西洋人ではない人々が自分たち独自の文化に誇りを持ち始めてきたためと、また一つには、\", \"ひとつにわ、せーよーじんでわないひとびとがじぶんたちどくじのぶんかにほこりをもちはじめてきたためと、またひとつにわ\")"
      ],
      "metadata": {
        "id": "ceDSiN8dGlxh"
      },
      "execution_count": null,
      "outputs": []
    },
    {
      "cell_type": "code",
      "source": [
        "rec(10, \"emotion072-2\", \"フォークを使わないそれらの地域は最も高い出生率の地域を抱えているという理由から、このことは当たっている。\", \"ふぉーくをつかわないそれらのちいきわもっともたかいしゅっしょーりつのちいきをかかえているとゆうりゆうから、このことわあたっている。\")"
      ],
      "metadata": {
        "id": "wJDt7mVeln68"
      },
      "execution_count": null,
      "outputs": []
    },
    {
      "cell_type": "code",
      "source": [
        "rec(7, \"emotion073\", \"私たちは恐怖の中で生きていて、苦しんでいるの。\", \"わたしたちわきょーふのなかでいきていて、くるしんでいるの。\")"
      ],
      "metadata": {
        "id": "znefurFEGoOX"
      },
      "execution_count": null,
      "outputs": []
    },
    {
      "cell_type": "code",
      "source": [
        "rec(10, \"emotion074\", \"太陽も花も楽しめないし、私たちの子供時代も楽しめないのよ。\", \"たいよーもはなもたのしめないし、わたしたちのこどもじだいもたのしめないのよ。\")"
      ],
      "metadata": {
        "id": "QyfNhO4PGqXo"
      },
      "execution_count": null,
      "outputs": []
    },
    {
      "cell_type": "code",
      "source": [
        "rec(10, \"emotion075-1\", \"弊社のエンジニアが日本国内で販売されている同様の製品と仕様を比較した結果\", \"へーしゃのえんじにあがにほんこくないではんばいされているどーよーのせーひんとしよーをひかくしたけっか\")"
      ],
      "metadata": {
        "id": "1n7LHM9QGtSj"
      },
      "execution_count": null,
      "outputs": []
    },
    {
      "cell_type": "code",
      "source": [
        "rec(7, \"emotion075-2\", \"非常に競合力があると判断いたしました。\", \"ひじょーにきょーごーりょくがあるとはんだんいたしました。\")"
      ],
      "metadata": {
        "id": "lYFVfdGll8Ri"
      },
      "execution_count": null,
      "outputs": []
    },
    {
      "cell_type": "code",
      "source": [
        "rec(7, \"emotion076-1\", \"ノースウエスタン大学の研究者、アイリーン・ペパーバーグは\", \"のーすうえすたんだいがくのけんきゅうしゃ、あいりーんぺぱーばーぐわ\")"
      ],
      "metadata": {
        "id": "wCruidCIGvjs"
      },
      "execution_count": null,
      "outputs": []
    },
    {
      "cell_type": "code",
      "source": [
        "rec(10, \"emotion076-2\", \"オウムは人の口まねをするだけでなく言葉の意味を学ぶことができることを発見しつつある。\", \"おーむわひとのくちまねをするだけでなくことばのいみをまなぶことができることをはっけんしつつある。\")"
      ],
      "metadata": {
        "id": "p8LGIsIVl-Ad"
      },
      "execution_count": null,
      "outputs": []
    },
    {
      "cell_type": "code",
      "source": [
        "rec(5, \"emotion077\", \"名前をテョといいます。\", \"なまえをてょといいます。\")"
      ],
      "metadata": {
        "id": "30auyKBKGxy0"
      },
      "execution_count": null,
      "outputs": []
    },
    {
      "cell_type": "code",
      "source": [
        "rec(5, \"emotion078\", \"ぴゅうぴゅう風が吹きこんでくる。\", \"ぴゅうぴゅうかぜがふきこんでくる。\")"
      ],
      "metadata": {
        "id": "c2td-2ZSG0N-"
      },
      "execution_count": null,
      "outputs": []
    },
    {
      "cell_type": "code",
      "source": [
        "rec(5, \"emotion079\", \"キェー。ギェー。イェーイ。\", \"きぇー。ぎぇー。いぇーい。\")"
      ],
      "metadata": {
        "id": "xKC_aseyG3rB"
      },
      "execution_count": null,
      "outputs": []
    },
    {
      "cell_type": "code",
      "source": [
        "rec(5, \"emotion080\", \"ひぇーん。びぇーん。ぴぇーん。\", \"ひぇーん。びぇーん。ぴぇーん。\")"
      ],
      "metadata": {
        "id": "949v0SkLG6UP"
      },
      "execution_count": null,
      "outputs": []
    },
    {
      "cell_type": "code",
      "source": [
        "rec(5, \"emotion081\", \"プリミェー。ミェルン。ニェン。\", \"ぷりみぇー。みぇるん。にぇん。\")"
      ],
      "metadata": {
        "id": "Ux-CDkDNG8kV"
      },
      "execution_count": null,
      "outputs": []
    },
    {
      "cell_type": "code",
      "source": [
        "rec(5, \"emotion082\", \"ステューデント。ダブルデュアル。\", \"すてゅーでんと。だぶるでゅある。\")"
      ],
      "metadata": {
        "id": "5yVXL9gVG-sy"
      },
      "execution_count": null,
      "outputs": []
    },
    {
      "cell_type": "code",
      "source": [
        "rec(7, \"emotion083\", \"エテュード。エデュケーショナル。サブスティテューション。\", \"えてゅーど。えでゅけーしょなる。さぶすてぃてゅーしょん。\")"
      ],
      "metadata": {
        "id": "wCjw4K60HAyU"
      },
      "execution_count": null,
      "outputs": []
    },
    {
      "cell_type": "code",
      "source": [
        "rec(3, \"emotion084\", \"ジャデャクシュ。\", \"じゃでゃくしゅ。\")"
      ],
      "metadata": {
        "id": "CmVKqC7fHC-U"
      },
      "execution_count": null,
      "outputs": []
    },
    {
      "cell_type": "code",
      "source": [
        "rec(3, \"emotion085\", \"ブレンドデョート。\", \"ぶれんどでょーと。\")"
      ],
      "metadata": {
        "id": "UERqGA3dHFIR"
      },
      "execution_count": null,
      "outputs": []
    },
    {
      "cell_type": "code",
      "source": [
        "rec(5, \"emotion086\", \"イデュスルファーゼ。\", \"いでゅするふぁーぜ。\")"
      ],
      "metadata": {
        "id": "MBpybgjsHG7B"
      },
      "execution_count": null,
      "outputs": []
    },
    {
      "cell_type": "code",
      "source": [
        "rec(3, \"emotion087\", \"あっあの。\", \"あっあの。\")"
      ],
      "metadata": {
        "id": "ptQCvMsyHI0U"
      },
      "execution_count": null,
      "outputs": []
    },
    {
      "cell_type": "code",
      "source": [
        "rec(3, \"emotion088\", \"いっいえ。\", \"いっいえ。\")"
      ],
      "metadata": {
        "id": "BCwt2dkTHLAC"
      },
      "execution_count": null,
      "outputs": []
    },
    {
      "cell_type": "code",
      "source": [
        "rec(3, \"emotion089\", \"えっえぇ。\", \"えっえぇ。\")"
      ],
      "metadata": {
        "id": "V9OSQt8WHM_e"
      },
      "execution_count": null,
      "outputs": []
    },
    {
      "cell_type": "code",
      "source": [
        "rec(3, \"emotion090\", \"おっおい。\", \"おっおい。\")"
      ],
      "metadata": {
        "id": "2Ne3QbLSHPhD"
      },
      "execution_count": null,
      "outputs": []
    },
    {
      "cell_type": "code",
      "source": [
        "rec(3, \"emotion091\", \"んーとね。\", \"んーとね。\")"
      ],
      "metadata": {
        "id": "X8O1TuO8HSDU"
      },
      "execution_count": null,
      "outputs": []
    },
    {
      "cell_type": "code",
      "source": [
        "rec(3, \"emotion092\", \"アンツィオ。\", \"あんつぃお。\")"
      ],
      "metadata": {
        "id": "2GZHy6SRHUi5"
      },
      "execution_count": null,
      "outputs": []
    },
    {
      "cell_type": "code",
      "source": [
        "rec(3, \"emotion093\", \"エンツォ。\", \"えんつぉ。\")"
      ],
      "metadata": {
        "id": "ieMCAp3ZHXFT"
      },
      "execution_count": null,
      "outputs": []
    },
    {
      "cell_type": "code",
      "source": [
        "rec(3, \"emotion094\", \"カートゥーン。\", \"かーとぅーん。\")"
      ],
      "metadata": {
        "id": "9-Zhw74YHcjh"
      },
      "execution_count": null,
      "outputs": []
    },
    {
      "cell_type": "code",
      "source": [
        "rec(3, \"emotion095\", \"スィーディー。\", \"すぃーでぃー。\")"
      ],
      "metadata": {
        "id": "e2us8Kh5Hf3W"
      },
      "execution_count": null,
      "outputs": []
    },
    {
      "cell_type": "code",
      "source": [
        "rec(3, \"emotion096\", \"ズィーブラ。\", \"ずぃーぶら。\")"
      ],
      "metadata": {
        "id": "B7joZGHeHg1P"
      },
      "execution_count": null,
      "outputs": []
    },
    {
      "cell_type": "code",
      "source": [
        "rec(5, \"emotion097\", \"デピュティーガバナー。\", \"でぴゅてぃーがばなー。\")"
      ],
      "metadata": {
        "id": "jAKVCnScHiut"
      },
      "execution_count": null,
      "outputs": []
    },
    {
      "cell_type": "code",
      "source": [
        "rec(3, \"emotion098\", \"エリュシオン。\", \"えりゅしおん。\")"
      ],
      "metadata": {
        "id": "vrlkmANgHlNC"
      },
      "execution_count": null,
      "outputs": []
    },
    {
      "cell_type": "code",
      "source": [
        "rec(3, \"emotion099\", \"ガリェント。\", \"がりぇんと。\")"
      ],
      "metadata": {
        "id": "b525XIbWHn8J"
      },
      "execution_count": null,
      "outputs": []
    },
    {
      "cell_type": "code",
      "source": [
        "rec(3, \"emotion100\", \"ラーテャン。\", \"らーてゃん。\")"
      ],
      "metadata": {
        "id": "j01kcKCfHp7y"
      },
      "execution_count": null,
      "outputs": []
    }
  ],
  "metadata": {
    "colab": {
      "collapsed_sections": [],
      "name": "00_Rec_Voice.ipynb",
      "provenance": []
    },
    "kernelspec": {
      "display_name": "Python 3",
      "name": "python3"
    },
    "language_info": {
      "name": "python"
    }
  },
  "nbformat": 4,
  "nbformat_minor": 0
}