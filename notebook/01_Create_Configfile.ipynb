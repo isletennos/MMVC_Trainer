{
  "cells": [
    {
      "cell_type": "markdown",
      "metadata": {
        "id": "Q3egrWHAzs7H"
      },
      "source": [
        "# MMVCの学習に必要なconfig系Fileを作成する\n",
        "\n",
        "ver.2022/09/17\n",
        "\n",
        "「Google Colaboratory」を利用したMMVCの学習に必要なファイルを生成します。\n"
      ]
    },
    {
      "cell_type": "markdown",
      "source": [
        "​"
      ],
      "metadata": {
        "id": "0TR-0ojLzatj"
      }
    },
    {
      "cell_type": "code",
      "execution_count": null,
      "metadata": {
        "cellView": "form",
        "id": "jFsXIyuIzHGX"
      },
      "outputs": [],
      "source": [
        "#@title ## 1 Google Driveをマウント\n",
        "#@markdown **このノートブックで、Google Driveを使用するための設定です。**\n",
        "\n",
        "#@markdown 「警告: このノートブックは Google が作成したものではありません。」といったポップアップが表示された場合、内容を確認して「このまま実行」を選択してください。このノートブックでは、外部へのデータ送信は一切行われません。\n",
        "\n",
        "#@markdown 　「このノートブックに Google ドライブのファイルへのアクセスを許可しますか？」といったポップアップが表示されるので、「Google ドライブに接続」を押下し、google アカウントを選択して、「許可」を選択してください。\n",
        "\n",
        "#@markdown 成功すれば、下記メッセージが出ます。 { display-mode: \"form\" }\n",
        "\n",
        "#@markdown ``` \n",
        "#@markdown Mounted at /content/drive/\n",
        "#@markdown ```\n",
        "\n",
        "from google.colab import drive\n",
        "drive.mount('/content/drive')"
      ]
    },
    {
      "cell_type": "markdown",
      "source": [
        "​"
      ],
      "metadata": {
        "id": "NJpMOTOq8TZJ"
      }
    },
    {
      "cell_type": "code",
      "source": [
        "#@title 2 MMVC_Trainerディレクトリに移動\n",
        "#@markdown ​マウントしたGoogle DriveのMMVC_Trainerディレクトリに移動します。\n",
        "\n",
        "#@markdown Google DriveでMMVC_Trainerの場所を確認し、以下でパスを指定してください。\n",
        "\n",
        "#@markdown 正しいパスが指定されていれば、以下のようなメッセージが表示されます。\n",
        "\n",
        "#@markdown ```\n",
        "#@markdown attentions.py\n",
        "#@markdown commons.py\n",
        "#@markdown ...(略)\n",
        "#@markdown ```\n",
        "#@markdown\n",
        "\n",
        "\n",
        "#@markdown ​\n",
        "#@markdown ### Settings\n",
        "directory = \"/content/drive/MyDrive/MMVC_Trainer\" #@param {type:\"string\"}\n",
        "\n",
        "%cd $directory\n",
        "!ls -1"
      ],
      "metadata": {
        "id": "4dSgFEkpvEhj",
        "cellView": "form"
      },
      "execution_count": null,
      "outputs": []
    },
    {
      "cell_type": "markdown",
      "source": [
        "​"
      ],
      "metadata": {
        "id": "HPqdW0RWzc_U"
      }
    },
    {
      "cell_type": "code",
      "execution_count": null,
      "metadata": {
        "id": "XDLDiK1Sk3uZ",
        "cellView": "form"
      },
      "outputs": [],
      "source": [
        "#@title ## 3 ライブラリのインストール\n",
        "#@markdown 数分かかります。\n",
        "\n",
        "#@markdown 成功すると、以下のようなメッセージが表示されます。\n",
        "\n",
        "#@markdown ```\n",
        "#@markdown　Successfully installed pyopenjtalk-x.x.x (x.x.xはバージョン名)\n",
        "#@markdown ```\n",
        "\n",
        "!pip install pyopenjtalk"
      ]
    },
    {
      "cell_type": "markdown",
      "source": [
        "​"
      ],
      "metadata": {
        "id": "MHzPUSHMzz1C"
      }
    },
    {
      "cell_type": "code",
      "source": [
        "#@title ## 4 config系Fileを作成する\n",
        "#@markdown 学習に必要なファイルを実行します。\n",
        "\n",
        "#@markdown 必要に応じて以下のSettingsを変更してから、実行してください。\n",
        "\n",
        "#@markdown 実行時に  \n",
        "#@markdown　**「WARNING: JPCommonLabel_insert_pause() in jpcommon_label.c: First mora should not be short pause.」**  \n",
        "#@markdown と表示されますが、無視して大丈夫です。 \n",
        "\n",
        "\n",
        "#@markdown ​\n",
        "#@markdown ### Settings\n",
        "#@markdown -f：作成するconfig系Fileの名前です。  よく分からない場合は変更不要です。\n",
        "config_name = \"train_config\" #@param {type:\"string\"}\n",
        "\n",
        "#@markdown -s：サンプリングレートです。datasetの音声のサンプリングレートに合わせて指定ください。よく分からない場合は変更不要です。  \n",
        "sample_rate = 24000 #@param {type:\"integer\"}\n",
        "\n",
        "#@markdown -t：ターゲットとなるキャラクターの設定です。\n",
        "#@markdown ずんだもんの学習を行いたい場合は「100」 、\n",
        "#@markdown 九州そらの学習を行いたい場合は「101」、\n",
        "#@markdown 四国めたんの学習を行いたい場合は「102」、  \n",
        "#@markdown 春日部つむぎの学習を行いたい場合は「103」\n",
        "#@markdown を設定するとクオリティがあがる**かも**しれません。\n",
        "#@markdown 非サポートキャラは「108」を指定します。\n",
        "character_select = 100 #@param [100, 101, 102, 103, 108]\n",
        "\n",
        "#@markdown -m：複数話者の学習を同時に行いたい場合に使用します。\n",
        "#@markdown multi_speaker_correspondence.txt を ```textful配下のディレクトリ名|0～109の番号``` となるように書き換えた後、オンにしてください。このオプションがtrueの場合、-tは無視されます。\n",
        "multi_speakers = False #@param {type:\"boolean\"}\n",
        "\n",
        "#@markdown -cについては、普通に使用する場合には必要ありません。\n",
        "if multi_speakers == 'True':\n",
        "  !python create_dataset_jtalk.py -f $config_name -s $sample_rate -m dataset/multi_speaker_correspondence.txt\n",
        "else:\n",
        "  !python create_dataset_jtalk.py -f $config_name -s $sample_rate -t $character_select"
      ],
      "metadata": {
        "id": "WhpHB7200irN",
        "cellView": "form"
      },
      "execution_count": null,
      "outputs": []
    },
    {
      "cell_type": "markdown",
      "source": [
        "​"
      ],
      "metadata": {
        "id": "B5lhnVQbOIoe"
      }
    },
    {
      "cell_type": "code",
      "source": [
        "#@title ## 5 確認\n",
        "#@markdown 以下のようなメッセージが表示されれば、保存が正常に完了しています。\n",
        "#@markdown ```\n",
        "#@markdown Directory: filelists\n",
        "#@markdown 指定したconfig系Fileの名前_textful.txt\n",
        "#@markdown 指定したconfig系Fileの名前_textful_val.txt\n",
        "#@markdown 指定したconfig系Fileの名前_textless.txt\n",
        "#@markdown 指定したconfig系Fileの名前_val_textless.txt\n",
        "#@markdown 指定したconfig系Fileの名前_Correspondence.txt\n",
        "#@markdown\n",
        "#@markdown Directory: configs\n",
        "#@markdown baseconfig.json\n",
        "#@markdown 指定したconfig系Fileの名前.json\n",
        "#@markdown ```\n",
        "\n",
        "print(\"Directory: filelists\")\n",
        "!ls -1 {directory}/filelists\n",
        "print(\"\\n\")\n",
        "print(\"Directory: configs\")\n",
        "!ls -1 {directory}/configs"
      ],
      "metadata": {
        "id": "dyJf0ntg1NKT",
        "cellView": "form"
      },
      "execution_count": null,
      "outputs": []
    }
  ],
  "metadata": {
    "colab": {
      "collapsed_sections": [],
      "name": "01_Create_Configfile.ipynb",
      "provenance": []
    },
    "kernelspec": {
      "display_name": "Python 3.9.6 64-bit",
      "language": "python",
      "name": "python3"
    },
    "language_info": {
      "name": "python",
      "version": "3.9.6"
    },
    "vscode": {
      "interpreter": {
        "hash": "d3394867249fd41ee68869925f4586b97ae8a94f3c93a4c25403e9e75f272611"
      }
    }
  },
  "nbformat": 4,
  "nbformat_minor": 0
}