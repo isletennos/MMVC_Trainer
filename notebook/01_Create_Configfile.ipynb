{
  "cells": [
    {
      "cell_type": "markdown",
      "metadata": {
        "id": "Q3egrWHAzs7H"
      },
      "source": [
        "# MMVC_Trainerの設定ファイルの作成\\n",
        "\n",
        "ver.2022/12/30\n",
        "\n",
        "「Google Colaboratory」を利用したMMVCの学習に必要なファイルを生成します。\n"
      ]
    },
    {
      "cell_type": "markdown",
      "metadata": {
        "id": "0TR-0ojLzatj"
      },
      "source": [
        "​"
      ]
    },
    {
      "cell_type": "code",
      "source": [
        "#@title ## 0 ノートブックの準備\n",
        "\n",
        "#@markdown このノートブックのセットアップを行います。セルを実行し、完了したら次に進んでください。\n",
        "\n",
        "#debug用ディレクトリの作成\n",
        "!rm -rf /mmvc-debug\n",
        "!mkdir /mmvc-debug\n",
        "\n",
        "#現在時刻の取得\n",
        "import datetime\n",
        "ｊst_delta = datetime.timedelta(hours=9)\n",
        "JST = datetime.timezone(jst_delta, 'JST')\n",
        "now = datetime.datetime.now(JST)\n",
        "nowt = now.strftime('%Y%m%d%H%M%S')\n",
        "\n",
        "#python管理\n",
        "import sys\n",
        "\n",
        "#出力記録用カスタムマジック %%ccapture\n",
        "from IPython import get_ipython\n",
        "from IPython.core import magic_arguments\n",
        "from IPython.core.magic import register_cell_magic\n",
        "from IPython.utils.capture import capture_output\n",
        "\n",
        "@magic_arguments.magic_arguments()\n",
        "@magic_arguments.argument('output', type=str, default='', nargs='?')\n",
        "\n",
        "@register_cell_magic\n",
        "def ccapture(line, cell):\n",
        "    args = magic_arguments.parse_argstring(ccapture, line)\n",
        "    with capture_output() as outputs:\n",
        "        get_ipython().run_cell(cell)\n",
        "    if args.output:\n",
        "        get_ipython().user_ns[args.output] = outputs\n",
        "    \n",
        "    outputs()"
      ],
      "metadata": {
        "cellView": "form",
        "id": "PQekWXccafAg"
      },
      "execution_count": null,
      "outputs": []
    },
    {
      "cell_type": "markdown",
      "metadata": {
        "id": "kKYPbO1deVD8"
      },
      "source": [
        "​"
      ]
    },
    {
      "cell_type": "code",
      "execution_count": null,
      "metadata": {
        "cellView": "form",
        "id": "jFsXIyuIzHGX"
      },
      "outputs": [],
      "source": [
        "%%ccapture one_mount_gdrive\n",
        "print(\"----------------------------------------------------------------------------------------------------\")\n",
        "print(\"1 Google Driveをマウント\")\n",
        "\n",
        "#@title ## 1 Google Driveをマウント\n",
        "#@markdown **このノートブックで、Google Driveを使用するための設定です。**\n",
        "\n",
        "#@markdown 「警告: このノートブックは Google が作成したものではありません。」といったポップアップが表示された場合、内容を確認して「このまま実行」を選択してください。このノートブックでは、外部へのデータ送信は一切行われません。\n",
        "\n",
        "#@markdown 　「このノートブックに Google ドライブのファイルへのアクセスを許可しますか？」といったポップアップが表示されるので、「Google ドライブに接続」を押下し、google アカウントを選択して、「許可」を選択してください。\n",
        "\n",
        "#@markdown 成功すれば、下記メッセージが出ます。\n",
        "\n",
        "#@markdown ``` \n",
        "#@markdown Mounted at /content/drive/\n",
        "#@markdown ```\n",
        "\n",
        "from google.colab import drive\n",
        "drive.mount('/content/drive')"
      ]
    },
    {
      "cell_type": "markdown",
      "metadata": {
        "id": "NJpMOTOq8TZJ"
      },
      "source": [
        "​"
      ]
    },
    {
      "cell_type": "code",
      "execution_count": null,
      "metadata": {
        "cellView": "form",
        "id": "1GYnDFivesdx"
      },
      "outputs": [],
      "source": [
        "%%ccapture two_cd_mmvc_trainer\n",
        "print(\"----------------------------------------------------------------------------------------------------\")\n",
        "print(\"2 MMVC_Trainerディレクトリに移動\")\n",
        "\n",
        "#@title ## 2 MMVC_Trainerディレクトリに移動\n",
        "#@markdown ​マウントしたGoogle DriveのMMVC_Trainerディレクトリに移動します。\n",
        "\n",
        "#@markdown Google DriveでMMVC_Trainerの場所を確認し、以下でパスを指定してください。\n",
        "\n",
        "#@markdown 正しいパスが指定されていれば、以下のようなメッセージが表示されます。\n",
        "\n",
        "#@markdown ```\n",
        "#@markdown attentions.py\n",
        "#@markdown commons.py\n",
        "#@markdown ...(略)\n",
        "#@markdown ```\n",
        "#@markdown\n",
        "\n",
        "\n",
        "#@markdown ​\n",
        "#@markdown ### Settings\n",
        "directory = \"/content/drive/MyDrive/MMVC_Trainer\" #@param {type:\"string\"}\n",
        "\n",
        "%cd $directory\n",
        "!ls -1"
      ]
    },
    {
      "cell_type": "markdown",
      "metadata": {
        "id": "HPqdW0RWzc_U"
      },
      "source": [
        "​"
      ]
    },
    {
      "cell_type": "code",
      "execution_count": null,
      "metadata": {
        "cellView": "form",
        "id": "XDLDiK1Sk3uZ"
      },
      "outputs": [],
      "source": [
        "%%ccapture three_install_library\n",
        "print(\"----------------------------------------------------------------------------------------------------\")\n",
        "print(\"3 ライブラリのインストール\")\n",
        "\n",
        "#@title ## 3 ライブラリのインストール\n",
        "#@markdown 数分かかります。\n",
        "\n",
        "#@markdown 成功すると、以下のようなメッセージが表示されます。\n",
        "\n",
        "#@markdown ```\n",
        "#@markdown　Successfully installed pyopenjtalk-x.x.x (x.x.xはバージョン名)\n",
        "#@markdown ```\n",
        "\n",
        "!pip install pyopenjtalk"
      ]
    },
    {
      "cell_type": "markdown",
      "metadata": {
        "id": "MHzPUSHMzz1C"
      },
      "source": [
        "​"
      ]
    },
    {
      "cell_type": "code",
      "execution_count": null,
      "metadata": {
        "cellView": "form",
        "id": "WhpHB7200irN"
      },
      "outputs": [],
      "source": [
        "%%ccapture four_create_config\n",
        "print(\"----------------------------------------------------------------------------------------------------\")\n",
        "print(\"4 config系Fileを作成する\")\n",
        "\n",
        "#@title ## 4 config系Fileを作成する\n",
        "#@markdown 学習に必要なファイルを実行します。\n",
        "\n",
        "#@markdown 必要に応じて以下のSettingsを変更してから、実行してください。\n",
        "\n",
        "#@markdown 実行時に  \n",
        "#@markdown　**「WARNING: JPCommonLabel_insert_pause() in jpcommon_label.c: First mora should not be short pause.」**  \n",
        "#@markdown と表示されますが、無視して大丈夫です。 \n",
        "\n",
        "\n",
        "#@markdown ​\n",
        "#@markdown ### Settings\n",
        "#@markdown -f：作成するconfig系Fileの名前です。  よく分からない場合は変更不要です。\n",
        "config_name = \"train_config\" #@param {type:\"string\"}\n",
        "\n",
        "#@markdown -s：サンプリングレートです。datasetの音声のサンプリングレートに合わせて指定ください。よく分からない場合は変更不要です。  \n",
        "sample_rate = 24000 #@param {type:\"integer\"}\n",
        "\n",
        "#@markdown -t：ターゲットとなるキャラクターの設定です。\n",
        "#@markdown ずんだもんの学習を行いたい場合は「100」 、\n",
        "#@markdown 九州そらの学習を行いたい場合は「101」、\n",
        "#@markdown 四国めたんの学習を行いたい場合は「102」、  \n",
        "#@markdown 春日部つむぎの学習を行いたい場合は「103」\n",
        "#@markdown を設定するとクオリティがあがる**かも**しれません。\n",
        "#@markdown 非サポートキャラは「108」を指定します。\n",
        "character_select = 100 #@param [100, 101, 102, 103, 108]\n",
        "\n",
        "#@markdown -m：複数話者の学習を同時に行いたい場合に使用します。\n",
        "#@markdown multi_speaker_correspondence.txt を ```textful配下のディレクトリ名|0～109の番号``` となるように書き換えた後、オンにしてください。このオプションがtrueの場合、-tは無視されます。\n",
        "multi_speakers = False #@param {type:\"boolean\"}\n",
        "\n",
        "#@markdown -cについては、普通に使用する場合には必要ありません。\n",
        "\n",
        "if multi_speakers == 'True':\n",
        "  !python create_dataset_jtalk.py -f $config_name -s $sample_rate -m dataset/multi_speaker_correspondence.txt\n",
        "else:\n",
        "  !python create_dataset_jtalk.py -f $config_name -s $sample_rate -t $character_select"
      ]
    },
    {
      "cell_type": "markdown",
      "metadata": {
        "id": "B5lhnVQbOIoe"
      },
      "source": [
        "​"
      ]
    },
    {
      "cell_type": "code",
      "execution_count": null,
      "metadata": {
        "cellView": "form",
        "id": "dyJf0ntg1NKT"
      },
      "outputs": [],
      "source": [
        "%%ccapture five_check_files\n",
        "print(\"----------------------------------------------------------------------------------------------------\")\n",
        "print(\"5 確認\")\n",
        "\n",
        "#@title ## 5 確認\n",
        "#@markdown 以下のようなメッセージが表示されれば、保存が正常に完了しています。\n",
        "#@markdown ```\n",
        "#@markdown Directory: filelists\n",
        "#@markdown 指定したconfig系Fileの名前_textful.txt\n",
        "#@markdown 指定したconfig系Fileの名前_textful_val.txt\n",
        "#@markdown 指定したconfig系Fileの名前_textless.txt\n",
        "#@markdown 指定したconfig系Fileの名前_val_textless.txt\n",
        "#@markdown 指定したconfig系Fileの名前_Correspondence.txt\n",
        "#@markdown\n",
        "#@markdown Directory: configs\n",
        "#@markdown baseconfig.json\n",
        "#@markdown 指定したconfig系Fileの名前.json\n",
        "#@markdown ```\n",
        "\n",
        "print(\"Directory: filelists\")\n",
        "!ls -1 {directory}/filelists\n",
        "print(\"\\n\")\n",
        "print(\"Directory: configs\")\n",
        "!ls -1 {directory}/configs"
      ]
    },
    {
      "cell_type": "markdown",
      "metadata": {
        "id": "wyl1oUYtP0un"
      },
      "source": [
        "​"
      ]
    },
    {
      "cell_type": "markdown",
      "source": [
        "## サポート専用\n",
        "\n",
        "**以下はお問い合わせの際、指示があった場合のみ使用してください。**"
      ],
      "metadata": {
        "id": "08CW8VAygNyH"
      }
    },
    {
      "cell_type": "code",
      "source": [
        "#@markdown **このセルは無視してください。**\n",
        "\n",
        "#@markdown このセルは、セルが一括で実行されることを防ぐためのものです。\n",
        "\n",
        "#@markdown  実行してしまった場合は、左側のアイコンをクリックしてセルを終了してください。\n",
        "\n",
        "#一括実行の阻止\n",
        "import time\n",
        "time.sleep(86400)"
      ],
      "metadata": {
        "cellView": "form",
        "id": "737DzMeregPQ"
      },
      "execution_count": null,
      "outputs": []
    },
    {
      "cell_type": "markdown",
      "metadata": {
        "id": "rINTq2jGfq6s"
      },
      "source": [
        "​"
      ]
    },
    {
      "cell_type": "code",
      "source": [
        "#@title ## サポート用ファイルの作成\n",
        "\n",
        "#@markdown セルを実行すると内部処理が行われ、zipファイルが操作中のPC(またはタブレットなど)にダウンロードされます。\n",
        "\n",
        "#@markdown ダウンロードされるzipファイルには、以下のファイルや情報が含まれます。\n",
        "\n",
        "#@markdown * MMVC_Trainerフォルダ内のファイルの一覧\n",
        "#@markdown * このノートブックで使用されている変数(自動的に設定されるものと、ユーザーが入力するものがあります)のリスト\n",
        "#@markdown * このセッション内の出力\n",
        "#@markdown * configsフォルダ内及びlogsフォルダ内のファイル\n",
        "\n",
        "#@markdown これらには、ユーザーの個人情報が含まれる可能性があります。ダウンロード完了後、ファイルを共有する前に、必ず内容をご確認ください。\n",
        "\n",
        "#@markdown ファイルのダウンロードが完了したら、ランタイムを切断してください。\n",
        "\n",
        "#ファイルの準備\n",
        "variable_txt = \"/mmvc-debug/mmvc-\" + str(nowt) + \"-variable.txt\"\n",
        "tree_dic_txt = \"/mmvc-debug/mmvc-\" + str(nowt) + \"-tree_dic.txt\"\n",
        "export_zip = \"/mmvc-debug-\" + str(nowt)\n",
        "export_zipp = \"/mmvc-debug-\" + str(nowt) + \".zip\"\n",
        "\n",
        "#変数の値を保存\n",
        "#whos使うと長い文字列が省略されるため、変数毎に取得する\n",
        "##変数の一覧を取得\n",
        "vlist = %who_ls\n",
        "##それぞれの変数で値を取得してファイルに保存\n",
        "with open(variable_txt, 'w') as f:\n",
        "  for ev in vlist:\n",
        "    try:\n",
        "      #変数名(str)\n",
        "      print(ev, end=' : ', file=f) \n",
        "      #変数の型(変数名がstrとなっているためevalでkeyに直す)\n",
        "      print(type(eval(ev)), end=' : ', file=f)\n",
        "      #変数の内容(変数名がstrとなっているためevalでkeyに直す)\n",
        "      print(eval(ev), file=f)\n",
        "    except:\n",
        "      pass\n",
        "\n",
        "#tree\n",
        "!apt install tree\n",
        "##ディレクトリ内以下\n",
        "import traceback\n",
        "with open(tree_dic_txt, 'w') as f:\n",
        "  try:\n",
        "    !tree {directory} > {tree_dic_txt}\n",
        "  except Exception as e:\n",
        "    print(\"An error occurred!\", file=f)\n",
        "    print(e, file=f)\n",
        "    print(traceback.print_exc(), file=f)\n",
        "\n",
        "#logsとconfigsの保存\n",
        "#directoryが無かったらmkdirしてno-dic.txt置く\n",
        "!if [ -d {directory}/logs ]; then if [ -z \"$(ls {directory}/logs)\" ]; then touch {directory}/logs/no-file.txt;else cp {directory}/logs /mmvc-debug/logs; fi;else mkdir /mmvc-debug/logs && touch /mmvc-debug/logs/no-dic.txt; fi\n",
        "!if [ -d {directory}/configs ]; then if [ -z \"$(ls {directory}/configs)\" ]; then touch {directory}/configs/no-file.txt;else cp {directory}/configs /mmvc-debug/configs; fi;else mkdir /mmvc-debug/configs && touch /mmvc-debug/configs/no-dic.txt; fi\n",
        "\n",
        "#直近のtracebackの保存\n",
        "with open('/mmvc-debug/traceback.txt', 'w') as f:\n",
        "  print(sys.last_type, sys.last_value, sys.last_traceback, file=f)\n",
        "\n",
        "#ccaptureの保存\n",
        "!mkdir /mmvc-debug/ccapture\n",
        "with open('/mmvc-debug/ccapture/one_mount_gdrive.txt', 'w') as f:\n",
        "  try:\n",
        "    print(one_mount_gdrive, file=f)\n",
        "  except:\n",
        "    pass\n",
        "\n",
        "with open('/mmvc-debug/ccapture/two_cd_mmvc_trainer.txt', 'w') as f:\n",
        "  try:\n",
        "    print(two_cd_mmvc_trainer, file=f)\n",
        "  except:\n",
        "    pass\n",
        "\n",
        "with open('/mmvc-debug/ccapture/three_install_library.txt', 'w') as f:\n",
        "  try:\n",
        "    print(three_install_library, file=f)\n",
        "  except:\n",
        "    pass\n",
        "\n",
        "with open('/mmvc-debug/ccapture/four_create_config.txt', 'w') as f:\n",
        "  try:\n",
        "    print(four_create_config, file=f)\n",
        "  except:\n",
        "    pass\n",
        "\n",
        "with open('/mmvc-debug/ccapture/five_check_files.txt', 'w') as f:\n",
        "  try:\n",
        "    print(five_check_files, file=f)\n",
        "  except:\n",
        "    pass\n",
        "\n",
        "#zipにまとめる\n",
        "!apt install zip\n",
        "!zip {export_zip} -r /mmvc-debug\n",
        "\n",
        "#colabのfilesモジュールを使ってダウンロード\n",
        "from google.colab import files\n",
        "files.download(export_zipp)"
      ],
      "metadata": {
        "cellView": "form",
        "id": "bHbubzsf7hrg"
      },
      "execution_count": null,
      "outputs": []
    }
  ],
  "metadata": {
    "colab": {
      "name": "01_Create_Configfile.ipynb",
      "provenance": []
    },
    "kernelspec": {
      "display_name": "Python 3",
      "language": "python",
      "name": "python3"
    },
    "language_info": {
      "name": "python",
      "version": "3.9.13 (tags/v3.9.13:6de2ca5, May 17 2022, 16:36:42) [MSC v.1929 64 bit (AMD64)]"
    },
    "vscode": {
      "interpreter": {
        "hash": "a7dbdef36cd9b5f90d7c663b452342b61474ced8781d3f6c4ff1c92eb4ede45a"
      }
    }
  },
  "nbformat": 4,
  "nbformat_minor": 0
}