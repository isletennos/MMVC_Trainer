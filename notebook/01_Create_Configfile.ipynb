{
  "cells": [
    {
      "cell_type": "markdown",
      "metadata": {
        "id": "Q3egrWHAzs7H"
      },
      "source": [
        "# MMVCの学習に必要なconfig系Fileを作成する\n",
        "\n",
        "ver.2022/12/30\n",
        "\n",
        "「Google Colaboratory」を利用したMMVCの学習に必要なファイルを生成します。\n"
      ]
    },
    {
      "cell_type": "markdown",
      "metadata": {
        "id": "0TR-0ojLzatj"
      },
      "source": [
        "​"
      ]
    },
    {
      "cell_type": "code",
      "execution_count": null,
      "metadata": {
        "cellView": "form",
        "id": "jFsXIyuIzHGX"
      },
      "outputs": [],
      "source": [
        "#@title ## 1 Google Driveをマウント\n",
        "#@markdown **このノートブックで、Google Driveを使用するための設定です。**\n",
        "\n",
        "#@markdown 「警告: このノートブックは Google が作成したものではありません。」といったポップアップが表示された場合、内容を確認して「このまま実行」を選択してください。このノートブックでは、外部へのデータ送信は一切行われません。\n",
        "\n",
        "#@markdown 　「このノートブックに Google ドライブのファイルへのアクセスを許可しますか？」といったポップアップが表示されるので、「Google ドライブに接続」を押下し、google アカウントを選択して、「許可」を選択してください。\n",
        "\n",
        "#@markdown 成功すれば、下記メッセージが出ます。\n",
        "\n",
        "#@markdown ``` \n",
        "#@markdown Mounted at /content/drive/\n",
        "#@markdown ```\n",
        "\n",
        "from google.colab import drive\n",
        "drive.mount('/content/drive')"
      ]
    },
    {
      "cell_type": "markdown",
      "metadata": {
        "id": "NJpMOTOq8TZJ"
      },
      "source": [
        "​"
      ]
    },
    {
      "cell_type": "code",
      "execution_count": null,
      "metadata": {
        "cellView": "form",
        "id": "4dSgFEkpvEhj"
      },
      "outputs": [],
      "source": [
        "#@title 2 MMVC_Trainerディレクトリに移動\n",
        "#@markdown ​マウントしたGoogle DriveのMMVC_Trainerディレクトリに移動します。\n",
        "\n",
        "#@markdown Google DriveでMMVC_Trainerの場所を確認し、以下でパスを指定してください。\n",
        "\n",
        "#@markdown 正しいパスが指定されていれば、以下のようなメッセージが表示されます。\n",
        "\n",
        "#@markdown ```\n",
        "#@markdown attentions.py\n",
        "#@markdown commons.py\n",
        "#@markdown ...(略)\n",
        "#@markdown ```\n",
        "#@markdown\n",
        "\n",
        "\n",
        "#@markdown ​\n",
        "#@markdown ### Settings\n",
        "directory = \"/content/drive/MyDrive/MMVC_Trainer\" #@param {type:\"string\"}\n",
        "\n",
        "%cd $directory\n",
        "!ls -1"
      ]
    },
    {
      "cell_type": "markdown",
      "metadata": {
        "id": "HPqdW0RWzc_U"
      },
      "source": [
        "​"
      ]
    },
    {
      "cell_type": "code",
      "execution_count": null,
      "metadata": {
        "cellView": "form",
        "id": "XDLDiK1Sk3uZ"
      },
      "outputs": [],
      "source": [
        "#@title ## 3 ライブラリのインストール\n",
        "#@markdown 数分かかります。\n",
        "\n",
        "#@markdown 成功すると、以下のようなメッセージが表示されます。\n",
        "\n",
        "#@markdown ```\n",
        "#@markdown　Successfully installed pyopenjtalk-x.x.x (x.x.xはバージョン名)\n",
        "#@markdown ```\n",
        "\n",
        "!pip install pyopenjtalk"
      ]
    },
    {
      "cell_type": "markdown",
      "metadata": {
        "id": "MHzPUSHMzz1C"
      },
      "source": [
        "​"
      ]
    },
    {
      "cell_type": "code",
      "execution_count": null,
      "metadata": {
        "cellView": "form",
        "id": "WhpHB7200irN"
      },
      "outputs": [],
      "source": [
        "#@title ## 4 config系Fileを作成する\n",
        "#@markdown 学習に必要なファイルを実行します。\n",
        "\n",
        "#@markdown 必要に応じて以下のSettingsを変更してから、実行してください。\n",
        "\n",
        "#@markdown 実行時に  \n",
        "#@markdown　**「WARNING: JPCommonLabel_insert_pause() in jpcommon_label.c: First mora should not be short pause.」**  \n",
        "#@markdown と表示されますが、無視して大丈夫です。 \n",
        "\n",
        "\n",
        "#@markdown ​\n",
        "#@markdown ### Settings\n",
        "#@markdown -f：作成するconfig系Fileの名前です。  よく分からない場合は変更不要です。\n",
        "config_name = \"train_config\" #@param {type:\"string\"}\n",
        "\n",
        "#@markdown -s：サンプリングレートです。datasetの音声のサンプリングレートに合わせて指定ください。よく分からない場合は変更不要です。  \n",
        "sample_rate = 24000 #@param {type:\"integer\"}\n",
        "\n",
        "#@markdown -t：ターゲットとなるキャラクターの設定です。\n",
        "#@markdown ずんだもんの学習を行いたい場合は「100」 、\n",
        "#@markdown 九州そらの学習を行いたい場合は「101」、\n",
        "#@markdown 四国めたんの学習を行いたい場合は「102」、  \n",
        "#@markdown 春日部つむぎの学習を行いたい場合は「103」\n",
        "#@markdown を設定するとクオリティがあがる**かも**しれません。\n",
        "#@markdown 非サポートキャラは「108」を指定します。\n",
        "character_select = 100 #@param [100, 101, 102, 103, 108]\n",
        "\n",
        "#@markdown -m：複数話者の学習を同時に行いたい場合に使用します。\n",
        "#@markdown multi_speaker_correspondence.txt を ```textful配下のディレクトリ名|0～109の番号``` となるように書き換えた後、オンにしてください。このオプションがtrueの場合、-tは無視されます。\n",
        "multi_speakers = False #@param {type:\"boolean\"}\n",
        "\n",
        "#@markdown -cについては、普通に使用する場合には必要ありません。\n",
        "if multi_speakers == 'True':\n",
        "  !python create_dataset_jtalk.py -f $config_name -s $sample_rate -m dataset/multi_speaker_correspondence.txt\n",
        "else:\n",
        "  !python create_dataset_jtalk.py -f $config_name -s $sample_rate -t $character_select"
      ]
    },
    {
      "cell_type": "markdown",
      "metadata": {
        "id": "B5lhnVQbOIoe"
      },
      "source": [
        "​"
      ]
    },
    {
      "cell_type": "code",
      "execution_count": null,
      "metadata": {
        "cellView": "form",
        "id": "dyJf0ntg1NKT"
      },
      "outputs": [],
      "source": [
        "#@title ## 5 確認\n",
        "#@markdown 以下のようなメッセージが表示されれば、保存が正常に完了しています。\n",
        "#@markdown ```\n",
        "#@markdown Directory: filelists\n",
        "#@markdown 指定したconfig系Fileの名前_textful.txt\n",
        "#@markdown 指定したconfig系Fileの名前_textful_val.txt\n",
        "#@markdown 指定したconfig系Fileの名前_textless.txt\n",
        "#@markdown 指定したconfig系Fileの名前_val_textless.txt\n",
        "#@markdown 指定したconfig系Fileの名前_Correspondence.txt\n",
        "#@markdown\n",
        "#@markdown Directory: configs\n",
        "#@markdown baseconfig.json\n",
        "#@markdown 指定したconfig系Fileの名前.json\n",
        "#@markdown ```\n",
        "\n",
        "print(\"Directory: filelists\")\n",
        "!ls -1 {directory}/filelists\n",
        "print(\"\\n\")\n",
        "print(\"Directory: configs\")\n",
        "!ls -1 {directory}/configs"
      ]
    },
    {
      "cell_type": "markdown",
      "metadata": {
        "id": "wyl1oUYtP0un"
      },
      "source": [
        "​"
      ]
    },
    {
      "cell_type": "markdown",
      "source": [
        "## サポート専用\n",
        "\n",
        "**以下はお問い合わせの際、指示があった場合のみ使用してください。**"
      ],
      "metadata": {
        "id": "08CW8VAygNyH"
      }
    },
    {
      "cell_type": "code",
      "source": [
        "#@markdown **このセルは無視してください。**\n",
        "\n",
        "#@markdown このセルは、セルが一括で実行されることを防ぐためのものです。\n",
        "\n",
        "#@markdown  実行してしまった場合は、左側のアイコンをクリックしてセルを終了してください。\n",
        "\n",
        "#一括実行の阻止\n",
        "import time\n",
        "time.sleep(86400)"
      ],
      "metadata": {
        "cellView": "form",
        "id": "737DzMeregPQ"
      },
      "execution_count": null,
      "outputs": []
    },
    {
      "cell_type": "markdown",
      "metadata": {
        "id": "rINTq2jGfq6s"
      },
      "source": [
        "​"
      ]
    },
    {
      "cell_type": "code",
      "source": [
        "#@title ## 1. サポートセッションの開始\n",
        "\n",
        "#@markdown このセルを実行すると、このノートブックでの出力が全て記録されるようになります。この間、**ノートブック上には出力が表示されません**が、仕様ですのでご安心ください。\n",
        "\n",
        "#@markdown 問題が再現できたら、以下の「2. サポートセッションの終了」を実行してください。\n",
        "\n",
        "#@markdown なお、誤って実行してしまった場合は、一度ランタイムを切断し、再接続してください。\n",
        "\n",
        "#ディレクトリ内の作成\n",
        "!rm -rf /mmvc-debug\n",
        "!mkdir /mmvc-debug\n",
        "\n",
        "#現在時刻の取得\n",
        "import datetime\n",
        "ｊst_delta = datetime.timedelta(hours=9)\n",
        "JST = datetime.timezone(jst_delta, 'JST')\n",
        "now = datetime.datetime.now(JST)\n",
        "nowt = now.strftime('%Y%m%d%H%M%S')\n",
        "\n",
        "#stdoutのキャプチャ\n",
        "import sys\n",
        "class Logger:\n",
        "\n",
        "    def __init__(self, path):\n",
        "        self.file = open(path, 'w')\n",
        " \n",
        "    def write(self, message):\n",
        "        self.file.write(message)\n",
        "\n",
        "    def flush(self):\n",
        "        self.file.flush()\n",
        " \n",
        "path = \"/mmvc-debug/mmvc-\" + str(nowt) + \"-stdout.txt\"\n",
        "sys.stdout = Logger(path)"
      ],
      "metadata": {
        "cellView": "form",
        "id": "_UNtX-D-hxSU"
      },
      "execution_count": null,
      "outputs": []
    },
    {
      "cell_type": "markdown",
      "metadata": {
        "id": "e7sJn61IP0B4"
      },
      "source": [
        "​"
      ]
    },
    {
      "cell_type": "code",
      "source": [
        "#@title ## 2. サポートセッションの終了\n",
        "\n",
        "#@markdown セルを実行すると内部処理が行われ、zipファイルが操作中のPC(またはタブレットなど)にダウンロードされます。\n",
        "\n",
        "#@markdown ダウンロードされるzipファイルには、以下のファイルや情報が含まれます。\n",
        "\n",
        "#@markdown * MMVC_Trainerフォルダ内のファイルの一覧\n",
        "#@markdown * このノートブックで使用されている変数(自動的に設定されるものと、ユーザーが入力するものがあります)のリスト\n",
        "#@markdown * このセッション内の出力\n",
        "#@markdown * configsフォルダ内及びlogsフォルダ内のファイル\n",
        "\n",
        "#@markdown これらには、ユーザーの個人情報が含まれる可能性があります。ダウンロード完了後、ファイルを共有する前に、必ず内容をご確認ください。\n",
        "\n",
        "#@markdown ファイルのダウンロードが完了したら、ランタイムを切断してください。\n",
        "\n",
        "#ファイルの準備\n",
        "variable_txt = \"/mmvc-debug/mmvc-\" + str(nowt) + \"-variable.txt\"\n",
        "tree_dic_txt = \"/mmvc-debug/mmvc-\" + str(nowt) + \"-tree_dic.txt\"\n",
        "export_zip = \"/mmvc-debug-\" + str(nowt)\n",
        "export_zipp = \"/mmvc-debug-\" + str(nowt) + \".zip\"\n",
        "\n",
        "#変数の値を保存\n",
        "#whos使うと長い文字列が省略されるため、変数毎に取得する\n",
        "##変数の一覧を取得\n",
        "vlist = %who_ls\n",
        "##それぞれの変数で値を取得してファイルに保存\n",
        "with open(variable_txt, 'w') as f:\n",
        "  for ev in vlist:\n",
        "    #変数名(str)\n",
        "    print(ev, end=' : ', file=f) \n",
        "    #変数の型(変数名がstrとなっているためevalでkeyに直す)\n",
        "    print(type(eval(ev)), end=' : ', file=f)\n",
        "    #変数の内容(変数名がstrとなっているためevalでkeyに直す)\n",
        "    print(eval(ev), file=f)\n",
        "\n",
        "#tree\n",
        "!apt install tree\n",
        "##ディレクトリ内以下\n",
        "import traceback\n",
        "with open(tree_dic_txt, 'w') as f:\n",
        "  try:\n",
        "    !tree {path} > {tree_dic_txt}\n",
        "  except Exception as e:\n",
        "    print(\"An error occurred!\", file=f)\n",
        "    print(e, file=f)\n",
        "    print(traceback.print_exc(), file=f)\n",
        "\n",
        "#zipにまとめる\n",
        "!apt install zip\n",
        "!zip {export_zip} -r /mmvc-debug\n",
        "\n",
        "#colabのfilesモジュールを使ってダウンロード\n",
        "from google.colab import files\n",
        "files.download(export_zipp)"
      ],
      "metadata": {
        "cellView": "form",
        "id": "RCOgnUaVI1eN"
      },
      "execution_count": null,
      "outputs": []
    }
  ],
  "metadata": {
    "colab": {
      "name": "01_Create_Configfile.ipynb",
      "provenance": []
    },
    "kernelspec": {
      "display_name": "Python 3",
      "language": "python",
      "name": "python3"
    },
    "language_info": {
      "name": "python",
      "version": "3.9.13 (tags/v3.9.13:6de2ca5, May 17 2022, 16:36:42) [MSC v.1929 64 bit (AMD64)]"
    },
    "vscode": {
      "interpreter": {
        "hash": "a7dbdef36cd9b5f90d7c663b452342b61474ced8781d3f6c4ff1c92eb4ede45a"
      }
    }
  },
  "nbformat": 4,
  "nbformat_minor": 0
}