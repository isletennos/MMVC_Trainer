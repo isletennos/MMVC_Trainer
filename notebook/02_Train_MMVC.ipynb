{
  "cells": [
    {
      "cell_type": "markdown",
      "metadata": {
        "id": "qjxnLNp4TAqD"
      },
      "source": [
        "# MMVC Trainer\n",
        "\n",
        "ver.2022/12/19\n",
        "\n",
        "「Google Colaboratory」を利用してMMVCで利用するVITSの学習を行います。"
      ]
    },
    {
      "cell_type": "markdown",
      "metadata": {
        "id": "DTaWXYH8r0f4"
      },
      "source": [
        "​"
      ]
    },
    {
      "cell_type": "code",
      "execution_count": null,
      "metadata": {
        "cellView": "form",
        "id": "jFsXIyuIzHGX"
      },
      "outputs": [],
      "source": [
        "#@title ## 1 Google Driveをマウント\n",
        "#@markdown **このノートブックで、Google Driveを使用するための設定です。**\n",
        "\n",
        "#@markdown 「警告: このノートブックは Google が作成したものではありません。」といったポップアップが表示された場合、内容を確認して「このまま実行」を選択してください。このノートブックでは、外部へのデータ送信は一切行われません。\n",
        "\n",
        "#@markdown 　「このノートブックに Google ドライブのファイルへのアクセスを許可しますか？」といったポップアップが表示されるので、「Google ドライブに接続」を押下し、google アカウントを選択して、「許可」を選択してください。\n",
        "\n",
        "#@markdown 成功すれば、下記メッセージが出ます。\n",
        "\n",
        "#@markdown ``` \n",
        "#@markdown Mounted at /content/drive/\n",
        "#@markdown ```\n",
        "\n",
        "from google.colab import drive\n",
        "drive.mount('/content/drive')"
      ]
    },
    {
      "cell_type": "markdown",
      "metadata": {
        "id": "B5lhnVQbOIoe"
      },
      "source": [
        "​"
      ]
    },
    {
      "cell_type": "code",
      "execution_count": null,
      "metadata": {
        "cellView": "form",
        "id": "4dSgFEkpvEhj"
      },
      "outputs": [],
      "source": [
        "#@title 2 MMVC_Trainerディレクトリに移動\n",
        "#@markdown ​マウントしたGoogle DriveのMMVC_Trainerディレクトリに移動します。\n",
        "\n",
        "#@markdown Google DriveでMMVC_Trainerの場所を確認し、以下でパスを指定してください。\n",
        "\n",
        "#@markdown 正しいパスが指定されていれば、以下のようなメッセージが表示されます。\n",
        "\n",
        "#@markdown ```\n",
        "#@markdown attentions.py\n",
        "#@markdown commons.py\n",
        "#@markdown ...(略)\n",
        "#@markdown ```\n",
        "#@markdown\n",
        "\n",
        "\n",
        "#@markdown ​\n",
        "#@markdown ### Settings\n",
        "directory = \"/content/drive/MyDrive/MMVC_Trainer\" #@param {type:\"string\"}\n",
        "\n",
        "%cd $directory\n",
        "!ls -1"
      ]
    },
    {
      "cell_type": "markdown",
      "metadata": {
        "id": "a9UiGTPJsCut"
      },
      "source": [
        "​"
      ]
    },
    {
      "cell_type": "code",
      "execution_count": null,
      "metadata": {
        "cellView": "form",
        "id": "uSMdNq2rn4_G"
      },
      "outputs": [],
      "source": [
        "#@title ## 3 GPUの確認\n",
        "#@markdown GPUの確認を行います。  \n",
        "#@markdown 割り当てられたGPUのメモリーを確認し、それに合わせてconfigファイルの\"batch_size\"を指定してください。  \n",
        "!nvidia-smi"
      ]
    },
    {
      "cell_type": "markdown",
      "metadata": {
        "id": "kezhQgu-sDlJ"
      },
      "source": [
        "​"
      ]
    },
    {
      "cell_type": "code",
      "execution_count": null,
      "metadata": {
        "cellView": "form",
        "id": "LWceuYPPn7UN"
      },
      "outputs": [],
      "source": [
        "#@title ## 4 ライブラリのインストール\n",
        "#@markdown 時間がかかります。気長にお待ちください。\n",
        "!apt-get install espeak\n",
        "!pip install -r requirements.txt\n",
        "\n",
        "%cd monotonic_align/\n",
        "!python setup.py build_ext --inplace\n",
        "%cd ../"
      ]
    },
    {
      "cell_type": "markdown",
      "metadata": {
        "id": "Thm7hBSGtx4x"
      },
      "source": [
        "​"
      ]
    },
    {
      "cell_type": "code",
      "execution_count": null,
      "metadata": {
        "cellView": "form",
        "id": "4k3EKZNPn82i"
      },
      "outputs": [],
      "source": [
        "#@title ## 5 tensorboardの起動\n",
        "#@markdown とりあえず実行しておいてください。\n",
        "# Load the TensorBoard notebook extension\n",
        "%load_ext tensorboard\n",
        "%tensorboard --logdir logs --port 5000"
      ]
    },
    {
      "cell_type": "markdown",
      "metadata": {
        "id": "244F-hp7yG_x"
      },
      "source": [
        "​"
      ]
    },
    {
      "cell_type": "code",
      "execution_count": null,
      "metadata": {
        "cellView": "form",
        "id": "PXjk0mM8wjt4"
      },
      "outputs": [],
      "source": [
        "#@title ## 6 学習を実行する\n",
        "#@markdown 学習を実行します。以下のSettingsで必要な設定を行った後、セルを実行してください。\n",
        "\n",
        "#@markdown ### Settings\n",
        "#@markdown New / Resume\n",
        "\n",
        "#@markdown 新規に学習を開始する場合は、Newを選択し、**以下の-c, -m, -fg, -fdを全て設定してください。**\n",
        "\n",
        "#@markdown 学習を再開する場合は、Resumeを選択し、以下の-c, -mを設定してください。-mで指定したディレクトリの最新のモデルから学習を再開します。 \n",
        "\n",
        "#@markdown **注意**\n",
        "\n",
        "#@markdown **学習を再開する前に、\"1. Google Driveをマウント\"から\"5. tensorboardの起動\"までを実行してください。ノートブックを開くたびに、毎回必要です。**\n",
        "\n",
        "New_or_Resume = \"New\" #@param [\"New\", \"Resume\"]\n",
        "\n",
        "#@markdown -c：configファイルのパス\n",
        "#@markdown 作成したconfigファイル(json)を指定してください。  \n",
        "#@markdown `configs/****.json` のような値になります。\n",
        "config_pass = \"configs/train_config.json\" #@param {type:\"string\"}\n",
        "\n",
        "#@markdown -m：modelの保存先ディレクトリ  \n",
        "#@markdown **ディレクトリ名を直接指名してください。** \n",
        "model_save_dic = \"20220306_24000\" #@param {type:\"string\"}\n",
        "\n",
        "#@markdown -fg：(新規学習時のみ) Fine tuningのベースとなるG_xxxx.pth のpathを指定してください。  \n",
        "#@markdown よく分からない場合は、変更不要です。\n",
        "fine_model_g = \"fine_model/G_180000.pth\" #@param {type:\"string\"}\n",
        "\n",
        "#@markdown -fd：(新規学習時のみ) Fine tuningのベースとなるD_xxxx.pth のpathを指定してください。  \n",
        "#@markdown よく分からない場合は、変更不要です。\n",
        "fine_model_d = \"fine_model/D_180000.pth\" #@param {type:\"string\"}\n",
        "\n",
        "if New_or_Resume == \"New\":\n",
        "  !python train_ms.py -c $config_pass -m $model_save_dic -fg $fine_model_g -fd $fine_model_d\n",
        "elif New_or_Resume == \"Resume\":\n",
        "  !python train_ms.py -c $config_pass -m $model_save_dic"
      ]
    },
    {
      "cell_type": "code",
      "execution_count": null,
      "metadata": {
        "cellView": "form",
        "id": "7R6NNu4dEELS"
      },
      "outputs": [],
      "source": [
        "#@title ## 7 学習結果をONNXファイルに変換\n",
        "\n",
        "#@markdown 学習結果をONNXファイルに変換します。\n",
        "\n",
        "!python onnx_export.py --config_file logs/$model_save_dic/config.json --convert_pth logs/$model_save_dic/G_latest_99999999.pth\n",
        "\n",
        "#@markdown 変換が終わるとlogs内にあるmodelの保存先ディレクトリにONNXファイルが生成されています。  \n",
        "\n",
        "#@markdown クライアントの実行には、このディレクトリ内の **config.json** と **G_latest_99999999.onnx** の2ファイルが必要です。  \n",
        "\n",
        "#@markdown クライアントのlogsディレクトリ内に、わかりやすいように同じ名前でフォルダを作成し、この2ファイルをコピーしてください。"
      ]
    },
    {
      "cell_type": "markdown",
      "metadata": {
        "id": "rINTq2jGfq6s"
      },
      "source": [
        "​"
      ]
    },
    {
      "cell_type": "markdown",
      "source": [
        "## サポート専用\n",
        "\n",
        "**以下はお問い合わせの際、指示があった場合のみ使用してください。**"
      ],
      "metadata": {
        "id": "08CW8VAygNyH"
      }
    },
    {
      "cell_type": "code",
      "source": [
        "#@markdown **このセルは無視してください。**\n",
        "\n",
        "#@markdown このセルは、セルが一括で実行されることを防ぐためのものです。\n",
        "\n",
        "#@markdown  実行してしまった場合は、左側のアイコンをクリックしてセルを終了してください。\n",
        "\n",
        "#一括実行の阻止\n",
        "import time\n",
        "time.sleep(86400)"
      ],
      "metadata": {
        "cellView": "form",
        "id": "737DzMeregPQ"
      },
      "execution_count": null,
      "outputs": []
    },
    {
      "cell_type": "markdown",
      "metadata": {
        "id": "-v64xOPOQOg3"
      },
      "source": [
        "​"
      ]
    },
    {
      "cell_type": "code",
      "source": [
        "#@title ## 1. サポートセッションの開始\n",
        "\n",
        "#@markdown このセルを実行すると、このノートブックでの出力が全て記録されるようになります。この間、**ノートブック上には出力が表示されません**が、仕様ですのでご安心ください。\n",
        "\n",
        "#@markdown 問題が再現できたら、以下の「2. サポートセッションの終了」を実行してください。\n",
        "\n",
        "#@markdown なお、誤って実行してしまった場合は、一度ランタイムを切断し、再接続してください。\n",
        "\n",
        "#ディレクトリ内の作成\n",
        "!rm -rf /mmvc-debug\n",
        "!mkdir /mmvc-debug\n",
        "\n",
        "#現在時刻の取得\n",
        "import datetime\n",
        "ｊst_delta = datetime.timedelta(hours=9)\n",
        "JST = datetime.timezone(jst_delta, 'JST')\n",
        "now = datetime.datetime.now(JST)\n",
        "nowt = now.strftime('%Y%m%d%H%M%S')\n",
        "\n",
        "#stdoutのキャプチャ\n",
        "import sys\n",
        "class Logger:\n",
        "\n",
        "    def __init__(self, path):\n",
        "        self.file = open(path, 'w')\n",
        " \n",
        "    def write(self, message):\n",
        "        self.file.write(message)\n",
        "\n",
        "    def flush(self):\n",
        "        self.file.flush()\n",
        " \n",
        "path = \"/mmvc-debug/mmvc-\" + str(nowt) + \"-stdout.txt\"\n",
        "sys.stdout = Logger(path)"
      ],
      "metadata": {
        "cellView": "form",
        "id": "_UNtX-D-hxSU"
      },
      "execution_count": null,
      "outputs": []
    },
    {
      "cell_type": "markdown",
      "metadata": {
        "id": "O0KuFOppQO1E"
      },
      "source": [
        "​"
      ]
    },
    {
      "cell_type": "code",
      "source": [
        "#@title ## 2. サポートセッションの終了\n",
        "\n",
        "#@markdown セルを実行すると内部処理が行われ、zipファイルが操作中のPC(またはタブレットなど)にダウンロードされます。\n",
        "\n",
        "#@markdown ダウンロードされるzipファイルには、以下のファイルや情報が含まれます。\n",
        "\n",
        "#@markdown * MMVC_Trainerフォルダ内のファイルの一覧\n",
        "#@markdown * このノートブックで使用されている変数(自動的に設定されるものと、ユーザーが入力するものがあります)のリスト\n",
        "#@markdown * このセッション内の出力\n",
        "#@markdown * configsフォルダ内及びlogsフォルダ内のファイル\n",
        "\n",
        "#@markdown これらには、ユーザーの個人情報が含まれる可能性があります。ダウンロード完了後、ファイルを共有する前に、必ず内容をご確認ください。\n",
        "\n",
        "#@markdown ファイルのダウンロードが完了したら、ランタイムを切断してください。\n",
        "\n",
        "#ファイルの準備\n",
        "variable_txt = \"/mmvc-debug/mmvc-\" + str(nowt) + \"-variable.txt\"\n",
        "tree_dic_txt = \"/mmvc-debug/mmvc-\" + str(nowt) + \"-tree_dic.txt\"\n",
        "export_zip = \"/mmvc-debug-\" + str(nowt)\n",
        "export_zipp = \"/mmvc-debug-\" + str(nowt) + \".zip\"\n",
        "\n",
        "#変数の値を保存\n",
        "#whos使うと長い文字列が省略されるため、変数毎に取得する\n",
        "##変数の一覧を取得\n",
        "vlist = %who_ls\n",
        "##それぞれの変数で値を取得してファイルに保存\n",
        "with open(variable_txt, 'w') as f:\n",
        "  for ev in vlist:\n",
        "    #変数名(str)\n",
        "    print(ev, end=' : ', file=f) \n",
        "    #変数の型(変数名がstrとなっているためevalでkeyに直す)\n",
        "    print(type(eval(ev)), end=' : ', file=f)\n",
        "    #変数の内容(変数名がstrとなっているためevalでkeyに直す)\n",
        "    print(eval(ev), file=f)\n",
        "\n",
        "#tree\n",
        "!apt install tree\n",
        "##ディレクトリ内以下\n",
        "import traceback\n",
        "with open(tree_dic_txt, 'w') as f:\n",
        "  try:\n",
        "    !tree {path} > {tree_dic_txt}\n",
        "  except Exception as e:\n",
        "    print(\"An error occurred!\", file=f)\n",
        "    print(e, file=f)\n",
        "    print(traceback.print_exc(), file=f)\n",
        "\n",
        "#zipにまとめる\n",
        "!apt install zip\n",
        "!zip {export_zip} -r /mmvc-debug\n",
        "\n",
        "#colabのfilesモジュールを使ってダウンロード\n",
        "from google.colab import files\n",
        "files.download(export_zipp)"
      ],
      "metadata": {
        "cellView": "form",
        "id": "RCOgnUaVI1eN"
      },
      "execution_count": null,
      "outputs": []
    }
  ],
  "metadata": {
    "accelerator": "GPU",
    "colab": {
      "provenance": []
    },
    "kernelspec": {
      "display_name": "Python 3",
      "language": "python",
      "name": "python3"
    },
    "language_info": {
      "name": "python",
      "version": "3.9.13 (tags/v3.9.13:6de2ca5, May 17 2022, 16:36:42) [MSC v.1929 64 bit (AMD64)]"
    },
    "vscode": {
      "interpreter": {
        "hash": "a7dbdef36cd9b5f90d7c663b452342b61474ced8781d3f6c4ff1c92eb4ede45a"
      }
    }
  },
  "nbformat": 4,
  "nbformat_minor": 0
}