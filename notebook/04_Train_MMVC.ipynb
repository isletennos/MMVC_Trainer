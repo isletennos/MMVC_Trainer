{
  "cells": [
    {
      "cell_type": "markdown",
      "metadata": {
        "id": "qjxnLNp4TAqD"
      },
      "source": [
        "# MMVCの学習\n",
        "\n",
        "ver.2023/3/9\n",
        "\n",
        "MMVCで利用するVITSの学習を行います。"
      ]
    },
    {
      "cell_type": "markdown",
      "metadata": {
        "id": "DTaWXYH8r0f4"
      },
      "source": [
        "​"
      ]
    },
    {
      "cell_type": "code",
      "execution_count": null,
      "metadata": {
        "cellView": "form",
        "id": "_XCTZsIKu-t2"
      },
      "outputs": [],
      "source": [
        "#@title ## 0 ノートブックの準備\n",
        "\n",
        "#@markdown このノートブックのセットアップを行います。セルを実行してください。\n",
        "\n",
        "#@markdown 「警告: このノートブックは Google が作成したものではありません。」といったポップアップが表示された場合、内容を確認して「このまま実行」を選択してください。このノートブックでは、外部へのデータ送信は一切行われません。\n",
        "\n",
        "#@markdown セルの実行が完了したら、次に進んでください。\n",
        "\n",
        "#@markdown 「警告: このノートブックは Google が作成したものではありません。」といったポップアップが表示された場合、内容を確認して「このまま実行」を選択してください。このノートブックでは、外部へのデータ送信は一切行われません。\n",
        "\n",
        "#debug用ディレクトリの作成\n",
        "!rm -rf /mmvc-debug\n",
        "!mkdir /mmvc-debug\n",
        "\n",
        "#現在時刻の取得\n",
        "import datetime\n",
        "jst_delta = datetime.timedelta(hours=9)\n",
        "JST = datetime.timezone(jst_delta, 'JST')\n",
        "now = datetime.datetime.now(JST)\n",
        "nowt = now.strftime('%Y%m%d%H%M%S')\n",
        "\n",
        "#出力記録用カスタムマジック %%ccapture\n",
        "from IPython import get_ipython\n",
        "from IPython.core import magic_arguments\n",
        "from IPython.core.magic import register_cell_magic\n",
        "from IPython.utils.capture import capture_output\n",
        "\n",
        "@magic_arguments.magic_arguments()\n",
        "@magic_arguments.argument('output', type=str, default='', nargs='?')\n",
        "\n",
        "@register_cell_magic\n",
        "def ccapture(line, cell):\n",
        "    args = magic_arguments.parse_argstring(ccapture, line)\n",
        "    with capture_output() as outputs:\n",
        "        get_ipython().run_cell(cell)\n",
        "    if args.output:\n",
        "        get_ipython().user_ns[args.output] = outputs\n",
        "    \n",
        "    outputs()\n",
        "\n",
        "#Pythonパッケージのインストール\n",
        "print(\"log: パッケージのインストールを開始します。\")\n",
        "##ipywidgets UIの実装に使用\n",
        "!pip install ipywidgets\n",
        "import ipywidgets as widgets\n",
        "#IPython.display 出力の消去に使用\n",
        "from IPython.display import clear_output\n",
        "#time waitコマンドの実装に使用\n",
        "import time\n",
        "#git-lfs 事前学習済みモデルのダウンロードに使用\n",
        "!apt install git-lfs\n",
        "#os ディレクトリの存在確認に使用\n",
        "import os\n",
        "#sys Pythonの管理全般(クラッシュ、tracebackなど)\n",
        "import sys\n",
        "print(\"log: パッケージのインストールが完了しました。\\n\")\n"
      ]
    },
    {
      "cell_type": "markdown",
      "metadata": {
        "id": "VHMDxJ7rXWL5"
      },
      "source": [
        "​"
      ]
    },
    {
      "cell_type": "code",
      "execution_count": null,
      "metadata": {
        "cellView": "form",
        "id": "ZVPYnCiM_m7r"
      },
      "outputs": [],
      "source": [
        "%%ccapture one_prepare_notebook\n",
        "#@title ## 1 Notebookの準備\n",
        "#@markdown このNotebookの実行に必要なパッケージを導入します。\n",
        "\n",
        "#@markdown 時間がかかりますので、気長にお待ちください。\n",
        "\n",
        "#Pythonパッケージのインストール\n",
        "print(\"log: パッケージのインストールを開始します。\")\n",
        "##ipywidgets UIの実装に使用\n",
        "!pip install ipywidgets\n",
        "import ipywidgets as widgets\n",
        "#IPython.display 出力の消去に使用\n",
        "from IPython.display import clear_output\n",
        "#time waitコマンドの実装に使用\n",
        "import time\n",
        "print(\"log: パッケージのインストールが完了しました。\\n\")"
      ]
    },
    {
      "cell_type": "markdown",
      "metadata": {
        "id": "Y2gyPco8_o6A"
      },
      "source": [
        "​"
      ]
    },
    {
      "cell_type": "code",
      "execution_count": null,
      "metadata": {
        "cellView": "form",
        "id": "AY9VJFRv6rnY"
      },
      "outputs": [],
      "source": [
        "%%ccapture two_prepare_repo\n",
        "#@title ## 2 リポジトリの準備\n",
        "#@markdown リポジトリの準備を行います。\n",
        "\n",
        "#@markdown まず、セルを実行してください。UIが表示されます。\n",
        "\n",
        "#@markdown Colabを使用している場合\n",
        "#@markdown * PlatformでColabを選択してください。\n",
        "#@markdown * PathでMMVC_Trainerの保存先となる、Google Driveのマイドライブ以下のパスを指定してください。よく分からない場合は、変更しなくとも構いません。変更しない場合は、マイドライブ直下に保存されます。\n",
        "#@markdown * 「このノートブックに Google ドライブのファイルへのアクセスを許可しますか？」といったポップアップが表示されますので、「Google ドライブに接続」を押下し、google アカウントを選択して、「許可」を選択してください。\n",
        "\n",
        "#@markdown ローカルの場合\n",
        "#@markdown * PlatformでLocalを選択してください。\n",
        "#@markdown * PathでMMVC_Trainerの保存先となる、ローカルのパスを指定してください。\n",
        "\n",
        "#@markdown 設定が完了したら、次へを押してください。\n",
        "\n",
        "\n",
        "#---関数---\n",
        "def mount_googledrive():\n",
        "  print(\"log: Google Driveのマウントを開始します。\")\n",
        "  print(\"「このノートブックに Google ドライブのファイルへのアクセスを許可しますか？」といったポップアップが表示されますので、「Google ドライブに接続」を押下し、google アカウントを選択して、「許可」を選択してください。\")\n",
        "  time.sleep(2)\n",
        "  print(\"info: 少し時間がかかります。このままお待ちください。\")\n",
        "  from google.colab import drive\n",
        "  drive.mount('/content/drive')\n",
        "  print(\"log: Google Driveのマウントが完了しました。\\n\")\n",
        "\n",
        "#---関数終わり---\n",
        "\n",
        "def first_view():\n",
        "  #widgetsの構成\n",
        "  global platform_input #グローバル指定\n",
        "  global path_input #グローバル指定\n",
        "  platform_input = widgets.Dropdown(options=[\"Colab\", \"Local\"], value=\"Colab\", description='Platform:', disabled=False)\n",
        "  path_input = widgets.Text(value='/content/drive/MyDrive/MMVC_Trainer-v1.5.0.0_SiFiGAN', placeholder='/content/drive/MyDrive/MMVC_Trainer-v1.5.0.0_SiFiGAN', description='Path:', disabled=False)\n",
        "  next_1 = widgets.Button(description='次へ', disabled=False)\n",
        "  #widgetsの表示\n",
        "  display(platform_input, path_input, next_1)\n",
        "  #ボタンがクリックされたらmainを動かす\n",
        "  next_1.on_click(main)\n",
        "\n",
        "def main(b: widgets.Button) -> None:\n",
        "  clear_output(True)\n",
        "  #入力を変数に入れておく\n",
        "  global platform #グローバル指定\n",
        "  platform = platform_input.value\n",
        "  global path #グローバル指定\n",
        "  path = path_input.value\n",
        "  #Colabとそれ以外で処理を分ける\n",
        "  if platform == \"Colab\":\n",
        "    mount_googledrive() #Google Driveのマウント\n",
        "    %cd $path\n",
        "  elif platform == \"Local\":\n",
        "    %cd $path\n",
        "\n",
        "#実行\n",
        "first_view()"
      ]
    },
    {
      "cell_type": "markdown",
      "metadata": {
        "id": "WiHKrJ40eSPT"
      },
      "source": [
        "​"
      ]
    },
    {
      "cell_type": "code",
      "execution_count": null,
      "metadata": {
        "cellView": "form",
        "id": "1Ga_lDgzeQBr"
      },
      "outputs": [],
      "source": [
        "%%ccapture three_prepare_training\n",
        "#@title ## 3 実行の準備\n",
        "#@markdown 実行に必要なパッケージを導入します。\n",
        "\n",
        "#@markdown 時間がかかりますので、気長にお待ちください。\n",
        "\n",
        "print(\"log: パッケージのインストールを開始します。\")\n",
        "!apt-get install espeak\n",
        "!pip install -r requirements.txt\n",
        "print(\"log: パッケージのインストールが完了しました。\\n\")"
      ]
    },
    {
      "cell_type": "markdown",
      "metadata": {
        "id": "a9UiGTPJsCut"
      },
      "source": [
        "​"
      ]
    },
    {
      "cell_type": "code",
      "execution_count": null,
      "metadata": {
        "cellView": "form",
        "id": "uSMdNq2rn4_G"
      },
      "outputs": [],
      "source": [
        "%%ccapture four_check_gpu\n",
        "#@title ## 4 GPUの確認\n",
        "#@markdown GPUの確認を行います。\n",
        "#@markdown 割り当てられたGPUのメモリーを確認し、必要に応じてconfigファイルの\"batch_size\"を変更してください。 \n",
        "#@markdown あくまで参考値ですが、GPUメモリ40GBで\"batch_size\"：16で動きました。 \n",
        "\n",
        "#@markdown よく分からない場合、変更不要です。(学習においてメモリの不足によりエラーとなる場合、変更が必要となります。詳細についてはDiscordでお問い合わせください)\n",
        "!nvidia-smi"
      ]
    },
    {
      "cell_type": "markdown",
      "metadata": {
        "id": "kezhQgu-sDlJ"
      },
      "source": [
        "​"
      ]
    },
    {
      "cell_type": "code",
      "execution_count": null,
      "metadata": {
        "cellView": "form",
        "id": "4k3EKZNPn82i"
      },
      "outputs": [],
      "source": [
        "%%ccapture five_launch_tensorboard\n",
        "#@title ## 5 tensorboardの起動\n",
        "#@markdown とりあえず実行しておいてください。\n",
        "\n",
        "#Load the TensorBoard notebook extension\n",
        "%load_ext tensorboard\n",
        "%tensorboard --logdir logs --port 5000"
      ]
    },
    {
      "cell_type": "markdown",
      "metadata": {
        "id": "PCUmtAHIU4Jd"
      },
      "source": [
        "​"
      ]
    },
    {
      "cell_type": "code",
      "execution_count": null,
      "metadata": {
        "cellView": "form",
        "id": "PXjk0mM8wjt4"
      },
      "outputs": [],
      "source": [
        "%%ccapture six_settings_for_training\n",
        "#@title ## 6 学習の設定\n",
        "#@markdown 学習に必要な設定を行います。\n",
        "\n",
        "#@markdown まず、セルを実行してください。\n",
        "\n",
        "#@markdown UIが表示されますので、以下の説明に従って設定を行ってください。\n",
        "\n",
        "#@markdown ​\n",
        "\n",
        "#@markdown New / Resume\n",
        "#@markdown 新規に学習を開始する場合は、Newを選択し、**以下の-c, -m, -fg, -fdを全て設定してください。**\n",
        "#@markdown 学習を再開する場合は、Resumeを選択し、以下の-c, -mを設定してください。-mで指定したディレクトリの最新のモデルから学習を再開します。\n",
        "\n",
        "#@markdown -c：configファイルのパス\n",
        "#@markdown 作成したconfigファイル(json)を指定してください。  \n",
        "#@markdown `configs/****.json` のような値になります。\n",
        "\n",
        "#@markdown -m：modelの保存先ディレクトリ  \n",
        "#@markdown **ディレクトリ名を直接指定してください。** \n",
        "\n",
        "#@markdown -f：(新規学習時のみ) Fine tuningのベースとなるG/D_xxxx.pth のファイル名を指定してください。 \n",
        "#@markdown latestを指定すると、自動で最新のファイルを選択します。 \n",
        "#@markdown よく分からない場合は、変更不要です。\n",
        "\n",
        "#@markdown ​\n",
        "\n",
        "#@markdown 設定が完了したら、次へを押してください。\n",
        "#@markdown 「設定が完了しました」と表示されたら、次のセルに進んでください。\n",
        "\n",
        "def first_view():\n",
        "  #widgetsの構成\n",
        "  global new_or_resume_input #グローバル指定\n",
        "  global config_path_input #グローバル指定\n",
        "  global model_save_dic_input #グローバル指定\n",
        "  global fine_model_input #グローバル指定\n",
        "  new_or_resume_input = widgets.Dropdown(options=[\"New\", \"Resume\"], value=\"New\", description='new/resume:', disabled=False)\n",
        "  config_path_input = widgets.Text(value='configs/train_config.json', placeholder='configs/train_config.json', description='config_path:', disabled=False)\n",
        "  model_save_dic_input = widgets.Text(value='tutorial', placeholder='tutorial', description='model_save_dic:', disabled=False)\n",
        "  fine_model_input = widgets.Text(value='latest', placeholder='G/D_xxxxx.pth', description='fine_model:', disabled=False)\n",
        "  next_1 = widgets.Button(description='次へ', disabled=False)\n",
        "  #widgetsの表示\n",
        "  display(new_or_resume_input, config_path_input, model_save_dic_input, fine_model_input, next_1)\n",
        "  #ボタンがクリックされたらmainを動かす\n",
        "  next_1.on_click(main)\n",
        "\n",
        "def main(b: widgets.Button) -> None:\n",
        "  clear_output(True)\n",
        "  #入力を変数に入れておく\n",
        "  global new_or_resume #グローバル指定\n",
        "  new_or_resume = new_or_resume_input.value\n",
        "  global config_path #グローバル指定\n",
        "  config_path = config_path_input.value\n",
        "  global model_save_dic #グローバル指定\n",
        "  model_save_dic = model_save_dic_input.value\n",
        "  #fine_model_gとfine_model_dは新規のみ\n",
        "  if new_or_resume == \"New\":\n",
        "    global fine_model_g #グローバル指定\n",
        "    if fine_model_input.value == \"latest\":\n",
        "      filenames = [f for f in os.listdir(path + \"/fine_model\") if f.startswith('G_v') and f.endswith('_finemodel.pth')]\n",
        "      filenames = sorted(filenames, key=lambda x: int(x.split('_')[1][2:3]) * 100 + int(x.split('_')[2][4:5]))\n",
        "      if filenames:\n",
        "        fine_model_g = \"fine_model/\" + filenames[-1]\n",
        "      else:\n",
        "        print(\"finemodelが見つかりません。\")\n",
        "    else:\n",
        "      fine_model_g = \"fine_model/\" + fine_model_input.value\n",
        "    global fine_model_d #グローバル指定\n",
        "    if fine_model_g:\n",
        "      fine_model_d = fine_model_g.replace('G', 'D')\n",
        "    else:\n",
        "      print(\"finemodelが見つかりません。\")\n",
        "  %cd {path}\n",
        "  print(\"設定が完了しました。\")\n",
        "  print(\"new_or_resume:\" + new_or_resume)\n",
        "  print(\"config:\" + config_path)\n",
        "  print(\"model_save_dic:\" + model_save_dic)\n",
        "  if new_or_resume == \"New\":\n",
        "    print(\"fine_model_g:\" + fine_model_g)\n",
        "    print(\"fine_model_d:\" + fine_model_d)\n",
        "\n",
        "#実行\n",
        "first_view()"
      ]
    },
    {
      "cell_type": "markdown",
      "metadata": {
        "id": "RXc35qsOGnm0"
      },
      "source": [
        "​"
      ]
    },
    {
      "cell_type": "code",
      "execution_count": null,
      "metadata": {
        "cellView": "form",
        "id": "K424APsSDUaI"
      },
      "outputs": [],
      "source": [
        "#@title ## 7 学習を行う\n",
        "#@markdown 学習を行います。\n",
        "\n",
        "#@markdown セルを実行すると、学習が開始されます。\n",
        "#@markdown 学習はインスタンスが切断されるか、何らかのエラーが発生するまで継続します。\n",
        "\n",
        "#@markdown 学習を終了するタイミングについては、Discordでお問い合わせください。\n",
        "\n",
        "if new_or_resume == \"New\":\n",
        "  !python train_ms.py -c $config_path -m $model_save_dic -fg $fine_model_g -fd $fine_model_d\n",
        "elif new_or_resume == \"Resume\":\n",
        "  !python train_ms.py -c $config_path -m $model_save_dic"
      ]
    },
    {
      "cell_type": "code",
      "source": [
        "%%ccapture eight_convert_to_onnx\n",
        "print(\"----------------------------------------------------------------------------------------------------\")\n",
        "print(\"8 学習結果をONNXファイルに変換\")\n",
        "\n",
        "#@title ## 8 学習結果をONNXファイルに変換\n",
        "\n",
        "#@markdown 学習結果をONNXファイルに変換します。 \n",
        "\n",
        "#@markdown ONNXファイルに変換するモデルを選択してください。\n",
        "\n",
        "#@markdown (基本的にvc_conf_passは設定変更不要です)\n",
        "model_save_dic = \"tutorial\" #@param {type:\"string\"}\n",
        "model_pass = \"G_latest_99999999.pth\" #@param {type:\"string\"}\n",
        "vc_conf_pass = \"configs/myprofile.conf\" #@param {type:\"string\"}\n",
        "\n",
        "!python onnx_export.py --config_file logs/$model_save_dic/config.json --client_conf configs/myprofile.conf --convert_pth logs/$model_save_dic/$model_pass\n",
        "\n",
        "\n",
        "#@markdown 変換が終わるとlogs内にあるmodelの保存先ディレクトリにONNXファイルが生成されています。  \n",
        "\n",
        "#@markdown ONNXを使ったクライアントの実行には、このディレクトリ内の **config.json** と **G_xxxx.onnx** の2ファイルが必要です。  \n",
        "\n",
        "#@markdown クライアントのlogsディレクトリ内に、わかりやすいように同じ名前でフォルダを作成し、この2ファイルをコピーしてください。\n",
        "\n",
        "#@markdown (v1.3.1.x系のように **config.json** と **G_xxxx.pth** でもクライアントは実行できますが、onnxを使った方が高速です。)"
      ],
      "metadata": {
        "cellView": "form",
        "id": "U3syR7eIbyV1"
      },
      "execution_count": null,
      "outputs": []
    },
    {
      "cell_type": "markdown",
      "metadata": {
        "id": "KBvOKa9eJFjJ"
      },
      "source": [
        "​"
      ]
    },
    {
      "cell_type": "markdown",
      "metadata": {
        "id": "08CW8VAygNyH"
      },
      "source": [
        "## サポート専用\n",
        "\n",
        "**以下はお問い合わせの際、指示があった場合のみ使用してください。**"
      ]
    },
    {
      "cell_type": "code",
      "execution_count": null,
      "metadata": {
        "cellView": "form",
        "id": "737DzMeregPQ"
      },
      "outputs": [],
      "source": [
        "#@markdown **このセルは無視してください。**\n",
        "\n",
        "#@markdown このセルは、セルが一括で実行されることを防ぐためのものです。\n",
        "\n",
        "#@markdown  実行してしまった場合は、左側のアイコンをクリックしてセルを終了してください。\n",
        "\n",
        "#一括実行の阻止\n",
        "import time\n",
        "time.sleep(86400)"
      ]
    },
    {
      "cell_type": "markdown",
      "metadata": {
        "id": "RK5ZIR8wfmrx"
      },
      "source": [
        "​"
      ]
    },
    {
      "cell_type": "code",
      "execution_count": null,
      "metadata": {
        "cellView": "form",
        "id": "RCOgnUaVI1eN"
      },
      "outputs": [],
      "source": [
        "#@title ## サポート用ファイルの作成\n",
        "\n",
        "#@markdown セルを実行すると内部処理が行われ、zipファイルが操作中のPC(またはタブレットなど)にダウンロードされます。\n",
        "\n",
        "#@markdown ダウンロードされるzipファイルには、以下のファイルや情報が含まれます。\n",
        "\n",
        "#@markdown * MMVC_Trainerフォルダ内のファイルの一覧\n",
        "#@markdown * このノートブックで使用されている変数のリスト\n",
        "#@markdown * このセッション内の出力\n",
        "#@markdown * configsフォルダ内及びlogsフォルダ内のファイル\n",
        "#@markdown * version.txt (MMVCのバージョンが記載されているファイル)\n",
        "\n",
        "#@markdown これらには、ユーザーの個人情報が含まれる可能性があります。ダウンロード完了後、ファイルを共有する前に、必ず内容をご確認ください。\n",
        "\n",
        "#@markdown ファイルのダウンロードが完了したら、ランタイムを切断してください。\n",
        "\n",
        "#ファイルの準備\n",
        "variable_txt = \"/mmvc-debug/mmvc-\" + str(nowt) + \"-variable.txt\"\n",
        "tree_dic_txt = \"/mmvc-debug/mmvc-\" + str(nowt) + \"-tree_dic.txt\"\n",
        "version_txt = \"/mmvc-debug/mmvc-\" + str(nowt) + \"-version_txt.txt\"\n",
        "export_zip = \"/mmvc-debug-\" + str(nowt)\n",
        "export_zipp = \"/mmvc-debug-\" + str(nowt) + \".zip\"\n",
        "\n",
        "#変数の値を保存\n",
        "#whos使うと長い文字列が省略されるため、変数毎に取得する\n",
        "##変数の一覧を取得\n",
        "vlist = %who_ls\n",
        "##それぞれの変数で値を取得してファイルに保存\n",
        "with open(variable_txt, 'w') as f:\n",
        "  for ev in vlist:\n",
        "    try:\n",
        "      #変数名(str)\n",
        "      print(ev, end=' : ', file=f) \n",
        "      #変数の型(変数名がstrとなっているためevalでkeyに直す)\n",
        "      print(type(eval(ev)), end=' : ', file=f)\n",
        "      #変数の内容(変数名がstrとなっているためevalでkeyに直す)\n",
        "      print(eval(ev), file=f)\n",
        "    except:\n",
        "      pass\n",
        "\n",
        "#tree\n",
        "!apt install tree\n",
        "##ディレクトリ内以下\n",
        "import traceback\n",
        "with open(tree_dic_txt, 'w') as f:\n",
        "  try:\n",
        "    !tree {path} > {tree_dic_txt}\n",
        "  except Exception as e:\n",
        "    print(\"An error occurred!\", file=f)\n",
        "    print(e, file=f)\n",
        "    print(traceback.print_exc(), file=f)\n",
        "\n",
        "#version.txtの保存\n",
        "try:\n",
        "  !cp {path}/version.txt {version_txt}\n",
        "except:\n",
        "  pass\n",
        "\n",
        "#logsとconfigsの保存\n",
        "#directoryが無かったらmkdirしてno-dic.txt置く\n",
        "!if [ -d {path}/logs ]; then if [ -z \"$(ls {path}/logs)\" ]; then touch {path}/logs/no-file.txt;else find . -name \"*.log\" -exec cp {} ~/mmvc-debug/logs \\;; fi;else mkdir /mmvc-debug/logs && touch /mmvc-debug/logs/no-dic.txt; fi\n",
        "!if [ -d {path}/configs ]; then if [ -z \"$(ls {path}/configs)\" ]; then touch {path}/configs/no-file.txt;else cp -rp {path}/configs /mmvc-debug/configs; fi;else mkdir /mmvc-debug/configs && touch /mmvc-debug/configs/no-dic.txt; fi\n",
        "\n",
        "#直近のtracebackの保存\n",
        "with open('/mmvc-debug/traceback.txt', 'w') as f:\n",
        "  try:\n",
        "    print(sys.last_type, sys.last_value, sys.last_traceback, file=f)\n",
        "  except:\n",
        "    pass\n",
        "\n",
        "#ccaptureの保存\n",
        "!mkdir /mmvc-debug/ccapture\n",
        "with open('/mmvc-debug/ccapture/one_prepare_notebook.txt', 'w') as f:\n",
        "  try:\n",
        "    print(one_prepare_notebook, file=f)\n",
        "  except:\n",
        "    pass\n",
        "\n",
        "with open('/mmvc-debug/ccapture/two_prepare_repo.txt', 'w') as f:\n",
        "  try:\n",
        "    print(two_prepare_repo, file=f)\n",
        "  except:\n",
        "    pass\n",
        "\n",
        "with open('/mmvc-debug/ccapture/three_prepare_training.txt', 'w') as f:\n",
        "  try:\n",
        "    print(three_prepare_training, file=f)\n",
        "  except:\n",
        "    pass\n",
        "\n",
        "with open('/mmvc-debug/ccapture/four_check_gpu.txt', 'w') as f:\n",
        "  try:\n",
        "    print(four_check_gpu, file=f)\n",
        "  except:\n",
        "    pass\n",
        "\n",
        "with open('/mmvc-debug/ccapture/five_launch_tensorboard.txt', 'w') as f:\n",
        "  try:\n",
        "    print(five_launch_tensorboard, file=f)\n",
        "  except:\n",
        "    pass\n",
        "\n",
        "with open('/mmvc-debug/ccapture/six_settings_for_training.txt', 'w') as f:\n",
        "  try:\n",
        "    print(six_settings_for_training, file=f)\n",
        "  except:\n",
        "    pass\n",
        "\n",
        "with open('/mmvc-debug/ccapture/eight_convert_to_onnx.txt', 'w') as f:\n",
        "  try:\n",
        "    print(eight_convert_to_onnx, file=f)\n",
        "  except:\n",
        "    pass\n",
        "\n",
        "#zipにまとめる\n",
        "!apt install zip\n",
        "!zip {export_zip} -r /mmvc-debug\n",
        "\n",
        "#colabのfilesモジュールを使ってダウンロード\n",
        "from google.colab import files\n",
        "files.download(export_zipp)"
      ]
    }
  ],
  "metadata": {
    "accelerator": "GPU",
    "colab": {
      "provenance": []
    },
    "gpuClass": "premium",
    "kernelspec": {
      "display_name": "Python 3.9.6 64-bit",
      "language": "python",
      "name": "python3"
    },
    "language_info": {
      "name": "python",
      "version": "3.9.6 (tags/v3.9.6:db3ff76, Jun 28 2021, 15:26:21) [MSC v.1929 64 bit (AMD64)]"
    },
    "vscode": {
      "interpreter": {
        "hash": "d3394867249fd41ee68869925f4586b97ae8a94f3c93a4c25403e9e75f272611"
      }
    }
  },
  "nbformat": 4,
  "nbformat_minor": 0
}